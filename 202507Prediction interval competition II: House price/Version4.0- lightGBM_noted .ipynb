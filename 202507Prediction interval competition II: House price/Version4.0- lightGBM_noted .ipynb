{
 "cells": [
  {
   "cell_type": "markdown",
   "id": "5d778da0",
   "metadata": {
    "papermill": {
     "duration": 0.005131,
     "end_time": "2025-07-08T11:22:01.994761",
     "exception": false,
     "start_time": "2025-07-08T11:22:01.989630",
     "status": "completed"
    },
    "tags": []
   },
   "source": [
    "# PI-II: Demo QRF\n",
    "\n",
    "A simple example of fitting a quantile regression forest (QRF) using the [quantile-forest](https://zillow.github.io/quantile-forest/) package to estimate prediction intervals.\n",
    "\n",
    "Starter script for the [Prediction interval competition II: House price](https://www.kaggle.com/competitions/prediction-interval-competition-ii-house-price/overview) competition."
   ]
  },
  {
   "cell_type": "code",
   "execution_count": 1,
   "id": "ab639473",
   "metadata": {
    "execution": {
     "iopub.execute_input": "2025-07-08T11:22:02.003745Z",
     "iopub.status.busy": "2025-07-08T11:22:02.003427Z",
     "iopub.status.idle": "2025-07-08T11:22:12.802416Z",
     "shell.execute_reply": "2025-07-08T11:22:12.801215Z"
    },
    "papermill": {
     "duration": 10.805825,
     "end_time": "2025-07-08T11:22:12.804434",
     "exception": false,
     "start_time": "2025-07-08T11:22:01.998609",
     "status": "completed"
    },
    "tags": []
   },
   "outputs": [
    {
     "name": "stdout",
     "output_type": "stream",
     "text": [
      "\u001b[2K   \u001b[90m━━━━━━━━━━━━━━━━━━━━━━━━━━━━━━━━━━━━━━━━\u001b[0m \u001b[32m1.9/1.9 MB\u001b[0m \u001b[31m20.0 MB/s\u001b[0m eta \u001b[36m0:00:00\u001b[0m\r\n",
      "\u001b[2K   \u001b[90m━━━━━━━━━━━━━━━━━━━━━━━━━━━━━━━━━━━━━━━━\u001b[0m \u001b[32m12.9/12.9 MB\u001b[0m \u001b[31m77.9 MB/s\u001b[0m eta \u001b[36m0:00:00\u001b[0m\r\n",
      "\u001b[?25h"
     ]
    }
   ],
   "source": [
    "!pip install -q quantile-forest 2>/dev/null  # package for quantile regression forests"
   ]
  },
  {
   "cell_type": "code",
   "execution_count": 2,
   "id": "f9360d6e",
   "metadata": {
    "execution": {
     "iopub.execute_input": "2025-07-08T11:22:12.814566Z",
     "iopub.status.busy": "2025-07-08T11:22:12.814201Z",
     "iopub.status.idle": "2025-07-08T11:22:28.550598Z",
     "shell.execute_reply": "2025-07-08T11:22:28.549475Z"
    },
    "papermill": {
     "duration": 15.743583,
     "end_time": "2025-07-08T11:22:28.552410",
     "exception": false,
     "start_time": "2025-07-08T11:22:12.808827",
     "status": "completed"
    },
    "tags": []
   },
   "outputs": [],
   "source": [
    "import numpy as np\n",
    "import pandas as pd\n",
    "from quantile_forest import RandomForestQuantileRegressor\n",
    "from sklearn.base import BaseEstimator, TransformerMixin, RegressorMixin\n",
    "from sklearn.impute import SimpleImputer\n",
    "from sklearn.model_selection import train_test_split\n",
    "from sklearn.preprocessing import OrdinalEncoder\n",
    "from sklearn.ensemble import GradientBoostingRegressor\n",
    "import lightgbm as lgb\n",
    "from typing import Tuple\n",
    "import torch\n",
    "from sklearn.metrics import mean_squared_error"
   ]
  },
  {
   "cell_type": "code",
   "execution_count": 3,
   "id": "6dbe69ce",
   "metadata": {
    "execution": {
     "iopub.execute_input": "2025-07-08T11:22:28.562380Z",
     "iopub.status.busy": "2025-07-08T11:22:28.561673Z",
     "iopub.status.idle": "2025-07-08T11:22:28.566712Z",
     "shell.execute_reply": "2025-07-08T11:22:28.565941Z"
    },
    "papermill": {
     "duration": 0.012035,
     "end_time": "2025-07-08T11:22:28.568709",
     "exception": false,
     "start_time": "2025-07-08T11:22:28.556674",
     "status": "completed"
    },
    "tags": []
   },
   "outputs": [],
   "source": [
    "random_state = 0\n",
    "np.random.seed(random_state)\n",
    "\n",
    "# Competition variables.\n",
    "base_path = \"/kaggle/input/prediction-interval-competition-ii-house-price/\"\n",
    "alpha = 0.1  # the specified competition alpha (i.e., 90% coverage)"
   ]
  },
  {
   "cell_type": "code",
   "execution_count": 4,
   "id": "c000cc82",
   "metadata": {
    "execution": {
     "iopub.execute_input": "2025-07-08T11:22:28.578736Z",
     "iopub.status.busy": "2025-07-08T11:22:28.578410Z",
     "iopub.status.idle": "2025-07-08T11:22:28.585832Z",
     "shell.execute_reply": "2025-07-08T11:22:28.584893Z"
    },
    "papermill": {
     "duration": 0.014364,
     "end_time": "2025-07-08T11:22:28.587409",
     "exception": false,
     "start_time": "2025-07-08T11:22:28.573045",
     "status": "completed"
    },
    "tags": []
   },
   "outputs": [],
   "source": [
    "#定义损失函数\n",
    "def winkler_score(y_true, lower, upper, alpha=0.1, return_coverage=False):\n",
    "    \"\"\"Compute the Winkler Interval Score for prediction intervals.\n",
    "\n",
    "    Args:\n",
    "        y_true (array-like): True observed values.\n",
    "        lower (array-like): Lower bounds of prediction intervals.\n",
    "        upper (array-like): Upper bounds of prediction intervals.\n",
    "        alpha (float): Significance level (e.g., 0.1 for 90% intervals).\n",
    "        return_coverage (bool): If True, also return empirical coverage.\n",
    "\n",
    "    Returns:\n",
    "        score (float): Mean Winkler Score.\n",
    "        coverage (float, optional): Proportion of true values within intervals.\n",
    "    \"\"\"\n",
    "    y_true = np.asarray(y_true)\n",
    "    lower = np.asarray(lower)\n",
    "    upper = np.asarray(upper)\n",
    "\n",
    "    width = upper - lower\n",
    "    penalty_lower = 2 / alpha * (lower - y_true)\n",
    "    penalty_upper = 2 / alpha * (y_true - upper)\n",
    "\n",
    "    score = width.copy()\n",
    "    score += np.where(y_true < lower, penalty_lower, 0)\n",
    "    score += np.where(y_true > upper, penalty_upper, 0)\n",
    "\n",
    "    if return_coverage:\n",
    "        inside = (y_true >= lower) & (y_true <= upper)\n",
    "        coverage = np.mean(inside)\n",
    "        return np.mean(score), coverage\n",
    "\n",
    "    return np.mean(score)"
   ]
  },
  {
   "cell_type": "code",
   "execution_count": 5,
   "id": "3fd0ca65",
   "metadata": {
    "execution": {
     "iopub.execute_input": "2025-07-08T11:22:28.596772Z",
     "iopub.status.busy": "2025-07-08T11:22:28.596459Z",
     "iopub.status.idle": "2025-07-08T11:22:31.720095Z",
     "shell.execute_reply": "2025-07-08T11:22:31.719177Z"
    },
    "papermill": {
     "duration": 3.130375,
     "end_time": "2025-07-08T11:22:31.721856",
     "exception": false,
     "start_time": "2025-07-08T11:22:28.591481",
     "status": "completed"
    },
    "tags": []
   },
   "outputs": [],
   "source": [
    "df = pd.read_csv(base_path + \"dataset.csv\", index_col=\"id\", parse_dates=[\"sale_date\"])\n",
    "df_test = pd.read_csv(base_path + \"test.csv\", index_col=\"id\", parse_dates=[\"sale_date\"])"
   ]
  },
  {
   "cell_type": "markdown",
   "id": "41b60e2d",
   "metadata": {
    "papermill": {
     "duration": 0.004017,
     "end_time": "2025-07-08T11:22:31.730337",
     "exception": false,
     "start_time": "2025-07-08T11:22:31.726320",
     "status": "completed"
    },
    "tags": []
   },
   "source": [
    "## Data Preparation\n",
    "\n",
    "Prepare the data, including separating features and target, encoding categoricals, imputation, and simple feature engineering."
   ]
  },
  {
   "cell_type": "code",
   "execution_count": 6,
   "id": "da2ad3b1",
   "metadata": {
    "execution": {
     "iopub.execute_input": "2025-07-08T11:22:31.739676Z",
     "iopub.status.busy": "2025-07-08T11:22:31.739345Z",
     "iopub.status.idle": "2025-07-08T11:22:31.900398Z",
     "shell.execute_reply": "2025-07-08T11:22:31.899444Z"
    },
    "papermill": {
     "duration": 0.167856,
     "end_time": "2025-07-08T11:22:31.902195",
     "exception": false,
     "start_time": "2025-07-08T11:22:31.734339",
     "status": "completed"
    },
    "tags": []
   },
   "outputs": [],
   "source": [
    "# Split features and target.\n",
    "X = df.drop(\"sale_price\", axis=1)\n",
    "y = df[\"sale_price\"]\n",
    "\n",
    "# Split train/val and test.\n",
    "X_train, X_val, y_train, y_val = train_test_split(\n",
    "    X, y, test_size=0.50, random_state=random_state\n",
    ")\n",
    "X_test = df_test.copy()"
   ]
  },
  {
   "cell_type": "code",
   "execution_count": 7,
   "id": "988b4ff1",
   "metadata": {
    "execution": {
     "iopub.execute_input": "2025-07-08T11:22:31.912186Z",
     "iopub.status.busy": "2025-07-08T11:22:31.911735Z",
     "iopub.status.idle": "2025-07-08T11:22:32.899238Z",
     "shell.execute_reply": "2025-07-08T11:22:32.898235Z"
    },
    "papermill": {
     "duration": 0.994577,
     "end_time": "2025-07-08T11:22:32.900978",
     "exception": false,
     "start_time": "2025-07-08T11:22:31.906401",
     "status": "completed"
    },
    "tags": []
   },
   "outputs": [],
   "source": [
    "#对类别特征的编码\n",
    "cat_cols = X_train.select_dtypes(include=[\"object\"]).columns.tolist()\n",
    "encoder = OrdinalEncoder(handle_unknown=\"use_encoded_value\", unknown_value=-1)\n",
    "X_train[cat_cols] = encoder.fit_transform(X_train[cat_cols])\n",
    "X_val[cat_cols] = encoder.transform(X_val[cat_cols])\n",
    "X_test[cat_cols] = encoder.transform(X_test[cat_cols])"
   ]
  },
  {
   "cell_type": "code",
   "execution_count": 8,
   "id": "2d4dfc05",
   "metadata": {
    "execution": {
     "iopub.execute_input": "2025-07-08T11:22:32.911330Z",
     "iopub.status.busy": "2025-07-08T11:22:32.910895Z",
     "iopub.status.idle": "2025-07-08T11:22:34.095439Z",
     "shell.execute_reply": "2025-07-08T11:22:34.094384Z"
    },
    "papermill": {
     "duration": 1.191649,
     "end_time": "2025-07-08T11:22:34.097273",
     "exception": false,
     "start_time": "2025-07-08T11:22:32.905624",
     "status": "completed"
    },
    "tags": []
   },
   "outputs": [],
   "source": [
    "# 对缺失值的插补填充\n",
    "num_cols = X_train.select_dtypes(include=\"number\").columns.tolist()\n",
    "\n",
    "num_imputer = SimpleImputer(strategy=\"median\")\n",
    "cat_imputer = SimpleImputer(strategy=\"most_frequent\")\n",
    "\n",
    "\n",
    "def impute(df, cols, imputer, fit=False):\n",
    "    \"\"\"Helper function for imputation.\"\"\"\n",
    "    if fit:\n",
    "        return pd.DataFrame(imputer.fit_transform(df[cols]), columns=cols, index=df.index)\n",
    "    else:\n",
    "        return pd.DataFrame(imputer.transform(df[cols]), columns=cols, index=df.index)\n",
    "\n",
    "\n",
    "X_train[num_cols] = impute(X_train, num_cols, num_imputer, fit=True)\n",
    "X_val[num_cols] = impute(X_val, num_cols, num_imputer)\n",
    "X_test[num_cols] = impute(X_test, num_cols, num_imputer)\n",
    "\n",
    "X_train[cat_cols] = impute(X_train, cat_cols, cat_imputer, fit=True)\n",
    "X_val[cat_cols] = impute(X_val, cat_cols, cat_imputer)\n",
    "X_test[cat_cols] = impute(X_test, cat_cols, cat_imputer)"
   ]
  },
  {
   "cell_type": "code",
   "execution_count": 9,
   "id": "dec17f17",
   "metadata": {
    "execution": {
     "iopub.execute_input": "2025-07-08T11:22:34.108723Z",
     "iopub.status.busy": "2025-07-08T11:22:34.108393Z",
     "iopub.status.idle": "2025-07-08T11:22:34.341536Z",
     "shell.execute_reply": "2025-07-08T11:22:34.340326Z"
    },
    "papermill": {
     "duration": 0.240668,
     "end_time": "2025-07-08T11:22:34.343490",
     "exception": false,
     "start_time": "2025-07-08T11:22:34.102822",
     "status": "completed"
    },
    "tags": []
   },
   "outputs": [],
   "source": [
    "#一个编码器将销售日期转换为每年中的周数，并应用于训练集、验证集和测试集\n",
    "class SaleDateEncoder(BaseEstimator, TransformerMixin):\n",
    "    \"\"\"Encode sale date as a week of the year feature.\"\"\"\n",
    "\n",
    "    def __init__(self, date_column=\"sale_date\"):\n",
    "        self.date_column = date_column\n",
    "\n",
    "    def fit(self, X, y=None):\n",
    "        return self\n",
    "\n",
    "    def transform(self, X):\n",
    "        X = X.assign(\n",
    "            **{\n",
    "                \"sale_week\": lambda x: x[\"sale_date\"].dt.isocalendar().week,\n",
    "            }\n",
    "        ).drop(columns=[\"sale_date\"])\n",
    "        return X\n",
    "\n",
    "    def fit_transform(self, X):\n",
    "        return self.fit(self, X).transform(X)\n",
    "\n",
    "\n",
    "# Sale date encoding.\n",
    "saledate_encoder = SaleDateEncoder(date_column=\"sale_date\")\n",
    "X_train = saledate_encoder.fit_transform(X_train)\n",
    "X_val = saledate_encoder.transform(X_val)\n",
    "X_test = saledate_encoder.transform(X_test)"
   ]
  },
  {
   "cell_type": "markdown",
   "id": "02cd2c45",
   "metadata": {
    "papermill": {
     "duration": 0.004294,
     "end_time": "2025-07-08T11:22:34.352070",
     "exception": false,
     "start_time": "2025-07-08T11:22:34.347776",
     "status": "completed"
    },
    "tags": []
   },
   "source": [
    "## Model Fitting\n",
    "\n",
    "Fit a QRF model and use it to estimate a nominal marginal coverage of 90% (quantiles 0.05 and 0.95)."
   ]
  },
  {
   "cell_type": "code",
   "execution_count": 10,
   "id": "65429f3a",
   "metadata": {
    "execution": {
     "iopub.execute_input": "2025-07-08T11:22:34.363756Z",
     "iopub.status.busy": "2025-07-08T11:22:34.363435Z",
     "iopub.status.idle": "2025-07-08T11:22:34.376075Z",
     "shell.execute_reply": "2025-07-08T11:22:34.374737Z"
    },
    "papermill": {
     "duration": 0.022149,
     "end_time": "2025-07-08T11:22:34.378420",
     "exception": false,
     "start_time": "2025-07-08T11:22:34.356271",
     "status": "completed"
    },
    "tags": []
   },
   "outputs": [],
   "source": [
    "class GBDTIntervalRegressor(BaseEstimator, RegressorMixin):\n",
    "    \"\"\"\n",
    "    基于 LightGBM 的分位数回归器，支持多个分位点训练并输出预测区间。\n",
    "    默认使用 LightGBM，保留 sklearn GBDT 兼容接口。\n",
    "    \"\"\"\n",
    "\n",
    "    def __init__(\n",
    "        self,\n",
    "        backend: str = \"lightgbm\",   # 默认改为 lightgbm\n",
    "        n_estimators: int = 100,\n",
    "        learning_rate: float = 0.1,\n",
    "        max_depth: int = -1,          # LightGBM 用 -1 表示无深度限制\n",
    "        quantiles: Tuple[float, float, float] = (0.05, 0.5, 0.95),\n",
    "        **kwargs\n",
    "    ):\n",
    "        self.backend = backend\n",
    "        self.n_estimators = n_estimators\n",
    "        self.learning_rate = learning_rate\n",
    "        self.max_depth = max_depth\n",
    "        self.quantiles = quantiles\n",
    "        self.kwargs = kwargs\n",
    "        self.models_ = {}\n",
    "\n",
    "    def fit(self, X, y):\n",
    "        for q in self.quantiles:\n",
    "            if self.backend == \"sklearn\":\n",
    "                # sklearn GBDT\n",
    "                from sklearn.ensemble import GradientBoostingRegressor\n",
    "                model = GradientBoostingRegressor(\n",
    "                    loss=\"quantile\",\n",
    "                    alpha=q,\n",
    "                    n_estimators=self.n_estimators,\n",
    "                    learning_rate=self.learning_rate,\n",
    "                    max_depth=self.max_depth,\n",
    "                    **self.kwargs\n",
    "                )\n",
    "            else:\n",
    "                # LightGBM 量化回归\n",
    "                params = dict(\n",
    "                    objective=\"quantile\",\n",
    "                    alpha=q,\n",
    "                    n_estimators=self.n_estimators,\n",
    "                    learning_rate=self.learning_rate,\n",
    "                    max_depth=self.max_depth,\n",
    "                    verbose=-1,\n",
    "                    **self.kwargs\n",
    "                )\n",
    "                model = lgb.LGBMRegressor(**params)\n",
    "            model.fit(X, y)\n",
    "            self.models_[q] = model\n",
    "        return self\n",
    "\n",
    "    def predict(self, X) -> np.ndarray:\n",
    "        lower = self.models_[self.quantiles[0]].predict(X)\n",
    "        upper = self.models_[self.quantiles[2]].predict(X)\n",
    "        # 返回一个 (n_samples, 2) 的数组，分别是下界和上界\n",
    "        return np.stack((lower, upper), axis=1)\n",
    "\n",
    "    @property\n",
    "    def feature_importances_(self):\n",
    "        # 返回所有分位数模型的重要性字典\n",
    "        return {q: m.feature_importances_ for q, m in self.models_.items()}\n",
    "\n",
    "    def get_params(self, deep=True):\n",
    "        return {\n",
    "            \"backend\": self.backend,\n",
    "            \"n_estimators\": self.n_estimators,\n",
    "            \"learning_rate\": self.learning_rate,\n",
    "            \"max_depth\": self.max_depth,\n",
    "            \"quantiles\": self.quantiles,\n",
    "            **self.kwargs,\n",
    "        }\n",
    "\n",
    "    def set_params(self, **params):\n",
    "        for k, v in params.items():\n",
    "            setattr(self, k, v)\n",
    "        return self\n"
   ]
  },
  {
   "cell_type": "code",
   "execution_count": 11,
   "id": "5fa1ef71",
   "metadata": {
    "execution": {
     "iopub.execute_input": "2025-07-08T11:22:34.390982Z",
     "iopub.status.busy": "2025-07-08T11:22:34.389895Z",
     "iopub.status.idle": "2025-07-08T11:22:39.129907Z",
     "shell.execute_reply": "2025-07-08T11:22:39.128619Z"
    },
    "papermill": {
     "duration": 4.74787,
     "end_time": "2025-07-08T11:22:39.131841",
     "exception": false,
     "start_time": "2025-07-08T11:22:34.383971",
     "status": "completed"
    },
    "tags": []
   },
   "outputs": [],
   "source": [
    "model = GBDTIntervalRegressor().fit(X_train, y_train)"
   ]
  },
  {
   "cell_type": "code",
   "execution_count": 12,
   "id": "1513250b",
   "metadata": {
    "execution": {
     "iopub.execute_input": "2025-07-08T11:22:39.145619Z",
     "iopub.status.busy": "2025-07-08T11:22:39.143670Z",
     "iopub.status.idle": "2025-07-08T11:22:39.960996Z",
     "shell.execute_reply": "2025-07-08T11:22:39.959951Z"
    },
    "papermill": {
     "duration": 0.827246,
     "end_time": "2025-07-08T11:22:39.964678",
     "exception": false,
     "start_time": "2025-07-08T11:22:39.137432",
     "status": "completed"
    },
    "tags": []
   },
   "outputs": [],
   "source": [
    "y_val_pred = model.predict(X_val)\n",
    "y_val_pred = pd.DataFrame(y_val_pred, columns=[\"pi_lower\", \"pi_upper\"])\n",
    "#产生每个样本的预测区间并保存"
   ]
  },
  {
   "cell_type": "markdown",
   "id": "5e00fa93",
   "metadata": {
    "papermill": {
     "duration": 0.004321,
     "end_time": "2025-07-08T11:22:39.974073",
     "exception": false,
     "start_time": "2025-07-08T11:22:39.969752",
     "status": "completed"
    },
    "tags": []
   },
   "source": [
    "## Evaluation\n",
    "\n",
    "Evaluate the QRF predictions on the validation data."
   ]
  },
  {
   "cell_type": "code",
   "execution_count": 13,
   "id": "d193e017",
   "metadata": {
    "execution": {
     "iopub.execute_input": "2025-07-08T11:22:39.984643Z",
     "iopub.status.busy": "2025-07-08T11:22:39.983977Z",
     "iopub.status.idle": "2025-07-08T11:22:39.998441Z",
     "shell.execute_reply": "2025-07-08T11:22:39.997390Z"
    },
    "papermill": {
     "duration": 0.021855,
     "end_time": "2025-07-08T11:22:40.000112",
     "exception": false,
     "start_time": "2025-07-08T11:22:39.978257",
     "status": "completed"
    },
    "tags": []
   },
   "outputs": [
    {
     "name": "stdout",
     "output_type": "stream",
     "text": [
      "Mean Winkler Score: 852216.27\n",
      "Coverage: 88.9 %\n"
     ]
    }
   ],
   "source": [
    "mws, coverage = winkler_score(\n",
    "    y_val,\n",
    "    y_val_pred[\"pi_lower\"],\n",
    "    y_val_pred[\"pi_upper\"],\n",
    "    alpha=alpha,\n",
    "    return_coverage=True,\n",
    ")\n",
    "\n",
    "print(\"Mean Winkler Score:\", round(mws, 2))\n",
    "print(\"Coverage:\", round(coverage * 100, 1), \"%\")"
   ]
  },
  {
   "cell_type": "markdown",
   "id": "3da3330b",
   "metadata": {
    "papermill": {
     "duration": 0.004322,
     "end_time": "2025-07-08T11:22:40.008978",
     "exception": false,
     "start_time": "2025-07-08T11:22:40.004656",
     "status": "completed"
    },
    "tags": []
   },
   "source": [
    "## Submission"
   ]
  },
  {
   "cell_type": "code",
   "execution_count": 14,
   "id": "318393a0",
   "metadata": {
    "execution": {
     "iopub.execute_input": "2025-07-08T11:22:40.019902Z",
     "iopub.status.busy": "2025-07-08T11:22:40.019504Z",
     "iopub.status.idle": "2025-07-08T11:22:42.925353Z",
     "shell.execute_reply": "2025-07-08T11:22:42.924393Z"
    },
    "papermill": {
     "duration": 2.913214,
     "end_time": "2025-07-08T11:22:42.926904",
     "exception": false,
     "start_time": "2025-07-08T11:22:40.013690",
     "status": "completed"
    },
    "tags": []
   },
   "outputs": [
    {
     "data": {
      "text/html": [
       "<div>\n",
       "<style scoped>\n",
       "    .dataframe tbody tr th:only-of-type {\n",
       "        vertical-align: middle;\n",
       "    }\n",
       "\n",
       "    .dataframe tbody tr th {\n",
       "        vertical-align: top;\n",
       "    }\n",
       "\n",
       "    .dataframe thead th {\n",
       "        text-align: right;\n",
       "    }\n",
       "</style>\n",
       "<table border=\"1\" class=\"dataframe\">\n",
       "  <thead>\n",
       "    <tr style=\"text-align: right;\">\n",
       "      <th></th>\n",
       "      <th>id</th>\n",
       "      <th>pi_lower</th>\n",
       "      <th>pi_upper</th>\n",
       "    </tr>\n",
       "  </thead>\n",
       "  <tbody>\n",
       "    <tr>\n",
       "      <th>0</th>\n",
       "      <td>200000</td>\n",
       "      <td>633363.878323</td>\n",
       "      <td>1.056079e+06</td>\n",
       "    </tr>\n",
       "    <tr>\n",
       "      <th>1</th>\n",
       "      <td>200001</td>\n",
       "      <td>631880.185569</td>\n",
       "      <td>1.655240e+06</td>\n",
       "    </tr>\n",
       "    <tr>\n",
       "      <th>2</th>\n",
       "      <td>200002</td>\n",
       "      <td>333175.944207</td>\n",
       "      <td>8.932533e+05</td>\n",
       "    </tr>\n",
       "    <tr>\n",
       "      <th>3</th>\n",
       "      <td>200003</td>\n",
       "      <td>213309.754548</td>\n",
       "      <td>5.541152e+05</td>\n",
       "    </tr>\n",
       "    <tr>\n",
       "      <th>4</th>\n",
       "      <td>200004</td>\n",
       "      <td>374864.983011</td>\n",
       "      <td>1.215710e+06</td>\n",
       "    </tr>\n",
       "    <tr>\n",
       "      <th>...</th>\n",
       "      <td>...</td>\n",
       "      <td>...</td>\n",
       "      <td>...</td>\n",
       "    </tr>\n",
       "    <tr>\n",
       "      <th>199995</th>\n",
       "      <td>399995</td>\n",
       "      <td>224520.917127</td>\n",
       "      <td>9.700038e+05</td>\n",
       "    </tr>\n",
       "    <tr>\n",
       "      <th>199996</th>\n",
       "      <td>399996</td>\n",
       "      <td>251099.811036</td>\n",
       "      <td>7.252624e+05</td>\n",
       "    </tr>\n",
       "    <tr>\n",
       "      <th>199997</th>\n",
       "      <td>399997</td>\n",
       "      <td>202601.135827</td>\n",
       "      <td>5.247203e+05</td>\n",
       "    </tr>\n",
       "    <tr>\n",
       "      <th>199998</th>\n",
       "      <td>399998</td>\n",
       "      <td>410841.859899</td>\n",
       "      <td>1.161602e+06</td>\n",
       "    </tr>\n",
       "    <tr>\n",
       "      <th>199999</th>\n",
       "      <td>399999</td>\n",
       "      <td>464745.135221</td>\n",
       "      <td>7.767825e+05</td>\n",
       "    </tr>\n",
       "  </tbody>\n",
       "</table>\n",
       "<p>200000 rows × 3 columns</p>\n",
       "</div>"
      ],
      "text/plain": [
       "            id       pi_lower      pi_upper\n",
       "0       200000  633363.878323  1.056079e+06\n",
       "1       200001  631880.185569  1.655240e+06\n",
       "2       200002  333175.944207  8.932533e+05\n",
       "3       200003  213309.754548  5.541152e+05\n",
       "4       200004  374864.983011  1.215710e+06\n",
       "...        ...            ...           ...\n",
       "199995  399995  224520.917127  9.700038e+05\n",
       "199996  399996  251099.811036  7.252624e+05\n",
       "199997  399997  202601.135827  5.247203e+05\n",
       "199998  399998  410841.859899  1.161602e+06\n",
       "199999  399999  464745.135221  7.767825e+05\n",
       "\n",
       "[200000 rows x 3 columns]"
      ]
     },
     "execution_count": 14,
     "metadata": {},
     "output_type": "execute_result"
    }
   ],
   "source": [
    "# Predict intervals on test set.\n",
    "test_preds = model.predict(X_test)\n",
    "\n",
    "sample_submission = pd.read_csv(base_path + \"sample_submission.csv\")\n",
    "sample_submission[\"pi_lower\"] = test_preds[:, 0]\n",
    "sample_submission[\"pi_upper\"] = test_preds[:, 1]\n",
    "sample_submission.to_csv(\"submission.csv\",\n",
    "                         index=False,\n",
    "                         float_format=\"%.6f\")\n",
    "\n",
    "sample_submission"
   ]
  }
 ],
 "metadata": {
  "kaggle": {
   "accelerator": "none",
   "dataSources": [
    {
     "databundleVersionId": 11917221,
     "sourceId": 99650,
     "sourceType": "competition"
    }
   ],
   "dockerImageVersionId": 31012,
   "isGpuEnabled": false,
   "isInternetEnabled": true,
   "language": "python",
   "sourceType": "notebook"
  },
  "kernelspec": {
   "display_name": "Python 3",
   "language": "python",
   "name": "python3"
  },
  "language_info": {
   "codemirror_mode": {
    "name": "ipython",
    "version": 3
   },
   "file_extension": ".py",
   "mimetype": "text/x-python",
   "name": "python",
   "nbconvert_exporter": "python",
   "pygments_lexer": "ipython3",
   "version": "3.11.11"
  },
  "papermill": {
   "default_parameters": {},
   "duration": 49.854293,
   "end_time": "2025-07-08T11:22:45.968796",
   "environment_variables": {},
   "exception": null,
   "input_path": "__notebook__.ipynb",
   "output_path": "__notebook__.ipynb",
   "parameters": {},
   "start_time": "2025-07-08T11:21:56.114503",
   "version": "2.6.0"
  }
 },
 "nbformat": 4,
 "nbformat_minor": 5
}
