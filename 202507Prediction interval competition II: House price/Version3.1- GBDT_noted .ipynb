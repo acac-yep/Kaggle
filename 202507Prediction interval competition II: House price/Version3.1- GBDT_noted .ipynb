{
 "cells": [
  {
   "cell_type": "markdown",
   "id": "6d76cb05",
   "metadata": {
    "papermill": {
     "duration": 0.004148,
     "end_time": "2025-07-08T07:56:13.954040",
     "exception": false,
     "start_time": "2025-07-08T07:56:13.949892",
     "status": "completed"
    },
    "tags": []
   },
   "source": [
    "# PI-II: Demo QRF\n",
    "\n",
    "A simple example of fitting a quantile regression forest (QRF) using the [quantile-forest](https://zillow.github.io/quantile-forest/) package to estimate prediction intervals.\n",
    "\n",
    "Starter script for the [Prediction interval competition II: House price](https://www.kaggle.com/competitions/prediction-interval-competition-ii-house-price/overview) competition."
   ]
  },
  {
   "cell_type": "code",
   "execution_count": 1,
   "id": "dc84af16",
   "metadata": {
    "execution": {
     "iopub.execute_input": "2025-07-08T07:56:13.962456Z",
     "iopub.status.busy": "2025-07-08T07:56:13.962144Z",
     "iopub.status.idle": "2025-07-08T07:56:22.882783Z",
     "shell.execute_reply": "2025-07-08T07:56:22.881588Z"
    },
    "papermill": {
     "duration": 8.927171,
     "end_time": "2025-07-08T07:56:22.884992",
     "exception": false,
     "start_time": "2025-07-08T07:56:13.957821",
     "status": "completed"
    },
    "tags": []
   },
   "outputs": [
    {
     "name": "stdout",
     "output_type": "stream",
     "text": [
      "\u001b[2K   \u001b[90m━━━━━━━━━━━━━━━━━━━━━━━━━━━━━━━━━━━━━━━━\u001b[0m \u001b[32m1.9/1.9 MB\u001b[0m \u001b[31m22.2 MB/s\u001b[0m eta \u001b[36m0:00:00\u001b[0m\r\n",
      "\u001b[2K   \u001b[90m━━━━━━━━━━━━━━━━━━━━━━━━━━━━━━━━━━━━━━━━\u001b[0m \u001b[32m12.9/12.9 MB\u001b[0m \u001b[31m94.7 MB/s\u001b[0m eta \u001b[36m0:00:00\u001b[0m\r\n",
      "\u001b[?25h"
     ]
    }
   ],
   "source": [
    "!pip install -q quantile-forest 2>/dev/null  # package for quantile regression forests"
   ]
  },
  {
   "cell_type": "code",
   "execution_count": 2,
   "id": "eb927b2a",
   "metadata": {
    "execution": {
     "iopub.execute_input": "2025-07-08T07:56:22.900416Z",
     "iopub.status.busy": "2025-07-08T07:56:22.900072Z",
     "iopub.status.idle": "2025-07-08T07:56:35.357153Z",
     "shell.execute_reply": "2025-07-08T07:56:35.356376Z"
    },
    "papermill": {
     "duration": 12.4666,
     "end_time": "2025-07-08T07:56:35.358877",
     "exception": false,
     "start_time": "2025-07-08T07:56:22.892277",
     "status": "completed"
    },
    "tags": []
   },
   "outputs": [],
   "source": [
    "import numpy as np\n",
    "import pandas as pd\n",
    "from quantile_forest import RandomForestQuantileRegressor\n",
    "from sklearn.base import BaseEstimator, TransformerMixin, RegressorMixin\n",
    "from sklearn.impute import SimpleImputer\n",
    "from sklearn.model_selection import train_test_split\n",
    "from sklearn.preprocessing import OrdinalEncoder\n",
    "from sklearn.ensemble import GradientBoostingRegressor\n",
    "import lightgbm as lgb\n",
    "from typing import Tuple\n",
    "import torch"
   ]
  },
  {
   "cell_type": "code",
   "execution_count": 3,
   "id": "f88839dd",
   "metadata": {
    "execution": {
     "iopub.execute_input": "2025-07-08T07:56:35.368164Z",
     "iopub.status.busy": "2025-07-08T07:56:35.367563Z",
     "iopub.status.idle": "2025-07-08T07:56:35.372385Z",
     "shell.execute_reply": "2025-07-08T07:56:35.371606Z"
    },
    "papermill": {
     "duration": 0.011087,
     "end_time": "2025-07-08T07:56:35.373946",
     "exception": false,
     "start_time": "2025-07-08T07:56:35.362859",
     "status": "completed"
    },
    "tags": []
   },
   "outputs": [],
   "source": [
    "random_state = 0\n",
    "np.random.seed(random_state)\n",
    "\n",
    "# Competition variables.\n",
    "base_path = \"/kaggle/input/prediction-interval-competition-ii-house-price/\"\n",
    "alpha = 0.1  # the specified competition alpha (i.e., 90% coverage)"
   ]
  },
  {
   "cell_type": "code",
   "execution_count": 4,
   "id": "f90b3e08",
   "metadata": {
    "execution": {
     "iopub.execute_input": "2025-07-08T07:56:35.383143Z",
     "iopub.status.busy": "2025-07-08T07:56:35.382827Z",
     "iopub.status.idle": "2025-07-08T07:56:35.389127Z",
     "shell.execute_reply": "2025-07-08T07:56:35.388301Z"
    },
    "papermill": {
     "duration": 0.012448,
     "end_time": "2025-07-08T07:56:35.390452",
     "exception": false,
     "start_time": "2025-07-08T07:56:35.378004",
     "status": "completed"
    },
    "tags": []
   },
   "outputs": [],
   "source": [
    "#定义损失函数\n",
    "def winkler_score(y_true, lower, upper, alpha=0.1, return_coverage=False):\n",
    "    \"\"\"Compute the Winkler Interval Score for prediction intervals.\n",
    "\n",
    "    Args:\n",
    "        y_true (array-like): True observed values.\n",
    "        lower (array-like): Lower bounds of prediction intervals.\n",
    "        upper (array-like): Upper bounds of prediction intervals.\n",
    "        alpha (float): Significance level (e.g., 0.1 for 90% intervals).\n",
    "        return_coverage (bool): If True, also return empirical coverage.\n",
    "\n",
    "    Returns:\n",
    "        score (float): Mean Winkler Score.\n",
    "        coverage (float, optional): Proportion of true values within intervals.\n",
    "    \"\"\"\n",
    "    y_true = np.asarray(y_true)\n",
    "    lower = np.asarray(lower)\n",
    "    upper = np.asarray(upper)\n",
    "\n",
    "    width = upper - lower\n",
    "    penalty_lower = 2 / alpha * (lower - y_true)\n",
    "    penalty_upper = 2 / alpha * (y_true - upper)\n",
    "\n",
    "    score = width.copy()\n",
    "    score += np.where(y_true < lower, penalty_lower, 0)\n",
    "    score += np.where(y_true > upper, penalty_upper, 0)\n",
    "\n",
    "    if return_coverage:\n",
    "        inside = (y_true >= lower) & (y_true <= upper)\n",
    "        coverage = np.mean(inside)\n",
    "        return np.mean(score), coverage\n",
    "\n",
    "    return np.mean(score)"
   ]
  },
  {
   "cell_type": "code",
   "execution_count": 5,
   "id": "8aa1b1f0",
   "metadata": {
    "execution": {
     "iopub.execute_input": "2025-07-08T07:56:35.399146Z",
     "iopub.status.busy": "2025-07-08T07:56:35.398863Z",
     "iopub.status.idle": "2025-07-08T07:56:37.857454Z",
     "shell.execute_reply": "2025-07-08T07:56:37.856495Z"
    },
    "papermill": {
     "duration": 2.464932,
     "end_time": "2025-07-08T07:56:37.859206",
     "exception": false,
     "start_time": "2025-07-08T07:56:35.394274",
     "status": "completed"
    },
    "tags": []
   },
   "outputs": [],
   "source": [
    "df = pd.read_csv(base_path + \"dataset.csv\", index_col=\"id\", parse_dates=[\"sale_date\"])\n",
    "df_test = pd.read_csv(base_path + \"test.csv\", index_col=\"id\", parse_dates=[\"sale_date\"])"
   ]
  },
  {
   "cell_type": "markdown",
   "id": "8e8264ea",
   "metadata": {
    "papermill": {
     "duration": 0.003552,
     "end_time": "2025-07-08T07:56:37.866779",
     "exception": false,
     "start_time": "2025-07-08T07:56:37.863227",
     "status": "completed"
    },
    "tags": []
   },
   "source": [
    "## Data Preparation\n",
    "\n",
    "Prepare the data, including separating features and target, encoding categoricals, imputation, and simple feature engineering."
   ]
  },
  {
   "cell_type": "code",
   "execution_count": 6,
   "id": "7c4ecb93",
   "metadata": {
    "execution": {
     "iopub.execute_input": "2025-07-08T07:56:37.875376Z",
     "iopub.status.busy": "2025-07-08T07:56:37.874763Z",
     "iopub.status.idle": "2025-07-08T07:56:38.028728Z",
     "shell.execute_reply": "2025-07-08T07:56:38.027733Z"
    },
    "papermill": {
     "duration": 0.160082,
     "end_time": "2025-07-08T07:56:38.030431",
     "exception": false,
     "start_time": "2025-07-08T07:56:37.870349",
     "status": "completed"
    },
    "tags": []
   },
   "outputs": [],
   "source": [
    "# Split features and target.\n",
    "X = df.drop(\"sale_price\", axis=1)\n",
    "y = df[\"sale_price\"]\n",
    "\n",
    "# Split train/val and test.\n",
    "X_train, X_val, y_train, y_val = train_test_split(\n",
    "    X, y, test_size=0.50, random_state=random_state\n",
    ")\n",
    "X_test = df_test.copy()"
   ]
  },
  {
   "cell_type": "code",
   "execution_count": 7,
   "id": "bb727c32",
   "metadata": {
    "execution": {
     "iopub.execute_input": "2025-07-08T07:56:38.039912Z",
     "iopub.status.busy": "2025-07-08T07:56:38.039255Z",
     "iopub.status.idle": "2025-07-08T07:56:38.938100Z",
     "shell.execute_reply": "2025-07-08T07:56:38.937401Z"
    },
    "papermill": {
     "duration": 0.905358,
     "end_time": "2025-07-08T07:56:38.939741",
     "exception": false,
     "start_time": "2025-07-08T07:56:38.034383",
     "status": "completed"
    },
    "tags": []
   },
   "outputs": [],
   "source": [
    "#对类别特征的编码\n",
    "cat_cols = X_train.select_dtypes(include=[\"object\"]).columns.tolist()\n",
    "encoder = OrdinalEncoder(handle_unknown=\"use_encoded_value\", unknown_value=-1)\n",
    "X_train[cat_cols] = encoder.fit_transform(X_train[cat_cols])\n",
    "X_val[cat_cols] = encoder.transform(X_val[cat_cols])\n",
    "X_test[cat_cols] = encoder.transform(X_test[cat_cols])"
   ]
  },
  {
   "cell_type": "code",
   "execution_count": 8,
   "id": "89963b76",
   "metadata": {
    "execution": {
     "iopub.execute_input": "2025-07-08T07:56:38.949079Z",
     "iopub.status.busy": "2025-07-08T07:56:38.948437Z",
     "iopub.status.idle": "2025-07-08T07:56:40.031953Z",
     "shell.execute_reply": "2025-07-08T07:56:40.031182Z"
    },
    "papermill": {
     "duration": 1.08972,
     "end_time": "2025-07-08T07:56:40.033478",
     "exception": false,
     "start_time": "2025-07-08T07:56:38.943758",
     "status": "completed"
    },
    "tags": []
   },
   "outputs": [],
   "source": [
    "# 对缺失值的插补填充\n",
    "num_cols = X_train.select_dtypes(include=\"number\").columns.tolist()\n",
    "\n",
    "num_imputer = SimpleImputer(strategy=\"median\")\n",
    "cat_imputer = SimpleImputer(strategy=\"most_frequent\")\n",
    "\n",
    "\n",
    "def impute(df, cols, imputer, fit=False):\n",
    "    \"\"\"Helper function for imputation.\"\"\"\n",
    "    if fit:\n",
    "        return pd.DataFrame(imputer.fit_transform(df[cols]), columns=cols, index=df.index)\n",
    "    else:\n",
    "        return pd.DataFrame(imputer.transform(df[cols]), columns=cols, index=df.index)\n",
    "\n",
    "\n",
    "X_train[num_cols] = impute(X_train, num_cols, num_imputer, fit=True)\n",
    "X_val[num_cols] = impute(X_val, num_cols, num_imputer)\n",
    "X_test[num_cols] = impute(X_test, num_cols, num_imputer)\n",
    "\n",
    "X_train[cat_cols] = impute(X_train, cat_cols, cat_imputer, fit=True)\n",
    "X_val[cat_cols] = impute(X_val, cat_cols, cat_imputer)\n",
    "X_test[cat_cols] = impute(X_test, cat_cols, cat_imputer)"
   ]
  },
  {
   "cell_type": "code",
   "execution_count": 9,
   "id": "054f0534",
   "metadata": {
    "execution": {
     "iopub.execute_input": "2025-07-08T07:56:40.043012Z",
     "iopub.status.busy": "2025-07-08T07:56:40.042284Z",
     "iopub.status.idle": "2025-07-08T07:56:40.247719Z",
     "shell.execute_reply": "2025-07-08T07:56:40.247041Z"
    },
    "papermill": {
     "duration": 0.211852,
     "end_time": "2025-07-08T07:56:40.249283",
     "exception": false,
     "start_time": "2025-07-08T07:56:40.037431",
     "status": "completed"
    },
    "tags": []
   },
   "outputs": [],
   "source": [
    "#一个编码器将销售日期转换为每年中的周数，并应用于训练集、验证集和测试集\n",
    "class SaleDateEncoder(BaseEstimator, TransformerMixin):\n",
    "    \"\"\"Encode sale date as a week of the year feature.\"\"\"\n",
    "\n",
    "    def __init__(self, date_column=\"sale_date\"):\n",
    "        self.date_column = date_column\n",
    "\n",
    "    def fit(self, X, y=None):\n",
    "        return self\n",
    "\n",
    "    def transform(self, X):\n",
    "        X = X.assign(\n",
    "            **{\n",
    "                \"sale_week\": lambda x: x[\"sale_date\"].dt.isocalendar().week,\n",
    "            }\n",
    "        ).drop(columns=[\"sale_date\"])\n",
    "        return X\n",
    "\n",
    "    def fit_transform(self, X):\n",
    "        return self.fit(self, X).transform(X)\n",
    "\n",
    "\n",
    "# Sale date encoding.\n",
    "saledate_encoder = SaleDateEncoder(date_column=\"sale_date\")\n",
    "X_train = saledate_encoder.fit_transform(X_train)\n",
    "X_val = saledate_encoder.transform(X_val)\n",
    "X_test = saledate_encoder.transform(X_test)"
   ]
  },
  {
   "cell_type": "markdown",
   "id": "4300fabe",
   "metadata": {
    "papermill": {
     "duration": 0.003498,
     "end_time": "2025-07-08T07:56:40.256729",
     "exception": false,
     "start_time": "2025-07-08T07:56:40.253231",
     "status": "completed"
    },
    "tags": []
   },
   "source": [
    "## Model Fitting\n",
    "\n",
    "Fit a QRF model and use it to estimate a nominal marginal coverage of 90% (quantiles 0.05 and 0.95)."
   ]
  },
  {
   "cell_type": "code",
   "execution_count": 10,
   "id": "f3507cfc",
   "metadata": {
    "execution": {
     "iopub.execute_input": "2025-07-08T07:56:40.265267Z",
     "iopub.status.busy": "2025-07-08T07:56:40.264978Z",
     "iopub.status.idle": "2025-07-08T07:56:40.274982Z",
     "shell.execute_reply": "2025-07-08T07:56:40.274050Z"
    },
    "papermill": {
     "duration": 0.016062,
     "end_time": "2025-07-08T07:56:40.276314",
     "exception": false,
     "start_time": "2025-07-08T07:56:40.260252",
     "status": "completed"
    },
    "tags": []
   },
   "outputs": [],
   "source": [
    "#一个梯度提升决策树，代替了原版的随机森林\n",
    "class GBDTIntervalRegressor(BaseEstimator, RegressorMixin):\n",
    "    \"\"\"\n",
    "    基于 scikit-learn GBDT / LightGBM 的分位数回归器，\n",
    "    支持同时训练多个分位数模型并输出区间。\n",
    "    \"\"\"\n",
    "\n",
    "    def __init__(\n",
    "        self,\n",
    "        backend: str = \"sklearn\",     # 或 \"lightgbm\"\n",
    "        n_estimators: int = 100,\n",
    "        learning_rate: float = 0.1,\n",
    "        max_depth: int = 3,\n",
    "        quantiles: Tuple[float, float, float] = (0.05, 0.5, 0.95),\n",
    "        **kwargs\n",
    "    ):\n",
    "        self.backend = backend\n",
    "        self.n_estimators = n_estimators\n",
    "        self.learning_rate = learning_rate\n",
    "        self.max_depth = max_depth\n",
    "        self.quantiles = quantiles\n",
    "        self.kwargs = kwargs\n",
    "        self.models_ = {}  # 存放 q 下界、中位数、上界三棵树\n",
    "\n",
    "    def fit(self, X, y):\n",
    "        \"\"\"\n",
    "        训练三个子模型：下分位数、中位数、上分位数\n",
    "        \"\"\"\n",
    "        for q in self.quantiles:\n",
    "            if self.backend == \"sklearn\":\n",
    "                model = GradientBoostingRegressor(\n",
    "                    loss=\"quantile\", alpha=q,\n",
    "                    n_estimators=self.n_estimators,\n",
    "                    learning_rate=self.learning_rate,\n",
    "                    max_depth=self.max_depth,\n",
    "                    **self.kwargs\n",
    "                )\n",
    "            else:  # lightgbm\n",
    "                params = dict(\n",
    "                    objective=\"quantile\",\n",
    "                    alpha=q,\n",
    "                    n_estimators=self.n_estimators,\n",
    "                    learning_rate=self.learning_rate,\n",
    "                    max_depth=self.max_depth,\n",
    "                    **self.kwargs\n",
    "                )\n",
    "                model = lgb.LGBMRegressor(**params)\n",
    "            model.fit(X, y)\n",
    "            self.models_[q] = model\n",
    "        return self\n",
    "\n",
    "    def predict(self, X) -> np.ndarray:\n",
    "        lower = self.models_[self.quantiles[0]].predict(X)\n",
    "        upper = self.models_[self.quantiles[2]].predict(X)\n",
    "        # 返回一个 (n_samples, 2) 的矩阵\n",
    "        return np.stack((lower, upper), axis=1)\n",
    "\n",
    "\n",
    "    @property\n",
    "    def feature_importances_(self):\n",
    "        \"\"\"返回各个模型的重要性（可以取平均或单独分析）。\"\"\"\n",
    "        imps = {q: m.feature_importances_ for q, m in self.models_.items()}\n",
    "        return imps\n",
    "\n",
    "    def get_params(self, deep=True):\n",
    "        \"\"\"支持 sklearn 参数搜索\"\"\"\n",
    "        return {\n",
    "            \"backend\": self.backend,\n",
    "            \"n_estimators\": self.n_estimators,\n",
    "            \"learning_rate\": self.learning_rate,\n",
    "            \"max_depth\": self.max_depth,\n",
    "            \"quantiles\": self.quantiles,\n",
    "            **self.kwargs,\n",
    "        }\n",
    "\n",
    "    def set_params(self, **params):\n",
    "        for k, v in params.items():\n",
    "            setattr(self, k, v)\n",
    "        return self"
   ]
  },
  {
   "cell_type": "code",
   "execution_count": 11,
   "id": "19e78cad",
   "metadata": {
    "execution": {
     "iopub.execute_input": "2025-07-08T07:56:40.284350Z",
     "iopub.status.busy": "2025-07-08T07:56:40.284112Z",
     "iopub.status.idle": "2025-07-08T07:58:46.514707Z",
     "shell.execute_reply": "2025-07-08T07:58:46.513938Z"
    },
    "papermill": {
     "duration": 126.236476,
     "end_time": "2025-07-08T07:58:46.516422",
     "exception": false,
     "start_time": "2025-07-08T07:56:40.279946",
     "status": "completed"
    },
    "tags": []
   },
   "outputs": [],
   "source": [
    "model = GBDTIntervalRegressor().fit(X_train, y_train)"
   ]
  },
  {
   "cell_type": "code",
   "execution_count": 12,
   "id": "c6760321",
   "metadata": {
    "execution": {
     "iopub.execute_input": "2025-07-08T07:58:46.526183Z",
     "iopub.status.busy": "2025-07-08T07:58:46.525408Z",
     "iopub.status.idle": "2025-07-08T07:58:47.016683Z",
     "shell.execute_reply": "2025-07-08T07:58:47.015700Z"
    },
    "papermill": {
     "duration": 0.497463,
     "end_time": "2025-07-08T07:58:47.018221",
     "exception": false,
     "start_time": "2025-07-08T07:58:46.520758",
     "status": "completed"
    },
    "tags": []
   },
   "outputs": [],
   "source": [
    "y_val_pred = model.predict(X_val)\n",
    "y_val_pred = pd.DataFrame(y_val_pred, columns=[\"pi_lower\", \"pi_upper\"])\n",
    "#产生每个样本的预测区间并保存"
   ]
  },
  {
   "cell_type": "markdown",
   "id": "73d29ce3",
   "metadata": {
    "papermill": {
     "duration": 0.003615,
     "end_time": "2025-07-08T07:58:47.025745",
     "exception": false,
     "start_time": "2025-07-08T07:58:47.022130",
     "status": "completed"
    },
    "tags": []
   },
   "source": [
    "## Evaluation\n",
    "\n",
    "Evaluate the QRF predictions on the validation data."
   ]
  },
  {
   "cell_type": "code",
   "execution_count": 13,
   "id": "9a2b724a",
   "metadata": {
    "execution": {
     "iopub.execute_input": "2025-07-08T07:58:47.034308Z",
     "iopub.status.busy": "2025-07-08T07:58:47.034006Z",
     "iopub.status.idle": "2025-07-08T07:58:47.043018Z",
     "shell.execute_reply": "2025-07-08T07:58:47.042074Z"
    },
    "papermill": {
     "duration": 0.015313,
     "end_time": "2025-07-08T07:58:47.044728",
     "exception": false,
     "start_time": "2025-07-08T07:58:47.029415",
     "status": "completed"
    },
    "tags": []
   },
   "outputs": [
    {
     "name": "stdout",
     "output_type": "stream",
     "text": [
      "Mean Winkler Score: 901740.02\n",
      "Coverage: 89.8 %\n"
     ]
    }
   ],
   "source": [
    "mws, coverage = winkler_score(\n",
    "    y_val,\n",
    "    y_val_pred[\"pi_lower\"],\n",
    "    y_val_pred[\"pi_upper\"],\n",
    "    alpha=alpha,\n",
    "    return_coverage=True,\n",
    ")\n",
    "\n",
    "print(\"Mean Winkler Score:\", round(mws, 2))\n",
    "print(\"Coverage:\", round(coverage * 100, 1), \"%\")"
   ]
  },
  {
   "cell_type": "markdown",
   "id": "48d701e9",
   "metadata": {
    "papermill": {
     "duration": 0.004252,
     "end_time": "2025-07-08T07:58:47.052975",
     "exception": false,
     "start_time": "2025-07-08T07:58:47.048723",
     "status": "completed"
    },
    "tags": []
   },
   "source": [
    "## Submission"
   ]
  },
  {
   "cell_type": "code",
   "execution_count": 14,
   "id": "43de7eca",
   "metadata": {
    "execution": {
     "iopub.execute_input": "2025-07-08T07:58:47.061593Z",
     "iopub.status.busy": "2025-07-08T07:58:47.061271Z",
     "iopub.status.idle": "2025-07-08T07:58:49.001883Z",
     "shell.execute_reply": "2025-07-08T07:58:49.000991Z"
    },
    "papermill": {
     "duration": 1.946866,
     "end_time": "2025-07-08T07:58:49.003586",
     "exception": false,
     "start_time": "2025-07-08T07:58:47.056720",
     "status": "completed"
    },
    "tags": []
   },
   "outputs": [
    {
     "data": {
      "text/html": [
       "<div>\n",
       "<style scoped>\n",
       "    .dataframe tbody tr th:only-of-type {\n",
       "        vertical-align: middle;\n",
       "    }\n",
       "\n",
       "    .dataframe tbody tr th {\n",
       "        vertical-align: top;\n",
       "    }\n",
       "\n",
       "    .dataframe thead th {\n",
       "        text-align: right;\n",
       "    }\n",
       "</style>\n",
       "<table border=\"1\" class=\"dataframe\">\n",
       "  <thead>\n",
       "    <tr style=\"text-align: right;\">\n",
       "      <th></th>\n",
       "      <th>id</th>\n",
       "      <th>pi_lower</th>\n",
       "      <th>pi_upper</th>\n",
       "    </tr>\n",
       "  </thead>\n",
       "  <tbody>\n",
       "    <tr>\n",
       "      <th>0</th>\n",
       "      <td>200000</td>\n",
       "      <td>553799.744720</td>\n",
       "      <td>1.056133e+06</td>\n",
       "    </tr>\n",
       "    <tr>\n",
       "      <th>1</th>\n",
       "      <td>200001</td>\n",
       "      <td>628734.264791</td>\n",
       "      <td>1.844173e+06</td>\n",
       "    </tr>\n",
       "    <tr>\n",
       "      <th>2</th>\n",
       "      <td>200002</td>\n",
       "      <td>331887.387839</td>\n",
       "      <td>1.299444e+06</td>\n",
       "    </tr>\n",
       "    <tr>\n",
       "      <th>3</th>\n",
       "      <td>200003</td>\n",
       "      <td>216573.992742</td>\n",
       "      <td>4.376405e+05</td>\n",
       "    </tr>\n",
       "    <tr>\n",
       "      <th>4</th>\n",
       "      <td>200004</td>\n",
       "      <td>271605.456153</td>\n",
       "      <td>1.309509e+06</td>\n",
       "    </tr>\n",
       "    <tr>\n",
       "      <th>...</th>\n",
       "      <td>...</td>\n",
       "      <td>...</td>\n",
       "      <td>...</td>\n",
       "    </tr>\n",
       "    <tr>\n",
       "      <th>199995</th>\n",
       "      <td>399995</td>\n",
       "      <td>219653.639384</td>\n",
       "      <td>8.934583e+05</td>\n",
       "    </tr>\n",
       "    <tr>\n",
       "      <th>199996</th>\n",
       "      <td>399996</td>\n",
       "      <td>239270.515570</td>\n",
       "      <td>8.018955e+05</td>\n",
       "    </tr>\n",
       "    <tr>\n",
       "      <th>199997</th>\n",
       "      <td>399997</td>\n",
       "      <td>194613.374663</td>\n",
       "      <td>5.396006e+05</td>\n",
       "    </tr>\n",
       "    <tr>\n",
       "      <th>199998</th>\n",
       "      <td>399998</td>\n",
       "      <td>390722.163434</td>\n",
       "      <td>1.424492e+06</td>\n",
       "    </tr>\n",
       "    <tr>\n",
       "      <th>199999</th>\n",
       "      <td>399999</td>\n",
       "      <td>461542.412974</td>\n",
       "      <td>1.007827e+06</td>\n",
       "    </tr>\n",
       "  </tbody>\n",
       "</table>\n",
       "<p>200000 rows × 3 columns</p>\n",
       "</div>"
      ],
      "text/plain": [
       "            id       pi_lower      pi_upper\n",
       "0       200000  553799.744720  1.056133e+06\n",
       "1       200001  628734.264791  1.844173e+06\n",
       "2       200002  331887.387839  1.299444e+06\n",
       "3       200003  216573.992742  4.376405e+05\n",
       "4       200004  271605.456153  1.309509e+06\n",
       "...        ...            ...           ...\n",
       "199995  399995  219653.639384  8.934583e+05\n",
       "199996  399996  239270.515570  8.018955e+05\n",
       "199997  399997  194613.374663  5.396006e+05\n",
       "199998  399998  390722.163434  1.424492e+06\n",
       "199999  399999  461542.412974  1.007827e+06\n",
       "\n",
       "[200000 rows x 3 columns]"
      ]
     },
     "execution_count": 14,
     "metadata": {},
     "output_type": "execute_result"
    }
   ],
   "source": [
    "# Predict intervals on test set.\n",
    "test_preds = model.predict(X_test)\n",
    "\n",
    "sample_submission = pd.read_csv(base_path + \"sample_submission.csv\")\n",
    "sample_submission[\"pi_lower\"] = test_preds[:, 0]\n",
    "sample_submission[\"pi_upper\"] = test_preds[:, 1]\n",
    "sample_submission.to_csv(\"submission.csv\",\n",
    "                         index=False,\n",
    "                         float_format=\"%.6f\")\n",
    "\n",
    "sample_submission"
   ]
  }
 ],
 "metadata": {
  "kaggle": {
   "accelerator": "none",
   "dataSources": [
    {
     "databundleVersionId": 11917221,
     "sourceId": 99650,
     "sourceType": "competition"
    }
   ],
   "dockerImageVersionId": 31012,
   "isGpuEnabled": false,
   "isInternetEnabled": true,
   "language": "python",
   "sourceType": "notebook"
  },
  "kernelspec": {
   "display_name": "Python 3",
   "language": "python",
   "name": "python3"
  },
  "language_info": {
   "codemirror_mode": {
    "name": "ipython",
    "version": 3
   },
   "file_extension": ".py",
   "mimetype": "text/x-python",
   "name": "python",
   "nbconvert_exporter": "python",
   "pygments_lexer": "ipython3",
   "version": "3.11.11"
  },
  "papermill": {
   "default_parameters": {},
   "duration": 162.491988,
   "end_time": "2025-07-08T07:58:51.619682",
   "environment_variables": {},
   "exception": null,
   "input_path": "__notebook__.ipynb",
   "output_path": "__notebook__.ipynb",
   "parameters": {},
   "start_time": "2025-07-08T07:56:09.127694",
   "version": "2.6.0"
  }
 },
 "nbformat": 4,
 "nbformat_minor": 5
}
