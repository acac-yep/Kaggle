{
 "cells": [
  {
   "cell_type": "code",
   "execution_count": 1,
   "id": "eef4f553",
   "metadata": {
    "execution": {
     "iopub.execute_input": "2025-07-16T05:48:07.468741Z",
     "iopub.status.busy": "2025-07-16T05:48:07.468413Z",
     "iopub.status.idle": "2025-07-16T05:48:15.211690Z",
     "shell.execute_reply": "2025-07-16T05:48:15.210718Z"
    },
    "papermill": {
     "duration": 7.750878,
     "end_time": "2025-07-16T05:48:15.213258",
     "exception": false,
     "start_time": "2025-07-16T05:48:07.462380",
     "status": "completed"
    },
    "tags": []
   },
   "outputs": [
    {
     "name": "stdout",
     "output_type": "stream",
     "text": [
      "\u001b[2K   \u001b[90m━━━━━━━━━━━━━━━━━━━━━━━━━━━━━━━━━━━━━━━━\u001b[0m \u001b[32m173.2/173.2 kB\u001b[0m \u001b[31m4.2 MB/s\u001b[0m eta \u001b[36m0:00:00\u001b[0m\r\n",
      "\u001b[2K   \u001b[90m━━━━━━━━━━━━━━━━━━━━━━━━━━━━━━━━━━━━━━━━\u001b[0m \u001b[32m12.9/12.9 MB\u001b[0m \u001b[31m88.4 MB/s\u001b[0m eta \u001b[36m0:00:00\u001b[0m\r\n",
      "\u001b[?25h\u001b[31mERROR: pip's dependency resolver does not currently take into account all the packages that are installed. This behaviour is the source of the following dependency conflicts.\r\n",
      "category-encoders 2.7.0 requires scikit-learn<1.6.0,>=1.0.0, but you have scikit-learn 1.7.0 which is incompatible.\r\n",
      "cesium 0.12.4 requires numpy<3.0,>=2.0, but you have numpy 1.26.4 which is incompatible.\r\n",
      "sklearn-compat 0.1.3 requires scikit-learn<1.7,>=1.2, but you have scikit-learn 1.7.0 which is incompatible.\u001b[0m\u001b[31m\r\n",
      "\u001b[0m"
     ]
    }
   ],
   "source": [
    "!pip install mapie -qq"
   ]
  },
  {
   "cell_type": "code",
   "execution_count": 2,
   "id": "4eeb1a2f",
   "metadata": {
    "execution": {
     "iopub.execute_input": "2025-07-16T05:48:15.223023Z",
     "iopub.status.busy": "2025-07-16T05:48:15.222763Z",
     "iopub.status.idle": "2025-07-16T05:48:15.716754Z",
     "shell.execute_reply": "2025-07-16T05:48:15.715736Z"
    },
    "papermill": {
     "duration": 0.500413,
     "end_time": "2025-07-16T05:48:15.718280",
     "exception": false,
     "start_time": "2025-07-16T05:48:15.217867",
     "status": "completed"
    },
    "tags": []
   },
   "outputs": [
    {
     "name": "stdout",
     "output_type": "stream",
     "text": [
      "\r\n",
      "Usage:   \r\n",
      "  /usr/bin/python3 -m pip install [options] <requirement specifier> [package-index-options] ...\r\n",
      "  /usr/bin/python3 -m pip install [options] -r <requirements file> [package-index-options] ...\r\n",
      "  /usr/bin/python3 -m pip install [options] [-e] <vcs project url> ...\r\n",
      "  /usr/bin/python3 -m pip install [options] [-e] <local project path> ...\r\n",
      "  /usr/bin/python3 -m pip install [options] <archive url/path> ...\r\n",
      "\r\n",
      "no such option: --install-option\r\n",
      "Note: you may need to restart the kernel to use updated packages.\n"
     ]
    }
   ],
   "source": [
    "pip install lightgbm --install-option=--gpu"
   ]
  },
  {
   "cell_type": "code",
   "execution_count": 3,
   "id": "b01b6fc1",
   "metadata": {
    "execution": {
     "iopub.execute_input": "2025-07-16T05:48:15.728063Z",
     "iopub.status.busy": "2025-07-16T05:48:15.727794Z",
     "iopub.status.idle": "2025-07-16T05:48:22.654906Z",
     "shell.execute_reply": "2025-07-16T05:48:22.654064Z"
    },
    "papermill": {
     "duration": 6.933507,
     "end_time": "2025-07-16T05:48:22.656324",
     "exception": false,
     "start_time": "2025-07-16T05:48:15.722817",
     "status": "completed"
    },
    "tags": []
   },
   "outputs": [],
   "source": [
    "# --- 0. Import Libraries ---\n",
    "import pandas as pd\n",
    "import numpy as np\n",
    "import lightgbm as lgb\n",
    "import seaborn as sns\n",
    "import matplotlib.pyplot as plt\n",
    "from sklearn.model_selection import KFold\n",
    "from sklearn.preprocessing import OrdinalEncoder\n",
    "from mapie.regression import ConformalizedQuantileRegressor\n",
    "import warnings\n",
    "import os"
   ]
  },
  {
   "cell_type": "code",
   "execution_count": 4,
   "id": "a006e3b2",
   "metadata": {
    "execution": {
     "iopub.execute_input": "2025-07-16T05:48:22.666082Z",
     "iopub.status.busy": "2025-07-16T05:48:22.665596Z",
     "iopub.status.idle": "2025-07-16T05:48:22.669119Z",
     "shell.execute_reply": "2025-07-16T05:48:22.668580Z"
    },
    "papermill": {
     "duration": 0.00938,
     "end_time": "2025-07-16T05:48:22.670130",
     "exception": false,
     "start_time": "2025-07-16T05:48:22.660750",
     "status": "completed"
    },
    "tags": []
   },
   "outputs": [],
   "source": [
    "warnings.filterwarnings('ignore')"
   ]
  },
  {
   "cell_type": "code",
   "execution_count": 5,
   "id": "e5299f47",
   "metadata": {
    "execution": {
     "iopub.execute_input": "2025-07-16T05:48:22.679115Z",
     "iopub.status.busy": "2025-07-16T05:48:22.678917Z",
     "iopub.status.idle": "2025-07-16T05:48:22.684097Z",
     "shell.execute_reply": "2025-07-16T05:48:22.683571Z"
    },
    "papermill": {
     "duration": 0.01099,
     "end_time": "2025-07-16T05:48:22.685197",
     "exception": false,
     "start_time": "2025-07-16T05:48:22.674207",
     "status": "completed"
    },
    "tags": []
   },
   "outputs": [],
   "source": [
    "class CFG:\n",
    "    # Global settings\n",
    "    SEED = 42\n",
    "    N_SPLITS = 5  # Number of folds for cross-validation\n",
    "    CONFIDENCE_LEVEL = 0.9  # Target confidence level (90%)\n",
    "    ALPHA = 1 - CONFIDENCE_LEVEL\n",
    "\n",
    "    # File paths\n",
    "    try:\n",
    "        # Kaggle environment\n",
    "        DATA_PATH = '/kaggle/input/prediction-interval-competition-ii-house-price/'\n",
    "        if not os.path.exists(os.path.join(DATA_PATH, 'dataset.csv')):\n",
    "            raise FileNotFoundError\n",
    "    except FileNotFoundError:\n",
    "        print(\"Kaggle path not found or files missing, switching to local path './'.\")\n",
    "        DATA_PATH = './'\n",
    "    OUTPUT_PATH = './'\n",
    "\n",
    "    # Base parameters for the quantile models\n",
    "    LGBM_PARAMS = {\n",
    "        'objective': 'quantile',\n",
    "        'metric': 'quantile',\n",
    "        'n_estimators': 2000, # Increased for early stopping\n",
    "        'subsample': 0.8,\n",
    "        'colsample_bytree': 0.5,\n",
    "        'learning_rate': 0.05,\n",
    "        'max_depth': -1,\n",
    "        'min_child_samples': 150,\n",
    "        'n_jobs': -1,\n",
    "        'random_state': SEED,\n",
    "        'verbose': -1,\n",
    "        'device': 'gpu',\n",
    "        'max_bin':255,\n",
    "        'gpu_platform_id': 0, \n",
    "        'gpu_device_id': 0,  \n",
    "    }"
   ]
  },
  {
   "cell_type": "code",
   "execution_count": 6,
   "id": "c0b5ba9a",
   "metadata": {
    "execution": {
     "iopub.execute_input": "2025-07-16T05:48:22.694296Z",
     "iopub.status.busy": "2025-07-16T05:48:22.694086Z",
     "iopub.status.idle": "2025-07-16T05:48:22.698271Z",
     "shell.execute_reply": "2025-07-16T05:48:22.697736Z"
    },
    "papermill": {
     "duration": 0.00986,
     "end_time": "2025-07-16T05:48:22.699274",
     "exception": false,
     "start_time": "2025-07-16T05:48:22.689414",
     "status": "completed"
    },
    "tags": []
   },
   "outputs": [],
   "source": [
    "def winkler_score_func(y_true, lower, upper, alpha=CFG.ALPHA):\n",
    "    \"\"\"Utility function to calculate the Winkler score.\"\"\"\n",
    "    score = np.mean(upper - lower)\n",
    "    score += np.mean(np.where(y_true < lower, (2 / alpha) * (lower - y_true), 0))\n",
    "    score += np.mean(np.where(y_true > upper, (2 / alpha) * (y_true - upper), 0))\n",
    "    return score\n"
   ]
  },
  {
   "cell_type": "code",
   "execution_count": 7,
   "id": "2a23829e",
   "metadata": {
    "execution": {
     "iopub.execute_input": "2025-07-16T05:48:22.708416Z",
     "iopub.status.busy": "2025-07-16T05:48:22.708210Z",
     "iopub.status.idle": "2025-07-16T05:48:25.032156Z",
     "shell.execute_reply": "2025-07-16T05:48:25.031537Z"
    },
    "papermill": {
     "duration": 2.33014,
     "end_time": "2025-07-16T05:48:25.033445",
     "exception": false,
     "start_time": "2025-07-16T05:48:22.703305",
     "status": "completed"
    },
    "tags": []
   },
   "outputs": [
    {
     "name": "stdout",
     "output_type": "stream",
     "text": [
      "\n",
      "--- Phase 1: Loading and Preprocessing Data ---\n"
     ]
    }
   ],
   "source": [
    "# --- 2. Data Loading and Preprocessing ---\n",
    "print(\"\\n--- Phase 1: Loading and Preprocessing Data ---\")\n",
    "try:\n",
    "    train_df_raw = pd.read_csv(os.path.join(CFG.DATA_PATH, 'dataset.csv'))\n",
    "    test_df_raw = pd.read_csv(os.path.join(CFG.DATA_PATH, 'test.csv'))\n",
    "except FileNotFoundError:\n",
    "    print(\"Error: dataset.csv or test.csv not found.\")\n",
    "    print(\"Creating dummy data for demonstration purposes.\")\n",
    "    train_df_raw = pd.DataFrame({\n",
    "        'id': range(1000), 'sale_price': np.random.rand(1000) * 500000 + 100000,\n",
    "        'sale_date': pd.to_datetime(pd.date_range(start='2022-01-01', periods=1000)),\n",
    "        'category_feature': np.random.choice(['A', 'B', 'C'], 1000)\n",
    "    })\n",
    "    test_df_raw = pd.DataFrame({\n",
    "        'id': range(1000, 1200),\n",
    "        'sale_date': pd.to_datetime(pd.date_range(start='2024-09-01', periods=200)),\n",
    "        'category_feature': np.random.choice(['A', 'B', 'C'], 200)\n",
    "    })\n"
   ]
  },
  {
   "cell_type": "code",
   "execution_count": 8,
   "id": "d1247bfa",
   "metadata": {
    "execution": {
     "iopub.execute_input": "2025-07-16T05:48:25.044764Z",
     "iopub.status.busy": "2025-07-16T05:48:25.044546Z",
     "iopub.status.idle": "2025-07-16T05:48:25.049660Z",
     "shell.execute_reply": "2025-07-16T05:48:25.049138Z"
    },
    "papermill": {
     "duration": 0.011523,
     "end_time": "2025-07-16T05:48:25.050736",
     "exception": false,
     "start_time": "2025-07-16T05:48:25.039213",
     "status": "completed"
    },
    "tags": []
   },
   "outputs": [],
   "source": [
    "def feature_engineer(df):\n",
    "    \"\"\"Simple feature engineering.\"\"\"\n",
    "    data = df.copy()\n",
    "    if 'sale_date' in data.columns:\n",
    "        data['sale_date'] = pd.to_datetime(data['sale_date'])\n",
    "        data['sale_year'] = data['sale_date'].dt.year\n",
    "        data['sale_month'] = data['sale_date'].dt.month\n",
    "        data['sale_dayofweek'] = data['sale_date'].dt.dayofweek\n",
    "        first_sale_month = data['sale_date'].dt.to_period('M').min()\n",
    "        data['months_since_first_sale'] = (data['sale_date'].dt.to_period('M') - first_sale_month).apply(lambda x: x.n)\n",
    "        data = data.drop('sale_date', axis=1)\n",
    "    cat_cols = data.select_dtypes(include=['object']).columns\n",
    "    for col in cat_cols:\n",
    "        data[col] = pd.Categorical(data[col])#给特征编码\n",
    "    return data\n"
   ]
  },
  {
   "cell_type": "code",
   "execution_count": 9,
   "id": "ad38c78a",
   "metadata": {
    "execution": {
     "iopub.execute_input": "2025-07-16T05:48:25.059860Z",
     "iopub.status.busy": "2025-07-16T05:48:25.059632Z",
     "iopub.status.idle": "2025-07-16T05:48:25.068415Z",
     "shell.execute_reply": "2025-07-16T05:48:25.067667Z"
    },
    "papermill": {
     "duration": 0.01451,
     "end_time": "2025-07-16T05:48:25.069436",
     "exception": false,
     "start_time": "2025-07-16T05:48:25.054926",
     "status": "completed"
    },
    "tags": []
   },
   "outputs": [],
   "source": [
    "def add_interaction_features(\n",
    "    X: pd.DataFrame,\n",
    "    use_house_age=True,\n",
    "    use_reno_age=True,\n",
    "    use_sqft_times_stories=True,\n",
    "    use_beds_times_baths=True,\n",
    "    use_aux_space=True,\n",
    "    use_density=True,\n",
    "    use_num_views=True,\n",
    "    use_scenic_score=True,\n",
    "    use_env_score=True\n",
    ") -> pd.DataFrame:\n",
    "    \"\"\"\n",
    "    根据控制开关添加房屋相关交互特征，返回增强后的 DataFrame。\n",
    "    所有新增特征为 float 类型。\n",
    "    \"\"\"\n",
    "\n",
    "    X = X.copy()\n",
    "\n",
    "    # 1. 房龄\n",
    "    if use_house_age:\n",
    "        X['house_age'] = (X['sale_year'] - X['year_built']).clip(lower=0).astype(float)\n",
    "\n",
    "    # 2. 装修后房龄\n",
    "    if use_reno_age:\n",
    "        reno_age = X['sale_year'] - X['year_reno']\n",
    "        house_age = X.get('house_age', (X['sale_year'] - X['year_built']).clip(lower=0))\n",
    "        X['reno_age'] = pd.Series(np.where(X['year_reno'].isna(), house_age, reno_age), index=X.index).clip(lower=0).astype(float)\n",
    "\n",
    "    # 3. 面积 × 楼层数\n",
    "    if use_sqft_times_stories:\n",
    "        X['sqft_times_stories'] = (X['sqft'] * X['stories']).astype(float)\n",
    "\n",
    "    # 4. 卫浴数 × 卧室数\n",
    "    if use_beds_times_baths:\n",
    "        X['total_baths'] = (\n",
    "            X.get('bath_full', 0) +\n",
    "            X.get('bath_3qtr', 0) * 0.75 +\n",
    "            X.get('bath_half', 0) * 0.5\n",
    "        ).astype(float)\n",
    "        X['beds_times_baths'] = (X['beds'] * X['total_baths']).astype(float)\n",
    "\n",
    "    # 5. 辅助空间（车库 + 地下室）\n",
    "    if use_aux_space:\n",
    "        X['aux_space'] = (X.get('gara_sqft', 0) + X.get('sqft_fbsmt', 0)).astype(float)\n",
    "\n",
    "    # 6. 每平方米估值\n",
    "    if use_density:\n",
    "        X['land_val_density'] = (X['land_val'] / (X['sqft_lot'] + 1e-3)).astype(float)\n",
    "        X['imp_val_density'] = (X['imp_val'] / (X['sqft'] + 1e-3)).astype(float)\n",
    "\n",
    "    # 7. 视野数量合并\n",
    "    if use_num_views:\n",
    "        view_cols = [\n",
    "            'view_rainier', 'view_olympics', 'view_cascades',\n",
    "            'view_territorial', 'view_skyline', 'view_sound',\n",
    "            'view_lakewash', 'view_lakesamm', 'view_otherwater', 'view_other'\n",
    "        ]\n",
    "        X['num_views'] = X[view_cols].fillna(0).sum(axis=1).astype(float)\n",
    "\n",
    "    # 8. 环境景观得分（靠水、高尔夫、绿地）\n",
    "    if use_scenic_score or use_env_score:\n",
    "        for col in ['wfnt', 'golf', 'greenbelt']:\n",
    "            X[col] = pd.to_numeric(X[col], errors='coerce').fillna(0)\n",
    "\n",
    "    if use_scenic_score:\n",
    "        X['scenic_score'] = (X['wfnt'] + X['golf'] + X['greenbelt']).astype(float)\n",
    "\n",
    "    if use_env_score:\n",
    "        X['env_score'] = (X.get('scenic_score', 0) - X['noise_traffic'].fillna(0)).astype(float)\n",
    "\n",
    "    return X\n"
   ]
  },
  {
   "cell_type": "code",
   "execution_count": 10,
   "id": "a986cdb6",
   "metadata": {
    "execution": {
     "iopub.execute_input": "2025-07-16T05:48:25.078681Z",
     "iopub.status.busy": "2025-07-16T05:48:25.078126Z",
     "iopub.status.idle": "2025-07-16T05:48:25.081756Z",
     "shell.execute_reply": "2025-07-16T05:48:25.081103Z"
    },
    "papermill": {
     "duration": 0.009336,
     "end_time": "2025-07-16T05:48:25.082915",
     "exception": false,
     "start_time": "2025-07-16T05:48:25.073579",
     "status": "completed"
    },
    "tags": []
   },
   "outputs": [],
   "source": [
    "def preprocess_pipeline(df):\n",
    "    \"\"\"完整预处理：时间解析 + 特征编码 + 交互特征添加\"\"\"\n",
    "    X = feature_engineer(df)\n",
    "    X = add_interaction_features(X)\n",
    "    return X\n"
   ]
  },
  {
   "cell_type": "code",
   "execution_count": 11,
   "id": "76db7265",
   "metadata": {
    "execution": {
     "iopub.execute_input": "2025-07-16T05:48:25.092234Z",
     "iopub.status.busy": "2025-07-16T05:48:25.091766Z",
     "iopub.status.idle": "2025-07-16T05:48:27.331813Z",
     "shell.execute_reply": "2025-07-16T05:48:27.330973Z"
    },
    "papermill": {
     "duration": 2.246185,
     "end_time": "2025-07-16T05:48:27.333294",
     "exception": false,
     "start_time": "2025-07-16T05:48:25.087109",
     "status": "completed"
    },
    "tags": []
   },
   "outputs": [],
   "source": [
    "train_df = preprocess_pipeline(train_df_raw)\n",
    "test_df_processed = preprocess_pipeline(test_df_raw)"
   ]
  },
  {
   "cell_type": "code",
   "execution_count": 12,
   "id": "574ccc5a",
   "metadata": {
    "execution": {
     "iopub.execute_input": "2025-07-16T05:48:27.343532Z",
     "iopub.status.busy": "2025-07-16T05:48:27.343051Z",
     "iopub.status.idle": "2025-07-16T05:48:27.348009Z",
     "shell.execute_reply": "2025-07-16T05:48:27.347435Z"
    },
    "papermill": {
     "duration": 0.010914,
     "end_time": "2025-07-16T05:48:27.349118",
     "exception": false,
     "start_time": "2025-07-16T05:48:27.338204",
     "status": "completed"
    },
    "tags": []
   },
   "outputs": [],
   "source": [
    "max_bin_size = 255\n",
    "def get_bin_size(data):\n",
    "    bin_sizes = {}\n",
    "    for col in data.columns:\n",
    "        # 获取每个特征的唯一值数量\n",
    "        unique_values = data[col].nunique()\n",
    "        bin_sizes[col] = unique_values\n",
    "    return bin_sizes\n",
    "\n",
    "# 2. 改造 bin size 过大的特征\n",
    "def change_large_bin_features(X, max_bin_size=255):\n",
    "    bin_sizes = get_bin_size(X)\n",
    "    categorical_features = X.select_dtypes(include=['object', 'category']).columns\n",
    "\n",
    "    for col in categorical_features:\n",
    "        if bin_sizes[col] > max_bin_size:\n",
    "            X[col] = pd.Categorical(X[col]).codes\n",
    "            print(f\"Encoded column: {col}\")\n",
    "\n",
    "    return X\n"
   ]
  },
  {
   "cell_type": "code",
   "execution_count": 13,
   "id": "866c509f",
   "metadata": {
    "execution": {
     "iopub.execute_input": "2025-07-16T05:48:27.357870Z",
     "iopub.status.busy": "2025-07-16T05:48:27.357641Z",
     "iopub.status.idle": "2025-07-16T05:48:27.413560Z",
     "shell.execute_reply": "2025-07-16T05:48:27.412743Z"
    },
    "papermill": {
     "duration": 0.061628,
     "end_time": "2025-07-16T05:48:27.414790",
     "exception": false,
     "start_time": "2025-07-16T05:48:27.353162",
     "status": "completed"
    },
    "tags": []
   },
   "outputs": [
    {
     "name": "stdout",
     "output_type": "stream",
     "text": [
      "Training with 59 features. Train shape: (200000, 59), Test shape: (200000, 59)\n"
     ]
    }
   ],
   "source": [
    "features = [col for col in train_df.columns if col not in ['id', 'sale_price']]\n",
    "y= train_df['sale_price']\n",
    "X = train_df[features]\n",
    "X_test = test_df_processed[features]\n",
    "print(f\"Training with {len(features)} features. Train shape: {X.shape}, Test shape: {X_test.shape}\")"
   ]
  },
  {
   "cell_type": "code",
   "execution_count": 14,
   "id": "dbb2fe3d",
   "metadata": {
    "execution": {
     "iopub.execute_input": "2025-07-16T05:48:27.424590Z",
     "iopub.status.busy": "2025-07-16T05:48:27.424132Z",
     "iopub.status.idle": "2025-07-16T05:48:27.618347Z",
     "shell.execute_reply": "2025-07-16T05:48:27.617524Z"
    },
    "papermill": {
     "duration": 0.20028,
     "end_time": "2025-07-16T05:48:27.619456",
     "exception": false,
     "start_time": "2025-07-16T05:48:27.419176",
     "status": "completed"
    },
    "tags": []
   },
   "outputs": [
    {
     "name": "stdout",
     "output_type": "stream",
     "text": [
      "Encoded column: zoning\n",
      "Encoded column: subdivision\n",
      "Encoded column: zoning\n",
      "Encoded column: subdivision\n"
     ]
    }
   ],
   "source": [
    "X = change_large_bin_features(X, max_bin_size)\n",
    "X_test= change_large_bin_features(X_test, max_bin_size)"
   ]
  },
  {
   "cell_type": "code",
   "execution_count": 15,
   "id": "597d3b4d",
   "metadata": {
    "execution": {
     "iopub.execute_input": "2025-07-16T05:48:27.628979Z",
     "iopub.status.busy": "2025-07-16T05:48:27.628729Z",
     "iopub.status.idle": "2025-07-16T05:48:27.632501Z",
     "shell.execute_reply": "2025-07-16T05:48:27.631824Z"
    },
    "papermill": {
     "duration": 0.009648,
     "end_time": "2025-07-16T05:48:27.633566",
     "exception": false,
     "start_time": "2025-07-16T05:48:27.623918",
     "status": "completed"
    },
    "tags": []
   },
   "outputs": [
    {
     "name": "stdout",
     "output_type": "stream",
     "text": [
      "['sale_nbr', 'sale_warning', 'join_status', 'join_year', 'latitude', 'longitude', 'area', 'city', 'zoning', 'subdivision', 'present_use', 'land_val', 'imp_val', 'year_built', 'year_reno', 'sqft_lot', 'sqft', 'sqft_1', 'sqft_fbsmt', 'grade', 'fbsmt_grade', 'condition', 'stories', 'beds', 'bath_full', 'bath_3qtr', 'bath_half', 'garb_sqft', 'gara_sqft', 'wfnt', 'golf', 'greenbelt', 'noise_traffic', 'view_rainier', 'view_olympics', 'view_cascades', 'view_territorial', 'view_skyline', 'view_sound', 'view_lakewash', 'view_lakesamm', 'view_otherwater', 'view_other', 'submarket', 'sale_year', 'sale_month', 'sale_dayofweek', 'months_since_first_sale', 'house_age', 'reno_age', 'sqft_times_stories', 'total_baths', 'beds_times_baths', 'aux_space', 'land_val_density', 'imp_val_density', 'num_views', 'scenic_score', 'env_score']\n"
     ]
    }
   ],
   "source": [
    "print(X.columns.tolist())"
   ]
  },
  {
   "cell_type": "code",
   "execution_count": 16,
   "id": "abf19039",
   "metadata": {
    "execution": {
     "iopub.execute_input": "2025-07-16T05:48:27.643273Z",
     "iopub.status.busy": "2025-07-16T05:48:27.642819Z",
     "iopub.status.idle": "2025-07-16T05:48:27.652348Z",
     "shell.execute_reply": "2025-07-16T05:48:27.651816Z"
    },
    "papermill": {
     "duration": 0.015449,
     "end_time": "2025-07-16T05:48:27.653363",
     "exception": false,
     "start_time": "2025-07-16T05:48:27.637914",
     "status": "completed"
    },
    "tags": []
   },
   "outputs": [],
   "source": [
    "def tune_winkler_scaling(mean, std, true, alpha=0.1, a_range=(190, 230, 2), b_range=(190, 230, 2), plot=True):\n",
    "    \"\"\"\n",
    "    自动调参 a, b，使得 mean ± std * a/b 得到最优 Winkler Score 区间，并可视化调参过程。\n",
    "\n",
    "    参数:\n",
    "        mean, std, true: np.ndarray or pd.Series\n",
    "            模型预测均值、残差、真实值\n",
    "        alpha: float\n",
    "            区间置信度，默认 0.1（即 90% 区间）\n",
    "        a_range, b_range: tuple\n",
    "            (start, end, step)，调参范围\n",
    "        plot: bool\n",
    "            是否绘制 Winkler Score 热力图\n",
    "\n",
    "    返回:\n",
    "        best_a, best_b, best_score, best_coverage, df_score\n",
    "    \"\"\"\n",
    "    def winkler_score(y_true, lower, upper, alpha=0.1):\n",
    "        width = upper - lower\n",
    "        penalty_lower = 2 / alpha * (lower - y_true)\n",
    "        penalty_upper = 2 / alpha * (y_true - upper)\n",
    "        score = width.copy()\n",
    "        score += np.where(y_true < lower, penalty_lower, 0)\n",
    "        score += np.where(y_true > upper, penalty_upper, 0)\n",
    "        inside = (y_true >= lower) & (y_true <= upper)\n",
    "        coverage = np.mean(inside)\n",
    "        return np.mean(score), coverage\n",
    "\n",
    "    mean = np.asarray(mean)\n",
    "    std = np.asarray(std)\n",
    "    true = np.asarray(true)\n",
    "\n",
    "    std = np.clip(std, np.min(np.abs(true - mean)), np.max(np.abs(true - mean)))\n",
    "\n",
    "    best_a, best_b = None, None\n",
    "    best_score = float('inf')\n",
    "    best_coverage = 0.0\n",
    "\n",
    "    a_start, a_end, a_step = a_range\n",
    "    b_start, b_end, b_step = b_range\n",
    "\n",
    "    records = []\n",
    "\n",
    "    print(\"Tuning Winkler scaling factors...\")\n",
    "\n",
    "    for a in range(a_start, a_end, a_step):\n",
    "        for b in range(b_start, b_end, b_step):\n",
    "            lower = mean - std * (a / 100)\n",
    "            upper = mean + std * (b / 100)\n",
    "            lower = np.clip(lower, true.min(), true.max())\n",
    "            upper = np.clip(upper, true.min(), true.max())\n",
    "\n",
    "            score, coverage = winkler_score(true, lower, upper, alpha=alpha)\n",
    "\n",
    "            records.append({'a': a, 'b': b, 'winkler_score': score, 'coverage': coverage})\n",
    "\n",
    "            if score < best_score:\n",
    "                best_score = score\n",
    "                best_a = a\n",
    "                best_b = b\n",
    "                best_coverage = coverage\n",
    "                print(f\"  ✅ New best: a={a}, b={b}, Winkler={score:.2f}, Coverage={coverage:.3f}\")\n",
    "\n",
    "    print(f\"\\n🎯 Best parameters: a={best_a}, b={best_b}, Winkler Score={best_score:.2f}, Coverage={best_coverage:.3f}\")\n",
    "\n",
    "    # 可视化\n",
    "    df_score = pd.DataFrame(records)\n",
    "    if plot:\n",
    "        pivot = df_score.pivot(index='a', columns='b', values='winkler_score')\n",
    "        plt.figure(figsize=(10, 8))\n",
    "        sns.heatmap(pivot, annot=False, fmt=\".1f\", cmap='coolwarm_r', cbar_kws={'label': 'Winkler Score'})\n",
    "        plt.title(\"Winkler Score vs. (a, b)\")\n",
    "        plt.xlabel(\"b (upper bound multiplier)\")\n",
    "        plt.ylabel(\"a (lower bound multiplier)\")\n",
    "        plt.tight_layout()\n",
    "        plt.show()\n",
    "\n",
    "    return best_a, best_b, best_score, best_coverage, df_score\n"
   ]
  },
  {
   "cell_type": "code",
   "execution_count": 17,
   "id": "24b663cc",
   "metadata": {
    "execution": {
     "iopub.execute_input": "2025-07-16T05:48:27.662819Z",
     "iopub.status.busy": "2025-07-16T05:48:27.662412Z",
     "iopub.status.idle": "2025-07-16T05:48:27.668619Z",
     "shell.execute_reply": "2025-07-16T05:48:27.667992Z"
    },
    "papermill": {
     "duration": 0.012102,
     "end_time": "2025-07-16T05:48:27.669722",
     "exception": false,
     "start_time": "2025-07-16T05:48:27.657620",
     "status": "completed"
    },
    "tags": []
   },
   "outputs": [
    {
     "name": "stdout",
     "output_type": "stream",
     "text": [
      "\n",
      "--- Phase 2: Training with 5-Fold CV and prefit CQR ---\n"
     ]
    }
   ],
   "source": [
    "# --- 3. Cross-Validation Training with prefit=True ---\n",
    "print(f\"\\n--- Phase 2: Training with {CFG.N_SPLITS}-Fold CV and prefit CQR ---\")\n",
    "kf = KFold(n_splits=CFG.N_SPLITS, shuffle=True, random_state=CFG.SEED)\n",
    "\n",
    "oof_preds_lower = np.zeros(len(train_df))\n",
    "oof_preds_upper = np.zeros(len(train_df))\n",
    "test_preds_lower_sum = np.zeros(len(test_df_raw))\n",
    "test_preds_upper_sum = np.zeros(len(test_df_raw))\n",
    "fold_scores = []\n"
   ]
  },
  {
   "cell_type": "code",
   "execution_count": 18,
   "id": "291b4c5f",
   "metadata": {
    "execution": {
     "iopub.execute_input": "2025-07-16T05:48:27.679095Z",
     "iopub.status.busy": "2025-07-16T05:48:27.678920Z",
     "iopub.status.idle": "2025-07-16T05:48:27.682235Z",
     "shell.execute_reply": "2025-07-16T05:48:27.681671Z"
    },
    "papermill": {
     "duration": 0.009205,
     "end_time": "2025-07-16T05:48:27.683291",
     "exception": false,
     "start_time": "2025-07-16T05:48:27.674086",
     "status": "completed"
    },
    "tags": []
   },
   "outputs": [],
   "source": [
    "# Define parameters for the three quantile models\n",
    "params_lower = {**CFG.LGBM_PARAMS, 'alpha': CFG.ALPHA / 2}\n",
    "params_median = {**CFG.LGBM_PARAMS, 'alpha': 0.5}\n",
    "params_upper = {**CFG.LGBM_PARAMS, 'alpha': 1 - (CFG.ALPHA / 2)}\n"
   ]
  },
  {
   "cell_type": "code",
   "execution_count": 19,
   "id": "fb268d1e",
   "metadata": {
    "_cell_guid": "b1076dfc-b9ad-4769-8c92-a6c4dae69d19",
    "_uuid": "8f2839f25d086af736a60e9eeb907d3b93b6e0e5",
    "execution": {
     "iopub.execute_input": "2025-07-16T05:48:27.692577Z",
     "iopub.status.busy": "2025-07-16T05:48:27.692405Z",
     "iopub.status.idle": "2025-07-16T05:58:37.993160Z",
     "shell.execute_reply": "2025-07-16T05:58:37.992488Z"
    },
    "papermill": {
     "duration": 610.306967,
     "end_time": "2025-07-16T05:58:37.994531",
     "exception": false,
     "start_time": "2025-07-16T05:48:27.687564",
     "status": "completed"
    },
    "tags": []
   },
   "outputs": [
    {
     "name": "stdout",
     "output_type": "stream",
     "text": [
      "\n",
      "--- Fold 1/5 ---\n",
      "Fitting lower, median, and upper models...\n"
     ]
    },
    {
     "name": "stderr",
     "output_type": "stream",
     "text": [
      "1 warning generated.\n",
      "1 warning generated.\n",
      "1 warning generated.\n",
      "1 warning generated.\n",
      "1 warning generated.\n",
      "1 warning generated.\n",
      "1 warning generated.\n",
      "1 warning generated.\n",
      "1 warning generated.\n",
      "1 warning generated.\n",
      "1 warning generated.\n",
      "1 warning generated.\n",
      "1 warning generated.\n",
      "1 warning generated.\n",
      "1 warning generated.\n",
      "1 warning generated.\n",
      "1 warning generated.\n",
      "1 warning generated.\n",
      "1 warning generated.\n",
      "1 warning generated.\n",
      "1 warning generated.\n",
      "1 warning generated.\n",
      "1 warning generated.\n",
      "1 warning generated.\n",
      "1 warning generated.\n",
      "1 warning generated.\n",
      "1 warning generated.\n",
      "1 warning generated.\n",
      "1 warning generated.\n",
      "1 warning generated.\n",
      "1 warning generated.\n",
      "1 warning generated.\n",
      "1 warning generated.\n"
     ]
    },
    {
     "name": "stdout",
     "output_type": "stream",
     "text": [
      "Conformalizing models...\n",
      "Fold 1 Winkler Score: 327,519.75\n",
      "Predicting on test data...\n",
      "\n",
      "--- Fold 2/5 ---\n",
      "Fitting lower, median, and upper models...\n",
      "Conformalizing models...\n",
      "Fold 2 Winkler Score: 326,116.88\n",
      "Predicting on test data...\n",
      "\n",
      "--- Fold 3/5 ---\n",
      "Fitting lower, median, and upper models...\n",
      "Conformalizing models...\n",
      "Fold 3 Winkler Score: 332,048.12\n",
      "Predicting on test data...\n",
      "\n",
      "--- Fold 4/5 ---\n",
      "Fitting lower, median, and upper models...\n",
      "Conformalizing models...\n",
      "Fold 4 Winkler Score: 325,674.86\n",
      "Predicting on test data...\n",
      "\n",
      "--- Fold 5/5 ---\n",
      "Fitting lower, median, and upper models...\n",
      "Conformalizing models...\n",
      "Fold 5 Winkler Score: 330,073.52\n",
      "Predicting on test data...\n"
     ]
    }
   ],
   "source": [
    "for fold, (fit_idx, calib_idx) in enumerate(kf.split(X, y)):\n",
    "    print(f\"\\n--- Fold {fold+1}/{CFG.N_SPLITS} ---\")\n",
    "    X_fit, X_calib = X.iloc[fit_idx], X.iloc[calib_idx]\n",
    "    y_fit, y_calib = y.iloc[fit_idx], y.iloc[calib_idx]\n",
    "\n",
    "    # Step 1: Fit the three quantile models on the fitting dataset\n",
    "    print(\"Fitting lower, median, and upper models...\")\n",
    "    model_lower = lgb.LGBMRegressor(**params_lower)\n",
    "    model_median = lgb.LGBMRegressor(**params_median)\n",
    "    model_upper = lgb.LGBMRegressor(**params_upper)\n",
    "\n",
    "    callbacks = [lgb.early_stopping(100, verbose=False)]\n",
    "    model_lower.fit(X_fit, y_fit, eval_set=[(X_calib, y_calib)], callbacks=callbacks)\n",
    "    model_median.fit(X_fit, y_fit, eval_set=[(X_calib, y_calib)], callbacks=callbacks)\n",
    "    model_upper.fit(X_fit, y_fit, eval_set=[(X_calib, y_calib)], callbacks=callbacks)\n",
    "\n",
    "    # Step 2: Conformalize using the pre-fitted models and the calibration dataset\n",
    "    print(\"Conformalizing models...\")\n",
    "    mapie_cqr = ConformalizedQuantileRegressor(\n",
    "        estimator=[model_lower, model_upper, model_median], # [lower, upper, median] order\n",
    "        confidence_level=CFG.CONFIDENCE_LEVEL,\n",
    "        prefit=True\n",
    "    ).conformalize(X_calib, y_calib)\n",
    "\n",
    "    # Step 3: Generate OOF predictions for the calibration set\n",
    "    _, oof_pis = mapie_cqr.predict_interval(X_calib)\n",
    "    oof_preds_lower[calib_idx] = oof_pis[:, 0, 0]\n",
    "    oof_preds_upper[calib_idx] = oof_pis[:, 1, 0]\n",
    "\n",
    "    fold_score = winkler_score_func(y_calib, oof_pis[:, 0, 0], oof_pis[:, 1, 0])\n",
    "    fold_scores.append(fold_score)\n",
    "    print(f\"Fold {fold+1} Winkler Score: {fold_score:,.2f}\")\n",
    "\n",
    "    # Step 4: Generate predictions for the test set and accumulate them\n",
    "    print(\"Predicting on test data...\")\n",
    "    _, test_pis = mapie_cqr.predict_interval(X_test)\n",
    "    test_preds_lower_sum += test_pis[:, 0, 0]\n",
    "    test_preds_upper_sum += test_pis[:, 1, 0]\n"
   ]
  },
  {
   "cell_type": "code",
   "execution_count": 20,
   "id": "cdfcff86",
   "metadata": {
    "execution": {
     "iopub.execute_input": "2025-07-16T05:58:38.007344Z",
     "iopub.status.busy": "2025-07-16T05:58:38.007115Z",
     "iopub.status.idle": "2025-07-16T05:58:49.346337Z",
     "shell.execute_reply": "2025-07-16T05:58:49.345567Z"
    },
    "papermill": {
     "duration": 11.346685,
     "end_time": "2025-07-16T05:58:49.347480",
     "exception": false,
     "start_time": "2025-07-16T05:58:38.000795",
     "status": "completed"
    },
    "tags": []
   },
   "outputs": [
    {
     "name": "stdout",
     "output_type": "stream",
     "text": [
      "Tuning Winkler scaling factors...\n",
      "  ✅ New best: a=85, b=90, Winkler=338880.00, Coverage=0.852\n",
      "  ✅ New best: a=85, b=91, Winkler=338216.07, Coverage=0.854\n",
      "  ✅ New best: a=85, b=92, Winkler=337596.40, Coverage=0.855\n",
      "  ✅ New best: a=85, b=93, Winkler=337022.27, Coverage=0.857\n",
      "  ✅ New best: a=85, b=94, Winkler=336499.84, Coverage=0.859\n",
      "  ✅ New best: a=85, b=95, Winkler=336022.49, Coverage=0.860\n",
      "  ✅ New best: a=85, b=96, Winkler=335585.39, Coverage=0.862\n",
      "  ✅ New best: a=85, b=97, Winkler=335187.48, Coverage=0.863\n",
      "  ✅ New best: a=85, b=98, Winkler=334828.27, Coverage=0.865\n",
      "  ✅ New best: a=85, b=99, Winkler=334510.33, Coverage=0.866\n",
      "  ✅ New best: a=85, b=100, Winkler=334232.65, Coverage=0.868\n",
      "  ✅ New best: a=85, b=101, Winkler=333988.48, Coverage=0.869\n",
      "  ✅ New best: a=85, b=102, Winkler=333780.65, Coverage=0.870\n",
      "  ✅ New best: a=85, b=103, Winkler=333612.07, Coverage=0.871\n",
      "  ✅ New best: a=85, b=104, Winkler=333483.47, Coverage=0.873\n",
      "  ✅ New best: a=85, b=105, Winkler=333392.01, Coverage=0.874\n",
      "  ✅ New best: a=85, b=106, Winkler=333332.63, Coverage=0.875\n",
      "  ✅ New best: a=85, b=107, Winkler=333306.07, Coverage=0.876\n",
      "  ✅ New best: a=86, b=101, Winkler=333159.29, Coverage=0.871\n",
      "  ✅ New best: a=86, b=102, Winkler=332951.47, Coverage=0.873\n",
      "  ✅ New best: a=86, b=103, Winkler=332782.89, Coverage=0.874\n",
      "  ✅ New best: a=86, b=104, Winkler=332654.29, Coverage=0.875\n",
      "  ✅ New best: a=86, b=105, Winkler=332562.82, Coverage=0.877\n",
      "  ✅ New best: a=86, b=106, Winkler=332503.45, Coverage=0.878\n",
      "  ✅ New best: a=86, b=107, Winkler=332476.88, Coverage=0.879\n",
      "  ✅ New best: a=87, b=101, Winkler=332399.97, Coverage=0.874\n",
      "  ✅ New best: a=87, b=102, Winkler=332192.14, Coverage=0.875\n",
      "  ✅ New best: a=87, b=103, Winkler=332023.56, Coverage=0.876\n",
      "  ✅ New best: a=87, b=104, Winkler=331894.96, Coverage=0.878\n",
      "  ✅ New best: a=87, b=105, Winkler=331803.50, Coverage=0.879\n",
      "  ✅ New best: a=87, b=106, Winkler=331744.12, Coverage=0.880\n",
      "  ✅ New best: a=87, b=107, Winkler=331717.56, Coverage=0.881\n",
      "  ✅ New best: a=88, b=101, Winkler=331708.19, Coverage=0.876\n",
      "  ✅ New best: a=88, b=102, Winkler=331500.36, Coverage=0.878\n",
      "  ✅ New best: a=88, b=103, Winkler=331331.79, Coverage=0.879\n",
      "  ✅ New best: a=88, b=104, Winkler=331203.18, Coverage=0.880\n",
      "  ✅ New best: a=88, b=105, Winkler=331111.72, Coverage=0.882\n",
      "  ✅ New best: a=88, b=106, Winkler=331052.35, Coverage=0.883\n",
      "  ✅ New best: a=88, b=107, Winkler=331025.78, Coverage=0.884\n",
      "  ✅ New best: a=89, b=102, Winkler=330872.39, Coverage=0.880\n",
      "  ✅ New best: a=89, b=103, Winkler=330703.81, Coverage=0.881\n",
      "  ✅ New best: a=89, b=104, Winkler=330575.21, Coverage=0.883\n",
      "  ✅ New best: a=89, b=105, Winkler=330483.75, Coverage=0.884\n",
      "  ✅ New best: a=89, b=106, Winkler=330424.38, Coverage=0.885\n",
      "  ✅ New best: a=89, b=107, Winkler=330397.81, Coverage=0.886\n",
      "  ✅ New best: a=90, b=102, Winkler=330310.03, Coverage=0.882\n",
      "  ✅ New best: a=90, b=103, Winkler=330141.46, Coverage=0.884\n",
      "  ✅ New best: a=90, b=104, Winkler=330012.85, Coverage=0.885\n",
      "  ✅ New best: a=90, b=105, Winkler=329921.39, Coverage=0.886\n",
      "  ✅ New best: a=90, b=106, Winkler=329862.02, Coverage=0.887\n",
      "  ✅ New best: a=90, b=107, Winkler=329835.45, Coverage=0.889\n",
      "  ✅ New best: a=91, b=102, Winkler=329808.17, Coverage=0.885\n",
      "  ✅ New best: a=91, b=103, Winkler=329639.60, Coverage=0.886\n",
      "  ✅ New best: a=91, b=104, Winkler=329510.99, Coverage=0.887\n",
      "  ✅ New best: a=91, b=105, Winkler=329419.53, Coverage=0.889\n",
      "  ✅ New best: a=91, b=106, Winkler=329360.16, Coverage=0.890\n",
      "  ✅ New best: a=91, b=107, Winkler=329333.59, Coverage=0.891\n",
      "  ✅ New best: a=92, b=103, Winkler=329192.24, Coverage=0.888\n",
      "  ✅ New best: a=92, b=104, Winkler=329063.64, Coverage=0.890\n",
      "  ✅ New best: a=92, b=105, Winkler=328972.17, Coverage=0.891\n",
      "  ✅ New best: a=92, b=106, Winkler=328912.80, Coverage=0.892\n",
      "  ✅ New best: a=92, b=107, Winkler=328886.24, Coverage=0.893\n",
      "  ✅ New best: a=93, b=103, Winkler=328799.45, Coverage=0.890\n",
      "  ✅ New best: a=93, b=104, Winkler=328670.84, Coverage=0.892\n",
      "  ✅ New best: a=93, b=105, Winkler=328579.38, Coverage=0.893\n",
      "  ✅ New best: a=93, b=106, Winkler=328520.01, Coverage=0.894\n",
      "  ✅ New best: a=93, b=107, Winkler=328493.44, Coverage=0.895\n",
      "  ✅ New best: a=94, b=103, Winkler=328461.88, Coverage=0.892\n",
      "  ✅ New best: a=94, b=104, Winkler=328333.27, Coverage=0.894\n",
      "  ✅ New best: a=94, b=105, Winkler=328241.81, Coverage=0.895\n",
      "  ✅ New best: a=94, b=106, Winkler=328182.44, Coverage=0.896\n",
      "  ✅ New best: a=94, b=107, Winkler=328155.87, Coverage=0.897\n",
      "  ✅ New best: a=95, b=104, Winkler=328048.20, Coverage=0.896\n",
      "  ✅ New best: a=95, b=105, Winkler=327956.74, Coverage=0.897\n",
      "  ✅ New best: a=95, b=106, Winkler=327897.36, Coverage=0.898\n",
      "  ✅ New best: a=95, b=107, Winkler=327870.80, Coverage=0.899\n",
      "  ✅ New best: a=96, b=104, Winkler=327820.23, Coverage=0.898\n",
      "  ✅ New best: a=96, b=105, Winkler=327728.77, Coverage=0.899\n",
      "  ✅ New best: a=96, b=106, Winkler=327669.40, Coverage=0.900\n",
      "  ✅ New best: a=96, b=107, Winkler=327642.83, Coverage=0.901\n",
      "  ✅ New best: a=97, b=104, Winkler=327636.43, Coverage=0.900\n",
      "  ✅ New best: a=97, b=105, Winkler=327544.96, Coverage=0.901\n",
      "  ✅ New best: a=97, b=106, Winkler=327485.59, Coverage=0.902\n",
      "  ✅ New best: a=97, b=107, Winkler=327459.03, Coverage=0.903\n",
      "  ✅ New best: a=98, b=105, Winkler=327411.23, Coverage=0.903\n",
      "  ✅ New best: a=98, b=106, Winkler=327351.86, Coverage=0.904\n",
      "  ✅ New best: a=98, b=107, Winkler=327325.29, Coverage=0.905\n",
      "  ✅ New best: a=99, b=106, Winkler=327267.27, Coverage=0.906\n",
      "  ✅ New best: a=99, b=107, Winkler=327240.71, Coverage=0.907\n",
      "  ✅ New best: a=100, b=106, Winkler=327230.89, Coverage=0.908\n",
      "  ✅ New best: a=100, b=107, Winkler=327204.32, Coverage=0.909\n",
      "\n",
      "🎯 Best parameters: a=100, b=107, Winkler Score=327204.32, Coverage=0.909\n"
     ]
    },
    {
     "data": {
      "image/png": "[encoded data removed]",
      "text/plain": [
       "<Figure size 1000x800 with 2 Axes>"
      ]
     },
     "metadata": {},
     "output_type": "display_data"
    }
   ],
   "source": [
    "best_a, best_b, best_score, best_coverage, _ = tune_winkler_scaling(\n",
    "    mean=(oof_preds_lower + oof_preds_upper) / 2,\n",
    "    std=(oof_preds_upper - oof_preds_lower) / 2,\n",
    "    true=y,\n",
    "    alpha=CFG.ALPHA,  # 通常是0.1\n",
    "    a_range=(85, 130, 1),\n",
    "    b_range=(90, 130, 1),\n",
    "    plot=True\n",
    ")"
   ]
  },
  {
   "cell_type": "code",
   "execution_count": 21,
   "id": "2e2897e2",
   "metadata": {
    "execution": {
     "iopub.execute_input": "2025-07-16T05:58:49.363950Z",
     "iopub.status.busy": "2025-07-16T05:58:49.363697Z",
     "iopub.status.idle": "2025-07-16T05:58:49.376552Z",
     "shell.execute_reply": "2025-07-16T05:58:49.375740Z"
    },
    "papermill": {
     "duration": 0.021927,
     "end_time": "2025-07-16T05:58:49.377620",
     "exception": false,
     "start_time": "2025-07-16T05:58:49.355693",
     "status": "completed"
    },
    "tags": []
   },
   "outputs": [
    {
     "name": "stdout",
     "output_type": "stream",
     "text": [
      "\n",
      "--- Phase 3: Final Evaluation and Submission ---\n",
      "Scaled OOF Winkler: 327426.2924125608\n"
     ]
    }
   ],
   "source": [
    "# --- 4. Final Evaluation and Submission ---\n",
    "print(\"\\n--- Phase 3: Final Evaluation and Submission ---\")\n",
    "\n",
    "# 对 OOF 做缩放后的分数（可选验证）\n",
    "scaled_oof_lower = (oof_preds_lower + oof_preds_upper) / 2 - best_a / 100 * (oof_preds_upper - oof_preds_lower) / 2\n",
    "scaled_oof_upper = (oof_preds_lower + oof_preds_upper) / 2 + best_b / 100 * (oof_preds_upper - oof_preds_lower) / 2\n",
    "print(\"Scaled OOF Winkler:\", winkler_score_func(y, scaled_oof_lower, scaled_oof_upper))\n"
   ]
  },
  {
   "cell_type": "code",
   "execution_count": 22,
   "id": "4b340870",
   "metadata": {
    "execution": {
     "iopub.execute_input": "2025-07-16T05:58:49.393082Z",
     "iopub.status.busy": "2025-07-16T05:58:49.392868Z",
     "iopub.status.idle": "2025-07-16T05:58:49.396326Z",
     "shell.execute_reply": "2025-07-16T05:58:49.395797Z"
    },
    "papermill": {
     "duration": 0.012326,
     "end_time": "2025-07-16T05:58:49.397285",
     "exception": false,
     "start_time": "2025-07-16T05:58:49.384959",
     "status": "completed"
    },
    "tags": []
   },
   "outputs": [],
   "source": [
    "test_preds_lower = test_preds_lower_sum / CFG.N_SPLITS\n",
    "test_preds_upper = test_preds_upper_sum / CFG.N_SPLITS"
   ]
  },
  {
   "cell_type": "code",
   "execution_count": 23,
   "id": "33b1adbb",
   "metadata": {
    "execution": {
     "iopub.execute_input": "2025-07-16T05:58:49.412601Z",
     "iopub.status.busy": "2025-07-16T05:58:49.412401Z",
     "iopub.status.idle": "2025-07-16T05:58:49.417803Z",
     "shell.execute_reply": "2025-07-16T05:58:49.417293Z"
    },
    "papermill": {
     "duration": 0.014181,
     "end_time": "2025-07-16T05:58:49.418866",
     "exception": false,
     "start_time": "2025-07-16T05:58:49.404685",
     "status": "completed"
    },
    "tags": []
   },
   "outputs": [],
   "source": [
    "test_mean = (test_preds_lower + test_preds_upper) / 2\n",
    "test_std = (test_preds_upper - test_preds_lower) / 2\n",
    "test_pi_lower = test_mean - best_a / 100 * test_std\n",
    "test_pi_upper = test_mean + best_b / 100 * test_std"
   ]
  },
  {
   "cell_type": "code",
   "execution_count": 24,
   "id": "5af4efc7",
   "metadata": {
    "execution": {
     "iopub.execute_input": "2025-07-16T05:58:49.434075Z",
     "iopub.status.busy": "2025-07-16T05:58:49.433876Z",
     "iopub.status.idle": "2025-07-16T05:58:50.173116Z",
     "shell.execute_reply": "2025-07-16T05:58:50.172497Z"
    },
    "papermill": {
     "duration": 0.748601,
     "end_time": "2025-07-16T05:58:50.174728",
     "exception": false,
     "start_time": "2025-07-16T05:58:49.426127",
     "status": "completed"
    },
    "tags": []
   },
   "outputs": [],
   "source": [
    "sub = pd.read_csv(\"/kaggle/input/prediction-interval-competition-ii-house-price/sample_submission.csv\")\n",
    "sub['pi_lower'] = test_pi_lower\n",
    "sub['pi_upper'] = test_pi_upper\n",
    "sub.to_csv(\"submission_scaled.csv\", index=False)"
   ]
  },
  {
   "cell_type": "code",
   "execution_count": 25,
   "id": "f67119ca",
   "metadata": {
    "execution": {
     "iopub.execute_input": "2025-07-16T05:58:50.190978Z",
     "iopub.status.busy": "2025-07-16T05:58:50.190704Z",
     "iopub.status.idle": "2025-07-16T05:58:50.280220Z",
     "shell.execute_reply": "2025-07-16T05:58:50.279286Z"
    },
    "papermill": {
     "duration": 0.098904,
     "end_time": "2025-07-16T05:58:50.281384",
     "exception": false,
     "start_time": "2025-07-16T05:58:50.182480",
     "status": "completed"
    },
    "tags": []
   },
   "outputs": [
    {
     "name": "stdout",
     "output_type": "stream",
     "text": [
      "\n",
      "Submission file 'submission_scaled.csv' has been created.\n",
      "       id       pi_lower      pi_upper\n",
      "0  200000  794819.210605  1.028225e+06\n",
      "1  200001  433047.633181  8.346568e+05\n",
      "2  200002  450733.744493  7.257023e+05\n",
      "3  200003  288345.392527  4.640733e+05\n",
      "4  200004  375198.437803  8.353881e+05\n"
     ]
    }
   ],
   "source": [
    "df = pd.read_csv(\"submission_scaled.csv\")\n",
    "print(\"\\nSubmission file 'submission_scaled.csv' has been created.\")\n",
    "print(df.head())"
   ]
  }
 ],
 "metadata": {
  "kaggle": {
   "accelerator": "gpu",
   "dataSources": [
    {
     "databundleVersionId": 11917221,
     "sourceId": 99650,
     "sourceType": "competition"
    }
   ],
   "dockerImageVersionId": 31040,
   "isGpuEnabled": true,
   "isInternetEnabled": true,
   "language": "python",
   "sourceType": "notebook"
  },
  "kernelspec": {
   "display_name": "Python 3",
   "language": "python",
   "name": "python3"
  },
  "language_info": {
   "codemirror_mode": {
    "name": "ipython",
    "version": 3
   },
   "file_extension": ".py",
   "mimetype": "text/x-python",
   "name": "python",
   "nbconvert_exporter": "python",
   "pygments_lexer": "ipython3",
   "version": "3.11.11"
  },
  "papermill": {
   "default_parameters": {},
   "duration": 647.835237,
   "end_time": "2025-07-16T05:58:51.107754",
   "environment_variables": {},
   "exception": null,
   "input_path": "__notebook__.ipynb",
   "output_path": "__notebook__.ipynb",
   "parameters": {},
   "start_time": "2025-07-16T05:48:03.272517",
   "version": "2.6.0"
  }
 },
 "nbformat": 4,
 "nbformat_minor": 5
}
