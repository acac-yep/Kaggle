{
 "cells": [
  {
   "cell_type": "code",
   "execution_count": 1,
   "id": "082f09c5",
   "metadata": {
    "execution": {
     "iopub.execute_input": "2025-07-15T12:32:43.040753Z",
     "iopub.status.busy": "2025-07-15T12:32:43.040465Z",
     "iopub.status.idle": "2025-07-15T12:32:50.709950Z",
     "shell.execute_reply": "2025-07-15T12:32:50.709207Z"
    },
    "papermill": {
     "duration": 7.675659,
     "end_time": "2025-07-15T12:32:50.711315",
     "exception": false,
     "start_time": "2025-07-15T12:32:43.035656",
     "status": "completed"
    },
    "tags": []
   },
   "outputs": [
    {
     "name": "stdout",
     "output_type": "stream",
     "text": [
      "\u001b[2K   \u001b[90m━━━━━━━━━━━━━━━━━━━━━━━━━━━━━━━━━━━━━━━━\u001b[0m \u001b[32m173.2/173.2 kB\u001b[0m \u001b[31m4.9 MB/s\u001b[0m eta \u001b[36m0:00:00\u001b[0m\r\n",
      "\u001b[2K   \u001b[90m━━━━━━━━━━━━━━━━━━━━━━━━━━━━━━━━━━━━━━━━\u001b[0m \u001b[32m12.9/12.9 MB\u001b[0m \u001b[31m97.8 MB/s\u001b[0m eta \u001b[36m0:00:00\u001b[0m\r\n",
      "\u001b[?25h\u001b[31mERROR: pip's dependency resolver does not currently take into account all the packages that are installed. This behaviour is the source of the following dependency conflicts.\r\n",
      "category-encoders 2.7.0 requires scikit-learn<1.6.0,>=1.0.0, but you have scikit-learn 1.7.0 which is incompatible.\r\n",
      "cesium 0.12.4 requires numpy<3.0,>=2.0, but you have numpy 1.26.4 which is incompatible.\r\n",
      "sklearn-compat 0.1.3 requires scikit-learn<1.7,>=1.2, but you have scikit-learn 1.7.0 which is incompatible.\u001b[0m\u001b[31m\r\n",
      "\u001b[0m"
     ]
    }
   ],
   "source": [
    "!pip install mapie -qq"
   ]
  },
  {
   "cell_type": "code",
   "execution_count": 2,
   "id": "ad48ac49",
   "metadata": {
    "execution": {
     "iopub.execute_input": "2025-07-15T12:32:50.719736Z",
     "iopub.status.busy": "2025-07-15T12:32:50.719494Z",
     "iopub.status.idle": "2025-07-15T12:32:51.226236Z",
     "shell.execute_reply": "2025-07-15T12:32:51.225199Z"
    },
    "papermill": {
     "duration": 0.512225,
     "end_time": "2025-07-15T12:32:51.227487",
     "exception": false,
     "start_time": "2025-07-15T12:32:50.715262",
     "status": "completed"
    },
    "tags": []
   },
   "outputs": [
    {
     "name": "stdout",
     "output_type": "stream",
     "text": [
      "\r\n",
      "Usage:   \r\n",
      "  /usr/bin/python3 -m pip install [options] <requirement specifier> [package-index-options] ...\r\n",
      "  /usr/bin/python3 -m pip install [options] -r <requirements file> [package-index-options] ...\r\n",
      "  /usr/bin/python3 -m pip install [options] [-e] <vcs project url> ...\r\n",
      "  /usr/bin/python3 -m pip install [options] [-e] <local project path> ...\r\n",
      "  /usr/bin/python3 -m pip install [options] <archive url/path> ...\r\n",
      "\r\n",
      "no such option: --install-option\r\n",
      "Note: you may need to restart the kernel to use updated packages.\n"
     ]
    }
   ],
   "source": [
    "pip install lightgbm --install-option=--gpu"
   ]
  },
  {
   "cell_type": "code",
   "execution_count": 3,
   "id": "8dbe801c",
   "metadata": {
    "execution": {
     "iopub.execute_input": "2025-07-15T12:32:51.235681Z",
     "iopub.status.busy": "2025-07-15T12:32:51.235445Z",
     "iopub.status.idle": "2025-07-15T12:32:57.824484Z",
     "shell.execute_reply": "2025-07-15T12:32:57.823878Z"
    },
    "papermill": {
     "duration": 6.594447,
     "end_time": "2025-07-15T12:32:57.825777",
     "exception": false,
     "start_time": "2025-07-15T12:32:51.231330",
     "status": "completed"
    },
    "tags": []
   },
   "outputs": [],
   "source": [
    "# --- 0. Import Libraries ---\n",
    "import pandas as pd\n",
    "import numpy as np\n",
    "import lightgbm as lgb\n",
    "from sklearn.model_selection import KFold\n",
    "from sklearn.preprocessing import OrdinalEncoder\n",
    "from mapie.regression import ConformalizedQuantileRegressor\n",
    "import warnings\n",
    "import os"
   ]
  },
  {
   "cell_type": "code",
   "execution_count": 4,
   "id": "1bdc56a9",
   "metadata": {
    "execution": {
     "iopub.execute_input": "2025-07-15T12:32:57.834248Z",
     "iopub.status.busy": "2025-07-15T12:32:57.833300Z",
     "iopub.status.idle": "2025-07-15T12:32:57.836779Z",
     "shell.execute_reply": "2025-07-15T12:32:57.836286Z"
    },
    "papermill": {
     "duration": 0.008407,
     "end_time": "2025-07-15T12:32:57.837807",
     "exception": false,
     "start_time": "2025-07-15T12:32:57.829400",
     "status": "completed"
    },
    "tags": []
   },
   "outputs": [],
   "source": [
    "warnings.filterwarnings('ignore')"
   ]
  },
  {
   "cell_type": "code",
   "execution_count": 5,
   "id": "9645c75f",
   "metadata": {
    "execution": {
     "iopub.execute_input": "2025-07-15T12:32:57.845318Z",
     "iopub.status.busy": "2025-07-15T12:32:57.844872Z",
     "iopub.status.idle": "2025-07-15T12:32:57.850273Z",
     "shell.execute_reply": "2025-07-15T12:32:57.849783Z"
    },
    "papermill": {
     "duration": 0.010296,
     "end_time": "2025-07-15T12:32:57.851339",
     "exception": false,
     "start_time": "2025-07-15T12:32:57.841043",
     "status": "completed"
    },
    "tags": []
   },
   "outputs": [],
   "source": [
    "class CFG:\n",
    "    # Global settings\n",
    "    SEED = 42\n",
    "    N_SPLITS = 5  # Number of folds for cross-validation\n",
    "    CONFIDENCE_LEVEL = 0.9  # Target confidence level (90%)\n",
    "    ALPHA = 1 - CONFIDENCE_LEVEL\n",
    "\n",
    "    # File paths\n",
    "    try:\n",
    "        # Kaggle environment\n",
    "        DATA_PATH = '/kaggle/input/prediction-interval-competition-ii-house-price/'\n",
    "        if not os.path.exists(os.path.join(DATA_PATH, 'dataset.csv')):\n",
    "            raise FileNotFoundError\n",
    "    except FileNotFoundError:\n",
    "        print(\"Kaggle path not found or files missing, switching to local path './'.\")\n",
    "        DATA_PATH = './'\n",
    "    OUTPUT_PATH = './'\n",
    "\n",
    "    # Base parameters for the quantile models\n",
    "    LGBM_PARAMS = {\n",
    "        'objective': 'quantile',\n",
    "        'metric': 'quantile',\n",
    "        'n_estimators': 2000, # Increased for early stopping\n",
    "        'subsample': 0.8,\n",
    "        'colsample_bytree': 0.5,\n",
    "        'learning_rate': 0.05,\n",
    "        'max_depth': -1,\n",
    "        'min_child_samples': 150,\n",
    "        'n_jobs': -1,\n",
    "        'random_state': SEED,\n",
    "        'verbose': -1,\n",
    "        'device': 'gpu',  # Enable GPU acceleration\n",
    "        'max_bin':255,\n",
    "        'gpu_platform_id': 0,  # Optional: specify which platform to use, usually 0 if only one GPU\n",
    "        'gpu_device_id': 0,  \n",
    "    }"
   ]
  },
  {
   "cell_type": "code",
   "execution_count": 6,
   "id": "fef4eb01",
   "metadata": {
    "execution": {
     "iopub.execute_input": "2025-07-15T12:32:57.858556Z",
     "iopub.status.busy": "2025-07-15T12:32:57.858341Z",
     "iopub.status.idle": "2025-07-15T12:32:57.862142Z",
     "shell.execute_reply": "2025-07-15T12:32:57.861649Z"
    },
    "papermill": {
     "duration": 0.008603,
     "end_time": "2025-07-15T12:32:57.863256",
     "exception": false,
     "start_time": "2025-07-15T12:32:57.854653",
     "status": "completed"
    },
    "tags": []
   },
   "outputs": [],
   "source": [
    "def winkler_score_func(y_true, lower, upper, alpha=CFG.ALPHA):\n",
    "    \"\"\"Utility function to calculate the Winkler score.\"\"\"\n",
    "    score = np.mean(upper - lower)\n",
    "    score += np.mean(np.where(y_true < lower, (2 / alpha) * (lower - y_true), 0))\n",
    "    score += np.mean(np.where(y_true > upper, (2 / alpha) * (y_true - upper), 0))\n",
    "    return score\n"
   ]
  },
  {
   "cell_type": "code",
   "execution_count": 7,
   "id": "8f4978dc",
   "metadata": {
    "execution": {
     "iopub.execute_input": "2025-07-15T12:32:57.870351Z",
     "iopub.status.busy": "2025-07-15T12:32:57.870101Z",
     "iopub.status.idle": "2025-07-15T12:32:59.931839Z",
     "shell.execute_reply": "2025-07-15T12:32:59.931130Z"
    },
    "papermill": {
     "duration": 2.066898,
     "end_time": "2025-07-15T12:32:59.933381",
     "exception": false,
     "start_time": "2025-07-15T12:32:57.866483",
     "status": "completed"
    },
    "tags": []
   },
   "outputs": [
    {
     "name": "stdout",
     "output_type": "stream",
     "text": [
      "\n",
      "--- Phase 1: Loading and Preprocessing Data ---\n"
     ]
    }
   ],
   "source": [
    "# --- 2. Data Loading and Preprocessing ---\n",
    "print(\"\\n--- Phase 1: Loading and Preprocessing Data ---\")\n",
    "try:\n",
    "    train_df_raw = pd.read_csv(os.path.join(CFG.DATA_PATH, 'dataset.csv'))\n",
    "    test_df_raw = pd.read_csv(os.path.join(CFG.DATA_PATH, 'test.csv'))\n",
    "except FileNotFoundError:\n",
    "    print(\"Error: dataset.csv or test.csv not found.\")\n",
    "    print(\"Creating dummy data for demonstration purposes.\")\n",
    "    train_df_raw = pd.DataFrame({\n",
    "        'id': range(1000), 'sale_price': np.random.rand(1000) * 500000 + 100000,\n",
    "        'sale_date': pd.to_datetime(pd.date_range(start='2022-01-01', periods=1000)),\n",
    "        'category_feature': np.random.choice(['A', 'B', 'C'], 1000)\n",
    "    })\n",
    "    test_df_raw = pd.DataFrame({\n",
    "        'id': range(1000, 1200),\n",
    "        'sale_date': pd.to_datetime(pd.date_range(start='2024-09-01', periods=200)),\n",
    "        'category_feature': np.random.choice(['A', 'B', 'C'], 200)\n",
    "    })\n"
   ]
  },
  {
   "cell_type": "code",
   "execution_count": 8,
   "id": "49e4f9c0",
   "metadata": {
    "execution": {
     "iopub.execute_input": "2025-07-15T12:32:59.942559Z",
     "iopub.status.busy": "2025-07-15T12:32:59.941855Z",
     "iopub.status.idle": "2025-07-15T12:32:59.947815Z",
     "shell.execute_reply": "2025-07-15T12:32:59.947204Z"
    },
    "papermill": {
     "duration": 0.011588,
     "end_time": "2025-07-15T12:32:59.948994",
     "exception": false,
     "start_time": "2025-07-15T12:32:59.937406",
     "status": "completed"
    },
    "tags": []
   },
   "outputs": [],
   "source": [
    "def feature_engineer(df):\n",
    "    \"\"\"Simple feature engineering.\"\"\"\n",
    "    data = df.copy()\n",
    "    if 'sale_date' in data.columns:\n",
    "        data['sale_date'] = pd.to_datetime(data['sale_date'])\n",
    "        data['sale_year'] = data['sale_date'].dt.year\n",
    "        data['sale_month'] = data['sale_date'].dt.month\n",
    "        data['sale_dayofweek'] = data['sale_date'].dt.dayofweek\n",
    "        first_sale_month = data['sale_date'].dt.to_period('M').min()\n",
    "        data['months_since_first_sale'] = (data['sale_date'].dt.to_period('M') - first_sale_month).apply(lambda x: x.n)\n",
    "        data = data.drop('sale_date', axis=1)\n",
    "    cat_cols = data.select_dtypes(include=['object']).columns\n",
    "    for col in cat_cols:\n",
    "        data[col] = pd.Categorical(data[col])#给特征编码\n",
    "    return data\n"
   ]
  },
  {
   "cell_type": "code",
   "execution_count": 9,
   "id": "2cdaa445",
   "metadata": {
    "execution": {
     "iopub.execute_input": "2025-07-15T12:32:59.957356Z",
     "iopub.status.busy": "2025-07-15T12:32:59.957098Z",
     "iopub.status.idle": "2025-07-15T12:33:02.067136Z",
     "shell.execute_reply": "2025-07-15T12:33:02.066558Z"
    },
    "papermill": {
     "duration": 2.115687,
     "end_time": "2025-07-15T12:33:02.068599",
     "exception": false,
     "start_time": "2025-07-15T12:32:59.952912",
     "status": "completed"
    },
    "tags": []
   },
   "outputs": [],
   "source": [
    "train_df = feature_engineer(train_df_raw)\n",
    "test_df_processed = feature_engineer(test_df_raw)"
   ]
  },
  {
   "cell_type": "code",
   "execution_count": 10,
   "id": "f49e6a00",
   "metadata": {
    "execution": {
     "iopub.execute_input": "2025-07-15T12:33:02.076534Z",
     "iopub.status.busy": "2025-07-15T12:33:02.076294Z",
     "iopub.status.idle": "2025-07-15T12:33:02.081157Z",
     "shell.execute_reply": "2025-07-15T12:33:02.080606Z"
    },
    "papermill": {
     "duration": 0.009808,
     "end_time": "2025-07-15T12:33:02.082126",
     "exception": false,
     "start_time": "2025-07-15T12:33:02.072318",
     "status": "completed"
    },
    "tags": []
   },
   "outputs": [],
   "source": [
    "max_bin_size = 255\n",
    "def get_bin_size(data):\n",
    "    bin_sizes = {}\n",
    "    for col in data.columns:\n",
    "        # 获取每个特征的唯一值数量\n",
    "        unique_values = data[col].nunique()\n",
    "        bin_sizes[col] = unique_values\n",
    "    return bin_sizes\n",
    "\n",
    "# 2. 改造 bin size 过大的特征\n",
    "def change_large_bin_features(X, max_bin_size=255):\n",
    "    bin_sizes = get_bin_size(X)\n",
    "    categorical_features = X.select_dtypes(include=['object', 'category']).columns\n",
    "\n",
    "    for col in categorical_features:\n",
    "        if bin_sizes[col] > max_bin_size:\n",
    "            X[col] = pd.Categorical(X[col]).codes\n",
    "            print(f\"Encoded column: {col}\")\n",
    "\n",
    "    return X\n"
   ]
  },
  {
   "cell_type": "code",
   "execution_count": 11,
   "id": "3f95d109",
   "metadata": {
    "execution": {
     "iopub.execute_input": "2025-07-15T12:33:02.089314Z",
     "iopub.status.busy": "2025-07-15T12:33:02.089082Z",
     "iopub.status.idle": "2025-07-15T12:33:02.130895Z",
     "shell.execute_reply": "2025-07-15T12:33:02.129973Z"
    },
    "papermill": {
     "duration": 0.046677,
     "end_time": "2025-07-15T12:33:02.132032",
     "exception": false,
     "start_time": "2025-07-15T12:33:02.085355",
     "status": "completed"
    },
    "tags": []
   },
   "outputs": [
    {
     "name": "stdout",
     "output_type": "stream",
     "text": [
      "Training with 48 features. Train shape: (200000, 48), Test shape: (200000, 48)\n"
     ]
    }
   ],
   "source": [
    "features = [col for col in train_df.columns if col not in ['id', 'sale_price']]\n",
    "y= train_df['sale_price']\n",
    "X = train_df[features]\n",
    "X_test = test_df_processed[features]\n",
    "print(f\"Training with {len(features)} features. Train shape: {X.shape}, Test shape: {X_test.shape}\")"
   ]
  },
  {
   "cell_type": "code",
   "execution_count": 12,
   "id": "4a79815d",
   "metadata": {
    "execution": {
     "iopub.execute_input": "2025-07-15T12:33:02.139877Z",
     "iopub.status.busy": "2025-07-15T12:33:02.139654Z",
     "iopub.status.idle": "2025-07-15T12:33:02.270970Z",
     "shell.execute_reply": "2025-07-15T12:33:02.270103Z"
    },
    "papermill": {
     "duration": 0.136568,
     "end_time": "2025-07-15T12:33:02.272176",
     "exception": false,
     "start_time": "2025-07-15T12:33:02.135608",
     "status": "completed"
    },
    "tags": []
   },
   "outputs": [
    {
     "name": "stdout",
     "output_type": "stream",
     "text": [
      "Encoded column: zoning\n",
      "Encoded column: subdivision\n",
      "Encoded column: zoning\n",
      "Encoded column: subdivision\n"
     ]
    }
   ],
   "source": [
    "X = change_large_bin_features(X, max_bin_size)\n",
    "X_test= change_large_bin_features(X_test, max_bin_size)"
   ]
  },
  {
   "cell_type": "code",
   "execution_count": 13,
   "id": "c1c9b32d",
   "metadata": {
    "execution": {
     "iopub.execute_input": "2025-07-15T12:33:02.280040Z",
     "iopub.status.busy": "2025-07-15T12:33:02.279811Z",
     "iopub.status.idle": "2025-07-15T12:33:02.285339Z",
     "shell.execute_reply": "2025-07-15T12:33:02.284656Z"
    },
    "papermill": {
     "duration": 0.010717,
     "end_time": "2025-07-15T12:33:02.286412",
     "exception": false,
     "start_time": "2025-07-15T12:33:02.275695",
     "status": "completed"
    },
    "tags": []
   },
   "outputs": [
    {
     "name": "stdout",
     "output_type": "stream",
     "text": [
      "\n",
      "--- Phase 2: Training with 5-Fold CV and prefit CQR ---\n"
     ]
    }
   ],
   "source": [
    "# --- 3. Cross-Validation Training with prefit=True ---\n",
    "print(f\"\\n--- Phase 2: Training with {CFG.N_SPLITS}-Fold CV and prefit CQR ---\")\n",
    "kf = KFold(n_splits=CFG.N_SPLITS, shuffle=True, random_state=CFG.SEED)\n",
    "\n",
    "oof_preds_lower = np.zeros(len(train_df))\n",
    "oof_preds_upper = np.zeros(len(train_df))\n",
    "test_preds_lower_sum = np.zeros(len(test_df_raw))\n",
    "test_preds_upper_sum = np.zeros(len(test_df_raw))\n",
    "fold_scores = []\n"
   ]
  },
  {
   "cell_type": "code",
   "execution_count": 14,
   "id": "c732ddca",
   "metadata": {
    "execution": {
     "iopub.execute_input": "2025-07-15T12:33:02.294568Z",
     "iopub.status.busy": "2025-07-15T12:33:02.294340Z",
     "iopub.status.idle": "2025-07-15T12:33:02.298119Z",
     "shell.execute_reply": "2025-07-15T12:33:02.297594Z"
    },
    "papermill": {
     "duration": 0.009228,
     "end_time": "2025-07-15T12:33:02.299077",
     "exception": false,
     "start_time": "2025-07-15T12:33:02.289849",
     "status": "completed"
    },
    "tags": []
   },
   "outputs": [],
   "source": [
    "# Define parameters for the three quantile models\n",
    "params_lower = {**CFG.LGBM_PARAMS, 'alpha': CFG.ALPHA / 2}\n",
    "params_median = {**CFG.LGBM_PARAMS, 'alpha': 0.5}\n",
    "params_upper = {**CFG.LGBM_PARAMS, 'alpha': 1 - (CFG.ALPHA / 2)}\n"
   ]
  },
  {
   "cell_type": "code",
   "execution_count": 15,
   "id": "552e61a6",
   "metadata": {
    "_cell_guid": "b1076dfc-b9ad-4769-8c92-a6c4dae69d19",
    "_uuid": "8f2839f25d086af736a60e9eeb907d3b93b6e0e5",
    "execution": {
     "iopub.execute_input": "2025-07-15T12:33:02.306714Z",
     "iopub.status.busy": "2025-07-15T12:33:02.306510Z",
     "iopub.status.idle": "2025-07-15T12:43:06.255256Z",
     "shell.execute_reply": "2025-07-15T12:43:06.254518Z"
    },
    "papermill": {
     "duration": 603.95431,
     "end_time": "2025-07-15T12:43:06.256854",
     "exception": false,
     "start_time": "2025-07-15T12:33:02.302544",
     "status": "completed"
    },
    "tags": []
   },
   "outputs": [
    {
     "name": "stdout",
     "output_type": "stream",
     "text": [
      "\n",
      "--- Fold 1/5 ---\n",
      "Fitting lower, median, and upper models...\n"
     ]
    },
    {
     "name": "stderr",
     "output_type": "stream",
     "text": [
      "1 warning generated.\n",
      "1 warning generated.\n",
      "1 warning generated.\n",
      "1 warning generated.\n",
      "1 warning generated.\n",
      "1 warning generated.\n",
      "1 warning generated.\n",
      "1 warning generated.\n",
      "1 warning generated.\n",
      "1 warning generated.\n",
      "1 warning generated.\n",
      "1 warning generated.\n",
      "1 warning generated.\n",
      "1 warning generated.\n",
      "1 warning generated.\n",
      "1 warning generated.\n",
      "1 warning generated.\n",
      "1 warning generated.\n",
      "1 warning generated.\n",
      "1 warning generated.\n",
      "1 warning generated.\n",
      "1 warning generated.\n",
      "1 warning generated.\n",
      "1 warning generated.\n",
      "1 warning generated.\n",
      "1 warning generated.\n",
      "1 warning generated.\n",
      "1 warning generated.\n",
      "1 warning generated.\n",
      "1 warning generated.\n",
      "1 warning generated.\n",
      "1 warning generated.\n",
      "1 warning generated.\n"
     ]
    },
    {
     "name": "stdout",
     "output_type": "stream",
     "text": [
      "Conformalizing models...\n",
      "Fold 1 Winkler Score: 326,238.01\n",
      "Predicting on test data...\n",
      "\n",
      "--- Fold 2/5 ---\n",
      "Fitting lower, median, and upper models...\n",
      "Conformalizing models...\n",
      "Fold 2 Winkler Score: 324,707.61\n",
      "Predicting on test data...\n",
      "\n",
      "--- Fold 3/5 ---\n",
      "Fitting lower, median, and upper models...\n",
      "Conformalizing models...\n",
      "Fold 3 Winkler Score: 331,748.56\n",
      "Predicting on test data...\n",
      "\n",
      "--- Fold 4/5 ---\n",
      "Fitting lower, median, and upper models...\n",
      "Conformalizing models...\n",
      "Fold 4 Winkler Score: 324,312.12\n",
      "Predicting on test data...\n",
      "\n",
      "--- Fold 5/5 ---\n",
      "Fitting lower, median, and upper models...\n",
      "Conformalizing models...\n",
      "Fold 5 Winkler Score: 327,849.28\n",
      "Predicting on test data...\n"
     ]
    }
   ],
   "source": [
    "for fold, (fit_idx, calib_idx) in enumerate(kf.split(X, y)):\n",
    "    print(f\"\\n--- Fold {fold+1}/{CFG.N_SPLITS} ---\")\n",
    "    X_fit, X_calib = X.iloc[fit_idx], X.iloc[calib_idx]\n",
    "    y_fit, y_calib = y.iloc[fit_idx], y.iloc[calib_idx]\n",
    "\n",
    "    # Step 1: Fit the three quantile models on the fitting dataset\n",
    "    print(\"Fitting lower, median, and upper models...\")\n",
    "    model_lower = lgb.LGBMRegressor(**params_lower)\n",
    "    model_median = lgb.LGBMRegressor(**params_median)\n",
    "    model_upper = lgb.LGBMRegressor(**params_upper)\n",
    "\n",
    "    callbacks = [lgb.early_stopping(100, verbose=False)]\n",
    "    model_lower.fit(X_fit, y_fit, eval_set=[(X_calib, y_calib)], callbacks=callbacks)\n",
    "    model_median.fit(X_fit, y_fit, eval_set=[(X_calib, y_calib)], callbacks=callbacks)\n",
    "    model_upper.fit(X_fit, y_fit, eval_set=[(X_calib, y_calib)], callbacks=callbacks)\n",
    "\n",
    "    # Step 2: Conformalize using the pre-fitted models and the calibration dataset\n",
    "    print(\"Conformalizing models...\")\n",
    "    mapie_cqr = ConformalizedQuantileRegressor(\n",
    "        estimator=[model_lower, model_upper, model_median], # [lower, upper, median] order\n",
    "        confidence_level=CFG.CONFIDENCE_LEVEL,\n",
    "        prefit=True\n",
    "    ).conformalize(X_calib, y_calib)\n",
    "\n",
    "    # Step 3: Generate OOF predictions for the calibration set\n",
    "    _, oof_pis = mapie_cqr.predict_interval(X_calib)\n",
    "    oof_preds_lower[calib_idx] = oof_pis[:, 0, 0]\n",
    "    oof_preds_upper[calib_idx] = oof_pis[:, 1, 0]\n",
    "\n",
    "    fold_score = winkler_score_func(y_calib, oof_pis[:, 0, 0], oof_pis[:, 1, 0])\n",
    "    fold_scores.append(fold_score)\n",
    "    print(f\"Fold {fold+1} Winkler Score: {fold_score:,.2f}\")\n",
    "\n",
    "    # Step 4: Generate predictions for the test set and accumulate them\n",
    "    print(\"Predicting on test data...\")\n",
    "    _, test_pis = mapie_cqr.predict_interval(X_test)\n",
    "    test_preds_lower_sum += test_pis[:, 0, 0]\n",
    "    test_preds_upper_sum += test_pis[:, 1, 0]\n"
   ]
  },
  {
   "cell_type": "code",
   "execution_count": 16,
   "id": "a9667814",
   "metadata": {
    "execution": {
     "iopub.execute_input": "2025-07-15T12:43:06.268062Z",
     "iopub.status.busy": "2025-07-15T12:43:06.267660Z",
     "iopub.status.idle": "2025-07-15T12:43:06.279265Z",
     "shell.execute_reply": "2025-07-15T12:43:06.278552Z"
    },
    "papermill": {
     "duration": 0.018089,
     "end_time": "2025-07-15T12:43:06.280266",
     "exception": false,
     "start_time": "2025-07-15T12:43:06.262177",
     "status": "completed"
    },
    "tags": []
   },
   "outputs": [
    {
     "name": "stdout",
     "output_type": "stream",
     "text": [
      "\n",
      "--- Phase 3: Final Evaluation and Submission ---\n",
      "\n",
      "Fold Scores: ['326,238.01', '324,707.61', '331,748.56', '324,312.12', '327,849.28']\n",
      "Overall OOF Winkler Score: 326,971.11\n"
     ]
    }
   ],
   "source": [
    "# --- 4. Final Evaluation and Submission ---\n",
    "print(\"\\n--- Phase 3: Final Evaluation and Submission ---\")\n",
    "\n",
    "overall_oof_score = winkler_score_func(y, oof_preds_lower, oof_preds_upper)\n",
    "print(f\"\\nFold Scores: {[f'{s:,.2f}' for s in fold_scores]}\")\n",
    "print(f\"Overall OOF Winkler Score: {overall_oof_score:,.2f}\")"
   ]
  },
  {
   "cell_type": "code",
   "execution_count": 17,
   "id": "6bde674f",
   "metadata": {
    "execution": {
     "iopub.execute_input": "2025-07-15T12:43:06.290498Z",
     "iopub.status.busy": "2025-07-15T12:43:06.290035Z",
     "iopub.status.idle": "2025-07-15T12:43:06.293466Z",
     "shell.execute_reply": "2025-07-15T12:43:06.292968Z"
    },
    "papermill": {
     "duration": 0.009553,
     "end_time": "2025-07-15T12:43:06.294431",
     "exception": false,
     "start_time": "2025-07-15T12:43:06.284878",
     "status": "completed"
    },
    "tags": []
   },
   "outputs": [],
   "source": [
    "test_preds_lower = test_preds_lower_sum / CFG.N_SPLITS\n",
    "test_preds_upper = test_preds_upper_sum / CFG.N_SPLITS"
   ]
  },
  {
   "cell_type": "code",
   "execution_count": 18,
   "id": "0ede31fb",
   "metadata": {
    "execution": {
     "iopub.execute_input": "2025-07-15T12:43:06.304655Z",
     "iopub.status.busy": "2025-07-15T12:43:06.304465Z",
     "iopub.status.idle": "2025-07-15T12:43:06.955377Z",
     "shell.execute_reply": "2025-07-15T12:43:06.954797Z"
    },
    "papermill": {
     "duration": 0.657584,
     "end_time": "2025-07-15T12:43:06.956676",
     "exception": false,
     "start_time": "2025-07-15T12:43:06.299092",
     "status": "completed"
    },
    "tags": []
   },
   "outputs": [],
   "source": [
    "submission_df = pd.DataFrame({\n",
    "    'id': test_df_raw['id'],\n",
    "    'pi_lower': test_preds_lower,\n",
    "    'pi_upper': test_preds_upper\n",
    "})\n",
    "submission_df['pi_lower'] = np.minimum(submission_df['pi_lower'], submission_df['pi_upper'])\n",
    "submission_df.to_csv(os.path.join(CFG.OUTPUT_PATH, 'submission_baseline_cqr_prefit.csv'), index=False)"
   ]
  },
  {
   "cell_type": "code",
   "execution_count": 19,
   "id": "bf985d91",
   "metadata": {
    "execution": {
     "iopub.execute_input": "2025-07-15T12:43:06.967042Z",
     "iopub.status.busy": "2025-07-15T12:43:06.966819Z",
     "iopub.status.idle": "2025-07-15T12:43:06.975617Z",
     "shell.execute_reply": "2025-07-15T12:43:06.974853Z"
    },
    "papermill": {
     "duration": 0.015076,
     "end_time": "2025-07-15T12:43:06.976644",
     "exception": false,
     "start_time": "2025-07-15T12:43:06.961568",
     "status": "completed"
    },
    "tags": []
   },
   "outputs": [
    {
     "name": "stdout",
     "output_type": "stream",
     "text": [
      "\n",
      "Submission file 'submission_baseline_cqr_prefit.csv' has been created.\n",
      "       id       pi_lower      pi_upper\n",
      "0  200000  789256.343558  1.039679e+06\n",
      "1  200001  530110.526735  8.082509e+05\n",
      "2  200002  448209.170878  6.818468e+05\n",
      "3  200003  294700.918156  4.347813e+05\n",
      "4  200004  398325.817184  7.019698e+05\n"
     ]
    }
   ],
   "source": [
    "print(\"\\nSubmission file 'submission_baseline_cqr_prefit.csv' has been created.\")\n",
    "print(submission_df.head())"
   ]
  }
 ],
 "metadata": {
  "kaggle": {
   "accelerator": "gpu",
   "dataSources": [
    {
     "databundleVersionId": 11917221,
     "sourceId": 99650,
     "sourceType": "competition"
    }
   ],
   "dockerImageVersionId": 31040,
   "isGpuEnabled": true,
   "isInternetEnabled": true,
   "language": "python",
   "sourceType": "notebook"
  },
  "kernelspec": {
   "display_name": "Python 3",
   "language": "python",
   "name": "python3"
  },
  "language_info": {
   "codemirror_mode": {
    "name": "ipython",
    "version": 3
   },
   "file_extension": ".py",
   "mimetype": "text/x-python",
   "name": "python",
   "nbconvert_exporter": "python",
   "pygments_lexer": "ipython3",
   "version": "3.11.11"
  },
  "papermill": {
   "default_parameters": {},
   "duration": 628.842314,
   "end_time": "2025-07-15T12:43:07.699584",
   "environment_variables": {},
   "exception": null,
   "input_path": "__notebook__.ipynb",
   "output_path": "__notebook__.ipynb",
   "parameters": {},
   "start_time": "2025-07-15T12:32:38.857270",
   "version": "2.6.0"
  }
 },
 "nbformat": 4,
 "nbformat_minor": 5
}
