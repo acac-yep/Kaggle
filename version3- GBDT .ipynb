{
 "cells": [
  {
   "cell_type": "markdown",
   "id": "31e09c26",
   "metadata": {
    "papermill": {
     "duration": 0.00441,
     "end_time": "2025-07-08T07:28:15.839947",
     "exception": false,
     "start_time": "2025-07-08T07:28:15.835537",
     "status": "completed"
    },
    "tags": []
   },
   "source": [
    "# PI-II: Demo QRF\n",
    "\n",
    "A simple example of fitting a quantile regression forest (QRF) using the [quantile-forest](https://zillow.github.io/quantile-forest/) package to estimate prediction intervals.\n",
    "\n",
    "Starter script for the [Prediction interval competition II: House price](https://www.kaggle.com/competitions/prediction-interval-competition-ii-house-price/overview) competition."
   ]
  },
  {
   "cell_type": "code",
   "execution_count": 1,
   "id": "b48c136d",
   "metadata": {
    "execution": {
     "iopub.execute_input": "2025-07-08T07:28:15.849465Z",
     "iopub.status.busy": "2025-07-08T07:28:15.848450Z",
     "iopub.status.idle": "2025-07-08T07:28:26.400945Z",
     "shell.execute_reply": "2025-07-08T07:28:26.399530Z"
    },
    "papermill": {
     "duration": 10.559681,
     "end_time": "2025-07-08T07:28:26.403319",
     "exception": false,
     "start_time": "2025-07-08T07:28:15.843638",
     "status": "completed"
    },
    "tags": []
   },
   "outputs": [
    {
     "name": "stdout",
     "output_type": "stream",
     "text": [
      "\u001b[2K   \u001b[90m━━━━━━━━━━━━━━━━━━━━━━━━━━━━━━━━━━━━━━━━\u001b[0m \u001b[32m1.9/1.9 MB\u001b[0m \u001b[31m20.7 MB/s\u001b[0m eta \u001b[36m0:00:00\u001b[0m\r\n",
      "\u001b[2K   \u001b[90m━━━━━━━━━━━━━━━━━━━━━━━━━━━━━━━━━━━━━━━━\u001b[0m \u001b[32m12.9/12.9 MB\u001b[0m \u001b[31m77.7 MB/s\u001b[0m eta \u001b[36m0:00:00\u001b[0m\r\n",
      "\u001b[?25h"
     ]
    }
   ],
   "source": [
    "!pip install -q quantile-forest 2>/dev/null  # package for quantile regression forests"
   ]
  },
  {
   "cell_type": "code",
   "execution_count": 2,
   "id": "1c153a9d",
   "metadata": {
    "execution": {
     "iopub.execute_input": "2025-07-08T07:28:26.414314Z",
     "iopub.status.busy": "2025-07-08T07:28:26.413940Z",
     "iopub.status.idle": "2025-07-08T07:28:36.374835Z",
     "shell.execute_reply": "2025-07-08T07:28:36.373261Z"
    },
    "papermill": {
     "duration": 9.968966,
     "end_time": "2025-07-08T07:28:36.377001",
     "exception": false,
     "start_time": "2025-07-08T07:28:26.408035",
     "status": "completed"
    },
    "tags": []
   },
   "outputs": [],
   "source": [
    "import numpy as np\n",
    "import pandas as pd\n",
    "from quantile_forest import RandomForestQuantileRegressor\n",
    "from sklearn.base import BaseEstimator, TransformerMixin, RegressorMixin\n",
    "from sklearn.impute import SimpleImputer\n",
    "from sklearn.model_selection import train_test_split\n",
    "from sklearn.preprocessing import OrdinalEncoder\n",
    "from sklearn.ensemble import GradientBoostingRegressor\n",
    "import lightgbm as lgb\n",
    "from typing import Tuple\n",
    "\n",
    "random_state = 0\n",
    "np.random.seed(random_state)\n",
    "\n",
    "# Competition variables.\n",
    "base_path = \"/kaggle/input/prediction-interval-competition-ii-house-price/\"\n",
    "alpha = 0.1  # the specified competition alpha (i.e., 90% coverage)"
   ]
  },
  {
   "cell_type": "code",
   "execution_count": 3,
   "id": "0afb80e3",
   "metadata": {
    "execution": {
     "iopub.execute_input": "2025-07-08T07:28:36.388543Z",
     "iopub.status.busy": "2025-07-08T07:28:36.386769Z",
     "iopub.status.idle": "2025-07-08T07:28:36.396113Z",
     "shell.execute_reply": "2025-07-08T07:28:36.395050Z"
    },
    "papermill": {
     "duration": 0.016535,
     "end_time": "2025-07-08T07:28:36.397915",
     "exception": false,
     "start_time": "2025-07-08T07:28:36.381380",
     "status": "completed"
    },
    "tags": []
   },
   "outputs": [],
   "source": [
    "def winkler_score(y_true, lower, upper, alpha=0.1, return_coverage=False):\n",
    "    \"\"\"Compute the Winkler Interval Score for prediction intervals.\n",
    "\n",
    "    Args:\n",
    "        y_true (array-like): True observed values.\n",
    "        lower (array-like): Lower bounds of prediction intervals.\n",
    "        upper (array-like): Upper bounds of prediction intervals.\n",
    "        alpha (float): Significance level (e.g., 0.1 for 90% intervals).\n",
    "        return_coverage (bool): If True, also return empirical coverage.\n",
    "\n",
    "    Returns:\n",
    "        score (float): Mean Winkler Score.\n",
    "        coverage (float, optional): Proportion of true values within intervals.\n",
    "    \"\"\"\n",
    "    y_true = np.asarray(y_true)\n",
    "    lower = np.asarray(lower)\n",
    "    upper = np.asarray(upper)\n",
    "\n",
    "    width = upper - lower\n",
    "    penalty_lower = 2 / alpha * (lower - y_true)\n",
    "    penalty_upper = 2 / alpha * (y_true - upper)\n",
    "\n",
    "    score = width.copy()\n",
    "    score += np.where(y_true < lower, penalty_lower, 0)\n",
    "    score += np.where(y_true > upper, penalty_upper, 0)\n",
    "\n",
    "    if return_coverage:\n",
    "        inside = (y_true >= lower) & (y_true <= upper)\n",
    "        coverage = np.mean(inside)\n",
    "        return np.mean(score), coverage\n",
    "\n",
    "    return np.mean(score)"
   ]
  },
  {
   "cell_type": "code",
   "execution_count": 4,
   "id": "fdebbe8f",
   "metadata": {
    "execution": {
     "iopub.execute_input": "2025-07-08T07:28:36.409236Z",
     "iopub.status.busy": "2025-07-08T07:28:36.408206Z",
     "iopub.status.idle": "2025-07-08T07:28:39.966158Z",
     "shell.execute_reply": "2025-07-08T07:28:39.964899Z"
    },
    "papermill": {
     "duration": 3.565692,
     "end_time": "2025-07-08T07:28:39.968020",
     "exception": false,
     "start_time": "2025-07-08T07:28:36.402328",
     "status": "completed"
    },
    "tags": []
   },
   "outputs": [],
   "source": [
    "df = pd.read_csv(base_path + \"dataset.csv\", index_col=\"id\", parse_dates=[\"sale_date\"])\n",
    "df_test = pd.read_csv(base_path + \"test.csv\", index_col=\"id\", parse_dates=[\"sale_date\"])"
   ]
  },
  {
   "cell_type": "markdown",
   "id": "424d1f4f",
   "metadata": {
    "papermill": {
     "duration": 0.003632,
     "end_time": "2025-07-08T07:28:39.976074",
     "exception": false,
     "start_time": "2025-07-08T07:28:39.972442",
     "status": "completed"
    },
    "tags": []
   },
   "source": [
    "## Data Preparation\n",
    "\n",
    "Prepare the data, including separating features and target, encoding categoricals, imputation, and simple feature engineering."
   ]
  },
  {
   "cell_type": "code",
   "execution_count": 5,
   "id": "02b623d8",
   "metadata": {
    "execution": {
     "iopub.execute_input": "2025-07-08T07:28:39.986010Z",
     "iopub.status.busy": "2025-07-08T07:28:39.985595Z",
     "iopub.status.idle": "2025-07-08T07:28:40.224983Z",
     "shell.execute_reply": "2025-07-08T07:28:40.223911Z"
    },
    "papermill": {
     "duration": 0.24687,
     "end_time": "2025-07-08T07:28:40.227014",
     "exception": false,
     "start_time": "2025-07-08T07:28:39.980144",
     "status": "completed"
    },
    "tags": []
   },
   "outputs": [],
   "source": [
    "# Split features and target.\n",
    "X = df.drop(\"sale_price\", axis=1)\n",
    "y = df[\"sale_price\"]\n",
    "\n",
    "# Split train/val and test.\n",
    "X_train, X_val, y_train, y_val = train_test_split(\n",
    "    X, y, test_size=0.50, random_state=random_state\n",
    ")\n",
    "X_test = df_test.copy()"
   ]
  },
  {
   "cell_type": "code",
   "execution_count": 6,
   "id": "a056b186",
   "metadata": {
    "execution": {
     "iopub.execute_input": "2025-07-08T07:28:40.236636Z",
     "iopub.status.busy": "2025-07-08T07:28:40.236200Z",
     "iopub.status.idle": "2025-07-08T07:28:41.226826Z",
     "shell.execute_reply": "2025-07-08T07:28:41.225969Z"
    },
    "papermill": {
     "duration": 0.997725,
     "end_time": "2025-07-08T07:28:41.228760",
     "exception": false,
     "start_time": "2025-07-08T07:28:40.231035",
     "status": "completed"
    },
    "tags": []
   },
   "outputs": [],
   "source": [
    "# Ordinal encoding.\n",
    "cat_cols = X_train.select_dtypes(include=[\"object\"]).columns.tolist()\n",
    "encoder = OrdinalEncoder(handle_unknown=\"use_encoded_value\", unknown_value=-1)\n",
    "X_train[cat_cols] = encoder.fit_transform(X_train[cat_cols])\n",
    "X_val[cat_cols] = encoder.transform(X_val[cat_cols])\n",
    "X_test[cat_cols] = encoder.transform(X_test[cat_cols])"
   ]
  },
  {
   "cell_type": "code",
   "execution_count": 7,
   "id": "0dc928d4",
   "metadata": {
    "execution": {
     "iopub.execute_input": "2025-07-08T07:28:41.238882Z",
     "iopub.status.busy": "2025-07-08T07:28:41.238536Z",
     "iopub.status.idle": "2025-07-08T07:28:42.734080Z",
     "shell.execute_reply": "2025-07-08T07:28:42.733019Z"
    },
    "papermill": {
     "duration": 1.502683,
     "end_time": "2025-07-08T07:28:42.736099",
     "exception": false,
     "start_time": "2025-07-08T07:28:41.233416",
     "status": "completed"
    },
    "tags": []
   },
   "outputs": [],
   "source": [
    "# Imputation.\n",
    "num_cols = X_train.select_dtypes(include=\"number\").columns.tolist()\n",
    "\n",
    "num_imputer = SimpleImputer(strategy=\"median\")\n",
    "cat_imputer = SimpleImputer(strategy=\"most_frequent\")\n",
    "\n",
    "\n",
    "def impute(df, cols, imputer, fit=False):\n",
    "    \"\"\"Helper function for imputation.\"\"\"\n",
    "    if fit:\n",
    "        return pd.DataFrame(imputer.fit_transform(df[cols]), columns=cols, index=df.index)\n",
    "    else:\n",
    "        return pd.DataFrame(imputer.transform(df[cols]), columns=cols, index=df.index)\n",
    "\n",
    "\n",
    "X_train[num_cols] = impute(X_train, num_cols, num_imputer, fit=True)\n",
    "X_val[num_cols] = impute(X_val, num_cols, num_imputer)\n",
    "X_test[num_cols] = impute(X_test, num_cols, num_imputer)\n",
    "\n",
    "X_train[cat_cols] = impute(X_train, cat_cols, cat_imputer, fit=True)\n",
    "X_val[cat_cols] = impute(X_val, cat_cols, cat_imputer)\n",
    "X_test[cat_cols] = impute(X_test, cat_cols, cat_imputer)"
   ]
  },
  {
   "cell_type": "code",
   "execution_count": 8,
   "id": "49dfa999",
   "metadata": {
    "execution": {
     "iopub.execute_input": "2025-07-08T07:28:42.745958Z",
     "iopub.status.busy": "2025-07-08T07:28:42.745550Z",
     "iopub.status.idle": "2025-07-08T07:28:43.070806Z",
     "shell.execute_reply": "2025-07-08T07:28:43.069788Z"
    },
    "papermill": {
     "duration": 0.332731,
     "end_time": "2025-07-08T07:28:43.072861",
     "exception": false,
     "start_time": "2025-07-08T07:28:42.740130",
     "status": "completed"
    },
    "tags": []
   },
   "outputs": [],
   "source": [
    "class SaleDateEncoder(BaseEstimator, TransformerMixin):\n",
    "    \"\"\"Encode sale date as a week of the year feature.\"\"\"\n",
    "\n",
    "    def __init__(self, date_column=\"sale_date\"):\n",
    "        self.date_column = date_column\n",
    "\n",
    "    def fit(self, X, y=None):\n",
    "        return self\n",
    "\n",
    "    def transform(self, X):\n",
    "        X = X.assign(\n",
    "            **{\n",
    "                \"sale_week\": lambda x: x[\"sale_date\"].dt.isocalendar().week,\n",
    "            }\n",
    "        ).drop(columns=[\"sale_date\"])\n",
    "        return X\n",
    "\n",
    "    def fit_transform(self, X):\n",
    "        return self.fit(self, X).transform(X)\n",
    "\n",
    "\n",
    "# Sale date encoding.\n",
    "saledate_encoder = SaleDateEncoder(date_column=\"sale_date\")\n",
    "X_train = saledate_encoder.fit_transform(X_train)\n",
    "X_val = saledate_encoder.transform(X_val)\n",
    "X_test = saledate_encoder.transform(X_test)"
   ]
  },
  {
   "cell_type": "markdown",
   "id": "7e810dd7",
   "metadata": {
    "papermill": {
     "duration": 0.003697,
     "end_time": "2025-07-08T07:28:43.080947",
     "exception": false,
     "start_time": "2025-07-08T07:28:43.077250",
     "status": "completed"
    },
    "tags": []
   },
   "source": [
    "## Model Fitting\n",
    "\n",
    "Fit a QRF model and use it to estimate a nominal marginal coverage of 90% (quantiles 0.05 and 0.95)."
   ]
  },
  {
   "cell_type": "code",
   "execution_count": 9,
   "id": "cacfb673",
   "metadata": {
    "execution": {
     "iopub.execute_input": "2025-07-08T07:28:43.090811Z",
     "iopub.status.busy": "2025-07-08T07:28:43.090392Z",
     "iopub.status.idle": "2025-07-08T07:28:43.102629Z",
     "shell.execute_reply": "2025-07-08T07:28:43.101529Z"
    },
    "papermill": {
     "duration": 0.019455,
     "end_time": "2025-07-08T07:28:43.104283",
     "exception": false,
     "start_time": "2025-07-08T07:28:43.084828",
     "status": "completed"
    },
    "tags": []
   },
   "outputs": [],
   "source": [
    "class GBDTIntervalRegressor(BaseEstimator, RegressorMixin):\n",
    "    \"\"\"\n",
    "    基于 scikit-learn GBDT / LightGBM 的分位数回归器，\n",
    "    支持同时训练多个分位数模型并输出区间。\n",
    "    \"\"\"\n",
    "\n",
    "    def __init__(\n",
    "        self,\n",
    "        backend: str = \"sklearn\",     # 或 \"lightgbm\"\n",
    "        n_estimators: int = 100,\n",
    "        learning_rate: float = 0.1,\n",
    "        max_depth: int = 3,\n",
    "        quantiles: Tuple[float, float, float] = (0.05, 0.5, 0.95),\n",
    "        **kwargs\n",
    "    ):\n",
    "        self.backend = backend\n",
    "        self.n_estimators = n_estimators\n",
    "        self.learning_rate = learning_rate\n",
    "        self.max_depth = max_depth\n",
    "        self.quantiles = quantiles\n",
    "        self.kwargs = kwargs\n",
    "        self.models_ = {}  # 存放 q 下界、中位数、上界三棵树\n",
    "\n",
    "    def fit(self, X, y):\n",
    "        \"\"\"\n",
    "        训练三个子模型：下分位数、中位数、上分位数\n",
    "        \"\"\"\n",
    "        for q in self.quantiles:\n",
    "            if self.backend == \"sklearn\":\n",
    "                model = GradientBoostingRegressor(\n",
    "                    loss=\"quantile\", alpha=q,\n",
    "                    n_estimators=self.n_estimators,\n",
    "                    learning_rate=self.learning_rate,\n",
    "                    max_depth=self.max_depth,\n",
    "                    **self.kwargs\n",
    "                )\n",
    "            else:  # lightgbm\n",
    "                params = dict(\n",
    "                    objective=\"quantile\",\n",
    "                    alpha=q,\n",
    "                    n_estimators=self.n_estimators,\n",
    "                    learning_rate=self.learning_rate,\n",
    "                    max_depth=self.max_depth,\n",
    "                    **self.kwargs\n",
    "                )\n",
    "                model = lgb.LGBMRegressor(**params)\n",
    "            model.fit(X, y)\n",
    "            self.models_[q] = model\n",
    "        return self\n",
    "\n",
    "    def predict(self, X) -> np.ndarray:\n",
    "        lower = self.models_[self.quantiles[0]].predict(X)\n",
    "        upper = self.models_[self.quantiles[2]].predict(X)\n",
    "        # 返回一个 (n_samples, 2) 的矩阵\n",
    "        return np.stack((lower, upper), axis=1)\n",
    "\n",
    "\n",
    "    @property\n",
    "    def feature_importances_(self):\n",
    "        \"\"\"返回各个模型的重要性（可以取平均或单独分析）。\"\"\"\n",
    "        imps = {q: m.feature_importances_ for q, m in self.models_.items()}\n",
    "        return imps\n",
    "\n",
    "    def get_params(self, deep=True):\n",
    "        \"\"\"支持 sklearn 参数搜索\"\"\"\n",
    "        return {\n",
    "            \"backend\": self.backend,\n",
    "            \"n_estimators\": self.n_estimators,\n",
    "            \"learning_rate\": self.learning_rate,\n",
    "            \"max_depth\": self.max_depth,\n",
    "            \"quantiles\": self.quantiles,\n",
    "            **self.kwargs,\n",
    "        }\n",
    "\n",
    "    def set_params(self, **params):\n",
    "        for k, v in params.items():\n",
    "            setattr(self, k, v)\n",
    "        return self"
   ]
  },
  {
   "cell_type": "code",
   "execution_count": 10,
   "id": "c904829a",
   "metadata": {
    "execution": {
     "iopub.execute_input": "2025-07-08T07:28:43.113975Z",
     "iopub.status.busy": "2025-07-08T07:28:43.113586Z",
     "iopub.status.idle": "2025-07-08T07:31:04.002094Z",
     "shell.execute_reply": "2025-07-08T07:31:04.000964Z"
    },
    "papermill": {
     "duration": 140.895809,
     "end_time": "2025-07-08T07:31:04.004307",
     "exception": false,
     "start_time": "2025-07-08T07:28:43.108498",
     "status": "completed"
    },
    "tags": []
   },
   "outputs": [],
   "source": [
    "model = GBDTIntervalRegressor().fit(X_train, y_train)"
   ]
  },
  {
   "cell_type": "code",
   "execution_count": 11,
   "id": "591aa5f4",
   "metadata": {
    "execution": {
     "iopub.execute_input": "2025-07-08T07:31:04.016604Z",
     "iopub.status.busy": "2025-07-08T07:31:04.015671Z",
     "iopub.status.idle": "2025-07-08T07:31:04.710018Z",
     "shell.execute_reply": "2025-07-08T07:31:04.708824Z"
    },
    "papermill": {
     "duration": 0.702867,
     "end_time": "2025-07-08T07:31:04.712010",
     "exception": false,
     "start_time": "2025-07-08T07:31:04.009143",
     "status": "completed"
    },
    "tags": []
   },
   "outputs": [],
   "source": [
    "y_val_pred = model.predict(X_val)\n",
    "y_val_pred = pd.DataFrame(y_val_pred, columns=[\"pi_lower\", \"pi_upper\"])\n",
    "#产生每个样本的预测区间并保存"
   ]
  },
  {
   "cell_type": "markdown",
   "id": "0260e732",
   "metadata": {
    "papermill": {
     "duration": 0.003719,
     "end_time": "2025-07-08T07:31:04.720069",
     "exception": false,
     "start_time": "2025-07-08T07:31:04.716350",
     "status": "completed"
    },
    "tags": []
   },
   "source": [
    "## Evaluation\n",
    "\n",
    "Evaluate the QRF predictions on the validation data."
   ]
  },
  {
   "cell_type": "code",
   "execution_count": 12,
   "id": "0c1448a7",
   "metadata": {
    "execution": {
     "iopub.execute_input": "2025-07-08T07:31:04.729584Z",
     "iopub.status.busy": "2025-07-08T07:31:04.729191Z",
     "iopub.status.idle": "2025-07-08T07:31:04.740296Z",
     "shell.execute_reply": "2025-07-08T07:31:04.739064Z"
    },
    "papermill": {
     "duration": 0.0181,
     "end_time": "2025-07-08T07:31:04.742106",
     "exception": false,
     "start_time": "2025-07-08T07:31:04.724006",
     "status": "completed"
    },
    "tags": []
   },
   "outputs": [
    {
     "name": "stdout",
     "output_type": "stream",
     "text": [
      "Mean Winkler Score: 901740.02\n",
      "Coverage: 89.8 %\n"
     ]
    }
   ],
   "source": [
    "mws, coverage = winkler_score(\n",
    "    y_val,\n",
    "    y_val_pred[\"pi_lower\"],\n",
    "    y_val_pred[\"pi_upper\"],\n",
    "    alpha=alpha,\n",
    "    return_coverage=True,\n",
    ")\n",
    "\n",
    "print(\"Mean Winkler Score:\", round(mws, 2))\n",
    "print(\"Coverage:\", round(coverage * 100, 1), \"%\")"
   ]
  },
  {
   "cell_type": "markdown",
   "id": "9001f0ce",
   "metadata": {
    "papermill": {
     "duration": 0.003897,
     "end_time": "2025-07-08T07:31:04.750210",
     "exception": false,
     "start_time": "2025-07-08T07:31:04.746313",
     "status": "completed"
    },
    "tags": []
   },
   "source": [
    "## Submission"
   ]
  },
  {
   "cell_type": "code",
   "execution_count": 13,
   "id": "baa11776",
   "metadata": {
    "execution": {
     "iopub.execute_input": "2025-07-08T07:31:04.761193Z",
     "iopub.status.busy": "2025-07-08T07:31:04.760872Z",
     "iopub.status.idle": "2025-07-08T07:31:06.883184Z",
     "shell.execute_reply": "2025-07-08T07:31:06.881937Z"
    },
    "papermill": {
     "duration": 2.129897,
     "end_time": "2025-07-08T07:31:06.885129",
     "exception": false,
     "start_time": "2025-07-08T07:31:04.755232",
     "status": "completed"
    },
    "tags": []
   },
   "outputs": [
    {
     "data": {
      "text/html": [
       "<div>\n",
       "<style scoped>\n",
       "    .dataframe tbody tr th:only-of-type {\n",
       "        vertical-align: middle;\n",
       "    }\n",
       "\n",
       "    .dataframe tbody tr th {\n",
       "        vertical-align: top;\n",
       "    }\n",
       "\n",
       "    .dataframe thead th {\n",
       "        text-align: right;\n",
       "    }\n",
       "</style>\n",
       "<table border=\"1\" class=\"dataframe\">\n",
       "  <thead>\n",
       "    <tr style=\"text-align: right;\">\n",
       "      <th></th>\n",
       "      <th>id</th>\n",
       "      <th>pi_lower</th>\n",
       "      <th>pi_upper</th>\n",
       "    </tr>\n",
       "  </thead>\n",
       "  <tbody>\n",
       "    <tr>\n",
       "      <th>0</th>\n",
       "      <td>200000</td>\n",
       "      <td>553799.744720</td>\n",
       "      <td>1.056133e+06</td>\n",
       "    </tr>\n",
       "    <tr>\n",
       "      <th>1</th>\n",
       "      <td>200001</td>\n",
       "      <td>628734.264791</td>\n",
       "      <td>1.844173e+06</td>\n",
       "    </tr>\n",
       "    <tr>\n",
       "      <th>2</th>\n",
       "      <td>200002</td>\n",
       "      <td>331887.387839</td>\n",
       "      <td>1.299444e+06</td>\n",
       "    </tr>\n",
       "    <tr>\n",
       "      <th>3</th>\n",
       "      <td>200003</td>\n",
       "      <td>216573.992742</td>\n",
       "      <td>4.376405e+05</td>\n",
       "    </tr>\n",
       "    <tr>\n",
       "      <th>4</th>\n",
       "      <td>200004</td>\n",
       "      <td>271605.456153</td>\n",
       "      <td>1.309509e+06</td>\n",
       "    </tr>\n",
       "    <tr>\n",
       "      <th>...</th>\n",
       "      <td>...</td>\n",
       "      <td>...</td>\n",
       "      <td>...</td>\n",
       "    </tr>\n",
       "    <tr>\n",
       "      <th>199995</th>\n",
       "      <td>399995</td>\n",
       "      <td>219653.639384</td>\n",
       "      <td>8.934583e+05</td>\n",
       "    </tr>\n",
       "    <tr>\n",
       "      <th>199996</th>\n",
       "      <td>399996</td>\n",
       "      <td>239270.515570</td>\n",
       "      <td>8.018955e+05</td>\n",
       "    </tr>\n",
       "    <tr>\n",
       "      <th>199997</th>\n",
       "      <td>399997</td>\n",
       "      <td>194613.374663</td>\n",
       "      <td>5.396006e+05</td>\n",
       "    </tr>\n",
       "    <tr>\n",
       "      <th>199998</th>\n",
       "      <td>399998</td>\n",
       "      <td>390722.163434</td>\n",
       "      <td>1.424492e+06</td>\n",
       "    </tr>\n",
       "    <tr>\n",
       "      <th>199999</th>\n",
       "      <td>399999</td>\n",
       "      <td>461542.412974</td>\n",
       "      <td>1.007827e+06</td>\n",
       "    </tr>\n",
       "  </tbody>\n",
       "</table>\n",
       "<p>200000 rows × 3 columns</p>\n",
       "</div>"
      ],
      "text/plain": [
       "            id       pi_lower      pi_upper\n",
       "0       200000  553799.744720  1.056133e+06\n",
       "1       200001  628734.264791  1.844173e+06\n",
       "2       200002  331887.387839  1.299444e+06\n",
       "3       200003  216573.992742  4.376405e+05\n",
       "4       200004  271605.456153  1.309509e+06\n",
       "...        ...            ...           ...\n",
       "199995  399995  219653.639384  8.934583e+05\n",
       "199996  399996  239270.515570  8.018955e+05\n",
       "199997  399997  194613.374663  5.396006e+05\n",
       "199998  399998  390722.163434  1.424492e+06\n",
       "199999  399999  461542.412974  1.007827e+06\n",
       "\n",
       "[200000 rows x 3 columns]"
      ]
     },
     "execution_count": 13,
     "metadata": {},
     "output_type": "execute_result"
    }
   ],
   "source": [
    "# Predict intervals on test set.\n",
    "test_preds = model.predict(X_test)\n",
    "\n",
    "sample_submission = pd.read_csv(base_path + \"sample_submission.csv\")\n",
    "sample_submission[\"pi_lower\"] = test_preds[:, 0]\n",
    "sample_submission[\"pi_upper\"] = test_preds[:, 1]\n",
    "sample_submission.to_csv(\"submission.csv\",\n",
    "                         index=False,\n",
    "                         float_format=\"%.6f\")\n",
    "\n",
    "sample_submission"
   ]
  }
 ],
 "metadata": {
  "kaggle": {
   "accelerator": "none",
   "dataSources": [
    {
     "databundleVersionId": 11917221,
     "sourceId": 99650,
     "sourceType": "competition"
    }
   ],
   "dockerImageVersionId": 31012,
   "isGpuEnabled": false,
   "isInternetEnabled": true,
   "language": "python",
   "sourceType": "notebook"
  },
  "kernelspec": {
   "display_name": "Python 3",
   "language": "python",
   "name": "python3"
  },
  "language_info": {
   "codemirror_mode": {
    "name": "ipython",
    "version": 3
   },
   "file_extension": ".py",
   "mimetype": "text/x-python",
   "name": "python",
   "nbconvert_exporter": "python",
   "pygments_lexer": "ipython3",
   "version": "3.11.11"
  },
  "papermill": {
   "default_parameters": {},
   "duration": 178.493443,
   "end_time": "2025-07-08T07:31:08.416069",
   "environment_variables": {},
   "exception": null,
   "input_path": "__notebook__.ipynb",
   "output_path": "__notebook__.ipynb",
   "parameters": {},
   "start_time": "2025-07-08T07:28:09.922626",
   "version": "2.6.0"
  }
 },
 "nbformat": 4,
 "nbformat_minor": 5
}
