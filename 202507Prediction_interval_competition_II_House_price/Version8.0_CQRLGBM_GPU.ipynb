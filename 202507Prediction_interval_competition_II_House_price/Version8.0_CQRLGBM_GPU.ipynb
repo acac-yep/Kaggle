{
 "cells": [
  {
   "cell_type": "code",
   "execution_count": 1,
   "id": "1e9290e6",
   "metadata": {
    "execution": {
     "iopub.execute_input": "2025-07-18T15:47:19.694167Z",
     "iopub.status.busy": "2025-07-18T15:47:19.693959Z",
     "iopub.status.idle": "2025-07-18T15:47:27.179417Z",
     "shell.execute_reply": "2025-07-18T15:47:27.178696Z"
    },
    "papermill": {
     "duration": 7.49304,
     "end_time": "2025-07-18T15:47:27.180898",
     "exception": false,
     "start_time": "2025-07-18T15:47:19.687858",
     "status": "completed"
    },
    "tags": []
   },
   "outputs": [
    {
     "name": "stdout",
     "output_type": "stream",
     "text": [
      "\u001b[2K   \u001b[90m━━━━━━━━━━━━━━━━━━━━━━━━━━━━━━━━━━━━━━━━\u001b[0m \u001b[32m173.2/173.2 kB\u001b[0m \u001b[31m6.0 MB/s\u001b[0m eta \u001b[36m0:00:00\u001b[0m\r\n",
      "\u001b[2K   \u001b[90m━━━━━━━━━━━━━━━━━━━━━━━━━━━━━━━━━━━━━━━━\u001b[0m \u001b[32m9.7/9.7 MB\u001b[0m \u001b[31m100.0 MB/s\u001b[0m eta \u001b[36m0:00:00\u001b[0m\r\n",
      "\u001b[?25h\u001b[31mERROR: pip's dependency resolver does not currently take into account all the packages that are installed. This behaviour is the source of the following dependency conflicts.\r\n",
      "category-encoders 2.7.0 requires scikit-learn<1.6.0,>=1.0.0, but you have scikit-learn 1.7.1 which is incompatible.\r\n",
      "cesium 0.12.4 requires numpy<3.0,>=2.0, but you have numpy 1.26.4 which is incompatible.\r\n",
      "sklearn-compat 0.1.3 requires scikit-learn<1.7,>=1.2, but you have scikit-learn 1.7.1 which is incompatible.\u001b[0m\u001b[31m\r\n",
      "\u001b[0m"
     ]
    }
   ],
   "source": [
    "!pip install mapie -qq"
   ]
  },
  {
   "cell_type": "code",
   "execution_count": 2,
   "id": "6de8d73a",
   "metadata": {
    "execution": {
     "iopub.execute_input": "2025-07-18T15:47:27.191787Z",
     "iopub.status.busy": "2025-07-18T15:47:27.191511Z",
     "iopub.status.idle": "2025-07-18T15:47:27.681340Z",
     "shell.execute_reply": "2025-07-18T15:47:27.680527Z"
    },
    "papermill": {
     "duration": 0.496244,
     "end_time": "2025-07-18T15:47:27.682428",
     "exception": false,
     "start_time": "2025-07-18T15:47:27.186184",
     "status": "completed"
    },
    "tags": []
   },
   "outputs": [
    {
     "name": "stdout",
     "output_type": "stream",
     "text": [
      "\r\n",
      "Usage:   \r\n",
      "  /usr/bin/python3 -m pip install [options] <requirement specifier> [package-index-options] ...\r\n",
      "  /usr/bin/python3 -m pip install [options] -r <requirements file> [package-index-options] ...\r\n",
      "  /usr/bin/python3 -m pip install [options] [-e] <vcs project url> ...\r\n",
      "  /usr/bin/python3 -m pip install [options] [-e] <local project path> ...\r\n",
      "  /usr/bin/python3 -m pip install [options] <archive url/path> ...\r\n",
      "\r\n",
      "no such option: --install-option\r\n",
      "Note: you may need to restart the kernel to use updated packages.\n"
     ]
    }
   ],
   "source": [
    "pip install lightgbm --install-option=--gpu"
   ]
  },
  {
   "cell_type": "code",
   "execution_count": 3,
   "id": "ed02053d",
   "metadata": {
    "execution": {
     "iopub.execute_input": "2025-07-18T15:47:27.692987Z",
     "iopub.status.busy": "2025-07-18T15:47:27.692744Z",
     "iopub.status.idle": "2025-07-18T15:47:34.208205Z",
     "shell.execute_reply": "2025-07-18T15:47:34.207593Z"
    },
    "papermill": {
     "duration": 6.522197,
     "end_time": "2025-07-18T15:47:34.209509",
     "exception": false,
     "start_time": "2025-07-18T15:47:27.687312",
     "status": "completed"
    },
    "tags": []
   },
   "outputs": [],
   "source": [
    "# --- 0. Import Libraries ---\n",
    "import pandas as pd\n",
    "import numpy as np\n",
    "import lightgbm as lgb\n",
    "import seaborn as sns\n",
    "import matplotlib.pyplot as plt\n",
    "from sklearn.model_selection import KFold\n",
    "from sklearn.preprocessing import OrdinalEncoder\n",
    "from mapie.regression import ConformalizedQuantileRegressor\n",
    "import warnings\n",
    "import os"
   ]
  },
  {
   "cell_type": "code",
   "execution_count": 4,
   "id": "7e23d988",
   "metadata": {
    "execution": {
     "iopub.execute_input": "2025-07-18T15:47:34.220178Z",
     "iopub.status.busy": "2025-07-18T15:47:34.219798Z",
     "iopub.status.idle": "2025-07-18T15:47:34.223277Z",
     "shell.execute_reply": "2025-07-18T15:47:34.222650Z"
    },
    "papermill": {
     "duration": 0.009892,
     "end_time": "2025-07-18T15:47:34.224434",
     "exception": false,
     "start_time": "2025-07-18T15:47:34.214542",
     "status": "completed"
    },
    "tags": []
   },
   "outputs": [],
   "source": [
    "warnings.filterwarnings('ignore')"
   ]
  },
  {
   "cell_type": "code",
   "execution_count": 5,
   "id": "495942ef",
   "metadata": {
    "execution": {
     "iopub.execute_input": "2025-07-18T15:47:34.234447Z",
     "iopub.status.busy": "2025-07-18T15:47:34.234228Z",
     "iopub.status.idle": "2025-07-18T15:47:34.239675Z",
     "shell.execute_reply": "2025-07-18T15:47:34.239005Z"
    },
    "papermill": {
     "duration": 0.011586,
     "end_time": "2025-07-18T15:47:34.240767",
     "exception": false,
     "start_time": "2025-07-18T15:47:34.229181",
     "status": "completed"
    },
    "tags": []
   },
   "outputs": [],
   "source": [
    "class CFG:\n",
    "    # Global settings\n",
    "    SEED = 42\n",
    "    N_SPLITS = 5  # Number of folds for cross-validation\n",
    "    CONFIDENCE_LEVEL = 0.9  # Target confidence level (90%)\n",
    "    ALPHA = 1 - CONFIDENCE_LEVEL\n",
    "\n",
    "    # File paths\n",
    "    try:\n",
    "        # Kaggle environment\n",
    "        DATA_PATH = '/kaggle/input/prediction-interval-competition-ii-house-price/'\n",
    "        if not os.path.exists(os.path.join(DATA_PATH, 'dataset.csv')):\n",
    "            raise FileNotFoundError\n",
    "    except FileNotFoundError:\n",
    "        print(\"Kaggle path not found or files missing, switching to local path './'.\")\n",
    "        DATA_PATH = './'\n",
    "    OUTPUT_PATH = './'\n",
    "\n",
    "    # Base parameters for the quantile models\n",
    "    LGBM_PARAMS = {\n",
    "        'objective': 'quantile',\n",
    "        'metric': 'quantile',\n",
    "        'n_estimators': 1024, # Increased for early stopping\n",
    "        'subsample': 0.8,\n",
    "        'colsample_bytree': 0.5,\n",
    "        'learning_rate': 0.05,\n",
    "        'max_depth': -1,\n",
    "        'min_child_samples': 150,\n",
    "        'n_jobs': -1,\n",
    "        'random_state': SEED,\n",
    "        'verbose': -1,\n",
    "        'device': 'gpu',\n",
    "        'max_bin':255,\n",
    "        'gpu_platform_id': 0, \n",
    "        'gpu_device_id': 0,  \n",
    "    }"
   ]
  },
  {
   "cell_type": "code",
   "execution_count": 6,
   "id": "71300568",
   "metadata": {
    "execution": {
     "iopub.execute_input": "2025-07-18T15:47:34.250708Z",
     "iopub.status.busy": "2025-07-18T15:47:34.250480Z",
     "iopub.status.idle": "2025-07-18T15:47:34.254482Z",
     "shell.execute_reply": "2025-07-18T15:47:34.254019Z"
    },
    "papermill": {
     "duration": 0.010065,
     "end_time": "2025-07-18T15:47:34.255518",
     "exception": false,
     "start_time": "2025-07-18T15:47:34.245453",
     "status": "completed"
    },
    "tags": []
   },
   "outputs": [],
   "source": [
    "def winkler_score_func(y_true, lower, upper, alpha=CFG.ALPHA):\n",
    "    \"\"\"Utility function to calculate the Winkler score.\"\"\"\n",
    "    score = np.mean(upper - lower)\n",
    "    score += np.mean(np.where(y_true < lower, (2 / alpha) * (lower - y_true), 0))\n",
    "    score += np.mean(np.where(y_true > upper, (2 / alpha) * (y_true - upper), 0))\n",
    "    return score\n"
   ]
  },
  {
   "cell_type": "code",
   "execution_count": 7,
   "id": "8eb4ed4f",
   "metadata": {
    "execution": {
     "iopub.execute_input": "2025-07-18T15:47:34.265312Z",
     "iopub.status.busy": "2025-07-18T15:47:34.264947Z",
     "iopub.status.idle": "2025-07-18T15:47:36.442802Z",
     "shell.execute_reply": "2025-07-18T15:47:36.442222Z"
    },
    "papermill": {
     "duration": 2.184057,
     "end_time": "2025-07-18T15:47:36.444148",
     "exception": false,
     "start_time": "2025-07-18T15:47:34.260091",
     "status": "completed"
    },
    "tags": []
   },
   "outputs": [
    {
     "name": "stdout",
     "output_type": "stream",
     "text": [
      "\n",
      "--- Phase 1: Loading and Preprocessing Data ---\n"
     ]
    }
   ],
   "source": [
    "# --- 2. Data Loading and Preprocessing ---\n",
    "print(\"\\n--- Phase 1: Loading and Preprocessing Data ---\")\n",
    "try:\n",
    "    train_df_raw = pd.read_csv(os.path.join(CFG.DATA_PATH, 'dataset.csv'))\n",
    "    test_df_raw = pd.read_csv(os.path.join(CFG.DATA_PATH, 'test.csv'))\n",
    "except FileNotFoundError:\n",
    "    print(\"Error: dataset.csv or test.csv not found.\")\n",
    "    print(\"Creating dummy data for demonstration purposes.\")\n",
    "    train_df_raw = pd.DataFrame({\n",
    "        'id': range(1000), 'sale_price': np.random.rand(1000) * 500000 + 100000,\n",
    "        'sale_date': pd.to_datetime(pd.date_range(start='2022-01-01', periods=1000)),\n",
    "        'category_feature': np.random.choice(['A', 'B', 'C'], 1000)\n",
    "    })\n",
    "    test_df_raw = pd.DataFrame({\n",
    "        'id': range(1000, 1200),\n",
    "        'sale_date': pd.to_datetime(pd.date_range(start='2024-09-01', periods=200)),\n",
    "        'category_feature': np.random.choice(['A', 'B', 'C'], 200)\n",
    "    })\n"
   ]
  },
  {
   "cell_type": "code",
   "execution_count": 8,
   "id": "4267750a",
   "metadata": {
    "execution": {
     "iopub.execute_input": "2025-07-18T15:47:36.455022Z",
     "iopub.status.busy": "2025-07-18T15:47:36.454457Z",
     "iopub.status.idle": "2025-07-18T15:47:36.459526Z",
     "shell.execute_reply": "2025-07-18T15:47:36.459040Z"
    },
    "papermill": {
     "duration": 0.011297,
     "end_time": "2025-07-18T15:47:36.460573",
     "exception": false,
     "start_time": "2025-07-18T15:47:36.449276",
     "status": "completed"
    },
    "tags": []
   },
   "outputs": [],
   "source": [
    "def feature_engineer(df):\n",
    "    \"\"\"Simple feature engineering.\"\"\"\n",
    "    data = df.copy()\n",
    "    if 'sale_date' in data.columns:\n",
    "        data['sale_date'] = pd.to_datetime(data['sale_date'])\n",
    "        data['sale_year'] = data['sale_date'].dt.year\n",
    "        data['sale_month'] = data['sale_date'].dt.month\n",
    "        data['sale_dayofweek'] = data['sale_date'].dt.dayofweek\n",
    "        first_sale_month = data['sale_date'].dt.to_period('M').min()\n",
    "        data['months_since_first_sale'] = (data['sale_date'].dt.to_period('M') - first_sale_month).apply(lambda x: x.n)\n",
    "        data = data.drop('sale_date', axis=1)\n",
    "        cat_cols = data.select_dtypes(include=['object']).columns\n",
    "        for col in cat_cols:\n",
    "            data[col] = pd.Categorical(data[col])#给特征编码\n",
    "    return data\n"
   ]
  },
  {
   "cell_type": "code",
   "execution_count": 9,
   "id": "584e4460",
   "metadata": {
    "execution": {
     "iopub.execute_input": "2025-07-18T15:47:36.471312Z",
     "iopub.status.busy": "2025-07-18T15:47:36.471096Z",
     "iopub.status.idle": "2025-07-18T15:47:36.480449Z",
     "shell.execute_reply": "2025-07-18T15:47:36.479798Z"
    },
    "papermill": {
     "duration": 0.016227,
     "end_time": "2025-07-18T15:47:36.481429",
     "exception": false,
     "start_time": "2025-07-18T15:47:36.465202",
     "status": "completed"
    },
    "tags": []
   },
   "outputs": [],
   "source": [
    "def add_interaction_features(\n",
    "    X: pd.DataFrame,\n",
    "    use_house_age=False,\n",
    "    use_reno_age=False,\n",
    "    use_sqft_times_stories=False,\n",
    "    use_beds_times_baths=True,\n",
    "    use_aux_space=False,\n",
    "    use_density=False,\n",
    "    use_num_views=True,\n",
    "    use_scenic_score=True,\n",
    "    use_env_score=True\n",
    ") -> pd.DataFrame:\n",
    "    \"\"\"\n",
    "    根据控制开关添加房屋相关交互特征，返回增强后的 DataFrame。\n",
    "    所有新增特征为 float 类型。\n",
    "    \"\"\"\n",
    "\n",
    "    X = X.copy()\n",
    "\n",
    "    # 1. 房龄\n",
    "    if use_house_age:\n",
    "        X['house_age'] = (X['sale_year'] - X['year_built']).clip(lower=0).astype(float)\n",
    "\n",
    "    # 2. 装修后房龄\n",
    "    if use_reno_age:\n",
    "        reno_age = X['sale_year'] - X['year_reno']\n",
    "        house_age = X.get('house_age', (X['sale_year'] - X['year_built']).clip(lower=0))\n",
    "        X['reno_age'] = pd.Series(np.where(X['year_reno'].isna(), house_age, reno_age), index=X.index).clip(lower=0).astype(float)\n",
    "\n",
    "    # 3. 面积 × 楼层数\n",
    "    if use_sqft_times_stories:\n",
    "        X['sqft_times_stories'] = (X['sqft'] * X['stories']).astype(float)\n",
    "\n",
    "    # 4. 卫浴数 × 卧室数\n",
    "    if use_beds_times_baths:\n",
    "        X['total_baths'] = (\n",
    "            X.get('bath_full', 0) +\n",
    "            X.get('bath_3qtr', 0) * 0.75 +\n",
    "            X.get('bath_half', 0) * 0.5\n",
    "        ).astype(float)\n",
    "        X['beds_times_baths'] = (X['beds'] * X['total_baths']).astype(float)\n",
    "\n",
    "    # 5. 辅助空间（车库 + 地下室）\n",
    "    if use_aux_space:\n",
    "        X['aux_space'] = (X.get('gara_sqft', 0) + X.get('sqft_fbsmt', 0)).astype(float)\n",
    "\n",
    "    # 6. 每平方米估值\n",
    "    if use_density:\n",
    "        X['land_val_density'] = (X['land_val'] / (X['sqft_lot'] + 1e-3)).astype(float)\n",
    "        X['imp_val_density'] = (X['imp_val'] / (X['sqft'] + 1e-3)).astype(float)\n",
    "\n",
    "    # 7. 视野数量合并\n",
    "    if use_num_views:\n",
    "        view_cols = [\n",
    "            'view_rainier', 'view_olympics', 'view_cascades',\n",
    "            'view_territorial', 'view_skyline', 'view_sound',\n",
    "            'view_lakewash', 'view_lakesamm', 'view_otherwater', 'view_other'\n",
    "        ]\n",
    "        X['num_views'] = X[view_cols].fillna(0).sum(axis=1).astype(float)\n",
    "\n",
    "    # 8. 环境景观得分（靠水、高尔夫、绿地）\n",
    "    if use_scenic_score or use_env_score:\n",
    "        for col in ['wfnt', 'golf', 'greenbelt']:\n",
    "            X[col] = pd.to_numeric(X[col], errors='coerce').fillna(0)\n",
    "\n",
    "    if use_scenic_score:\n",
    "        X['scenic_score'] = (X['wfnt'] + X['golf'] + X['greenbelt']).astype(float)\n",
    "\n",
    "    if use_env_score:\n",
    "        X['env_score'] = (X.get('scenic_score', 0) - X['noise_traffic'].fillna(0)).astype(float)\n",
    "\n",
    "    NUMS=['area','land_val','imp_val','sqft','sqft_fbsmt','garb_sqft','total_baths','env_score']\n",
    "    for i in range(len(NUMS)):\n",
    "        for j in range(i+1,len(NUMS)):\n",
    "            X[f'{NUMS[i]}_x_{NUMS[j]}']=X[NUMS[i]]*X[NUMS[j]]\n",
    "    return X\n"
   ]
  },
  {
   "cell_type": "code",
   "execution_count": 10,
   "id": "fd999440",
   "metadata": {
    "execution": {
     "iopub.execute_input": "2025-07-18T15:47:36.491171Z",
     "iopub.status.busy": "2025-07-18T15:47:36.490972Z",
     "iopub.status.idle": "2025-07-18T15:47:36.495011Z",
     "shell.execute_reply": "2025-07-18T15:47:36.494402Z"
    },
    "papermill": {
     "duration": 0.010073,
     "end_time": "2025-07-18T15:47:36.496098",
     "exception": false,
     "start_time": "2025-07-18T15:47:36.486025",
     "status": "completed"
    },
    "tags": []
   },
   "outputs": [],
   "source": [
    "def preprocess_pipeline(df):\n",
    "    \"\"\"完整预处理：时间解析 + 特征编码 + 交互特征添加\"\"\"\n",
    "    X = feature_engineer(df)\n",
    "    X = add_interaction_features(X)\n",
    "    drop_cols=['golf',#20万数据 198756都是0,基本没什么信息了.\n",
    "           'view_rainier',#20万数据,198588都是0.\n",
    "           'view_skyline',#20万数据,198517都是0.\n",
    "           'view_lakesamm',#20万数据,198776都是0.\n",
    "           'view_otherwater',#20万数据,198473都是0.\n",
    "           'view_other',#20万数据,198833都是0.\n",
    "              ]\n",
    "    X = X.drop(columns=drop_cols)\n",
    "    for c in ['land_val_x_imp_val', 'land_val_x_sqft', 'imp_val_x_sqft']:\n",
    "        X[c] = np.log1p(X[c])\n",
    "    return X"
   ]
  },
  {
   "cell_type": "code",
   "execution_count": 11,
   "id": "15190469",
   "metadata": {
    "execution": {
     "iopub.execute_input": "2025-07-18T15:47:36.505793Z",
     "iopub.status.busy": "2025-07-18T15:47:36.505593Z",
     "iopub.status.idle": "2025-07-18T15:47:38.901280Z",
     "shell.execute_reply": "2025-07-18T15:47:38.900701Z"
    },
    "papermill": {
     "duration": 2.401881,
     "end_time": "2025-07-18T15:47:38.902537",
     "exception": false,
     "start_time": "2025-07-18T15:47:36.500656",
     "status": "completed"
    },
    "tags": []
   },
   "outputs": [],
   "source": [
    "train_df = preprocess_pipeline(train_df_raw)\n",
    "test_df_processed = preprocess_pipeline(test_df_raw)"
   ]
  },
  {
   "cell_type": "code",
   "execution_count": 12,
   "id": "2eac1fe7",
   "metadata": {
    "execution": {
     "iopub.execute_input": "2025-07-18T15:47:38.913778Z",
     "iopub.status.busy": "2025-07-18T15:47:38.913024Z",
     "iopub.status.idle": "2025-07-18T15:47:38.918359Z",
     "shell.execute_reply": "2025-07-18T15:47:38.917531Z"
    },
    "papermill": {
     "duration": 0.011811,
     "end_time": "2025-07-18T15:47:38.919489",
     "exception": false,
     "start_time": "2025-07-18T15:47:38.907678",
     "status": "completed"
    },
    "tags": []
   },
   "outputs": [
    {
     "name": "stdout",
     "output_type": "stream",
     "text": [
      "Index(['id', 'sale_price', 'sale_nbr', 'sale_warning', 'join_status',\n",
      "       'join_year', 'latitude', 'longitude', 'area', 'city', 'zoning',\n",
      "       'subdivision', 'present_use', 'land_val', 'imp_val', 'year_built',\n",
      "       'year_reno', 'sqft_lot', 'sqft', 'sqft_1', 'sqft_fbsmt', 'grade',\n",
      "       'fbsmt_grade', 'condition', 'stories', 'beds', 'bath_full', 'bath_3qtr',\n",
      "       'bath_half', 'garb_sqft', 'gara_sqft', 'wfnt', 'greenbelt',\n",
      "       'noise_traffic', 'view_olympics', 'view_cascades', 'view_territorial',\n",
      "       'view_sound', 'view_lakewash', 'submarket', 'sale_year', 'sale_month',\n",
      "       'sale_dayofweek', 'months_since_first_sale', 'total_baths',\n",
      "       'beds_times_baths', 'num_views', 'scenic_score', 'env_score',\n",
      "       'area_x_land_val', 'area_x_imp_val', 'area_x_sqft', 'area_x_sqft_fbsmt',\n",
      "       'area_x_garb_sqft', 'area_x_total_baths', 'area_x_env_score',\n",
      "       'land_val_x_imp_val', 'land_val_x_sqft', 'land_val_x_sqft_fbsmt',\n",
      "       'land_val_x_garb_sqft', 'land_val_x_total_baths',\n",
      "       'land_val_x_env_score', 'imp_val_x_sqft', 'imp_val_x_sqft_fbsmt',\n",
      "       'imp_val_x_garb_sqft', 'imp_val_x_total_baths', 'imp_val_x_env_score',\n",
      "       'sqft_x_sqft_fbsmt', 'sqft_x_garb_sqft', 'sqft_x_total_baths',\n",
      "       'sqft_x_env_score', 'sqft_fbsmt_x_garb_sqft',\n",
      "       'sqft_fbsmt_x_total_baths', 'sqft_fbsmt_x_env_score',\n",
      "       'garb_sqft_x_total_baths', 'garb_sqft_x_env_score',\n",
      "       'total_baths_x_env_score'],\n",
      "      dtype='object')\n",
      "Index(['id', 'sale_nbr', 'sale_warning', 'join_status', 'join_year',\n",
      "       'latitude', 'longitude', 'area', 'city', 'zoning', 'subdivision',\n",
      "       'present_use', 'land_val', 'imp_val', 'year_built', 'year_reno',\n",
      "       'sqft_lot', 'sqft', 'sqft_1', 'sqft_fbsmt', 'grade', 'fbsmt_grade',\n",
      "       'condition', 'stories', 'beds', 'bath_full', 'bath_3qtr', 'bath_half',\n",
      "       'garb_sqft', 'gara_sqft', 'wfnt', 'greenbelt', 'noise_traffic',\n",
      "       'view_olympics', 'view_cascades', 'view_territorial', 'view_sound',\n",
      "       'view_lakewash', 'submarket', 'sale_year', 'sale_month',\n",
      "       'sale_dayofweek', 'months_since_first_sale', 'total_baths',\n",
      "       'beds_times_baths', 'num_views', 'scenic_score', 'env_score',\n",
      "       'area_x_land_val', 'area_x_imp_val', 'area_x_sqft', 'area_x_sqft_fbsmt',\n",
      "       'area_x_garb_sqft', 'area_x_total_baths', 'area_x_env_score',\n",
      "       'land_val_x_imp_val', 'land_val_x_sqft', 'land_val_x_sqft_fbsmt',\n",
      "       'land_val_x_garb_sqft', 'land_val_x_total_baths',\n",
      "       'land_val_x_env_score', 'imp_val_x_sqft', 'imp_val_x_sqft_fbsmt',\n",
      "       'imp_val_x_garb_sqft', 'imp_val_x_total_baths', 'imp_val_x_env_score',\n",
      "       'sqft_x_sqft_fbsmt', 'sqft_x_garb_sqft', 'sqft_x_total_baths',\n",
      "       'sqft_x_env_score', 'sqft_fbsmt_x_garb_sqft',\n",
      "       'sqft_fbsmt_x_total_baths', 'sqft_fbsmt_x_env_score',\n",
      "       'garb_sqft_x_total_baths', 'garb_sqft_x_env_score',\n",
      "       'total_baths_x_env_score'],\n",
      "      dtype='object')\n"
     ]
    }
   ],
   "source": [
    "print(train_df.columns)\n",
    "print(test_df_processed.columns)"
   ]
  },
  {
   "cell_type": "code",
   "execution_count": 13,
   "id": "e2667446",
   "metadata": {
    "execution": {
     "iopub.execute_input": "2025-07-18T15:47:38.929939Z",
     "iopub.status.busy": "2025-07-18T15:47:38.929435Z",
     "iopub.status.idle": "2025-07-18T15:47:38.932718Z",
     "shell.execute_reply": "2025-07-18T15:47:38.932154Z"
    },
    "papermill": {
     "duration": 0.009504,
     "end_time": "2025-07-18T15:47:38.933713",
     "exception": false,
     "start_time": "2025-07-18T15:47:38.924209",
     "status": "completed"
    },
    "tags": []
   },
   "outputs": [],
   "source": [
    "group_cols = [ 'city', 'zoning', 'subdivision', 'present_use', 'year_built']\n",
    "target = 'sale_price'"
   ]
  },
  {
   "cell_type": "code",
   "execution_count": 14,
   "id": "8d0f361f",
   "metadata": {
    "execution": {
     "iopub.execute_input": "2025-07-18T15:47:38.943633Z",
     "iopub.status.busy": "2025-07-18T15:47:38.943419Z",
     "iopub.status.idle": "2025-07-18T15:47:38.947683Z",
     "shell.execute_reply": "2025-07-18T15:47:38.946838Z"
    },
    "papermill": {
     "duration": 0.010327,
     "end_time": "2025-07-18T15:47:38.948741",
     "exception": false,
     "start_time": "2025-07-18T15:47:38.938414",
     "status": "completed"
    },
    "tags": []
   },
   "outputs": [
    {
     "name": "stdout",
     "output_type": "stream",
     "text": [
      "Index(['id', 'sale_price', 'sale_nbr', 'sale_warning', 'join_status',\n",
      "       'join_year', 'latitude', 'longitude', 'area', 'city', 'zoning',\n",
      "       'subdivision', 'present_use', 'land_val', 'imp_val', 'year_built',\n",
      "       'year_reno', 'sqft_lot', 'sqft', 'sqft_1', 'sqft_fbsmt', 'grade',\n",
      "       'fbsmt_grade', 'condition', 'stories', 'beds', 'bath_full', 'bath_3qtr',\n",
      "       'bath_half', 'garb_sqft', 'gara_sqft', 'wfnt', 'greenbelt',\n",
      "       'noise_traffic', 'view_olympics', 'view_cascades', 'view_territorial',\n",
      "       'view_sound', 'view_lakewash', 'submarket', 'sale_year', 'sale_month',\n",
      "       'sale_dayofweek', 'months_since_first_sale', 'total_baths',\n",
      "       'beds_times_baths', 'num_views', 'scenic_score', 'env_score',\n",
      "       'area_x_land_val', 'area_x_imp_val', 'area_x_sqft', 'area_x_sqft_fbsmt',\n",
      "       'area_x_garb_sqft', 'area_x_total_baths', 'area_x_env_score',\n",
      "       'land_val_x_imp_val', 'land_val_x_sqft', 'land_val_x_sqft_fbsmt',\n",
      "       'land_val_x_garb_sqft', 'land_val_x_total_baths',\n",
      "       'land_val_x_env_score', 'imp_val_x_sqft', 'imp_val_x_sqft_fbsmt',\n",
      "       'imp_val_x_garb_sqft', 'imp_val_x_total_baths', 'imp_val_x_env_score',\n",
      "       'sqft_x_sqft_fbsmt', 'sqft_x_garb_sqft', 'sqft_x_total_baths',\n",
      "       'sqft_x_env_score', 'sqft_fbsmt_x_garb_sqft',\n",
      "       'sqft_fbsmt_x_total_baths', 'sqft_fbsmt_x_env_score',\n",
      "       'garb_sqft_x_total_baths', 'garb_sqft_x_env_score',\n",
      "       'total_baths_x_env_score'],\n",
      "      dtype='object')\n",
      "Index(['id', 'sale_nbr', 'sale_warning', 'join_status', 'join_year',\n",
      "       'latitude', 'longitude', 'area', 'city', 'zoning', 'subdivision',\n",
      "       'present_use', 'land_val', 'imp_val', 'year_built', 'year_reno',\n",
      "       'sqft_lot', 'sqft', 'sqft_1', 'sqft_fbsmt', 'grade', 'fbsmt_grade',\n",
      "       'condition', 'stories', 'beds', 'bath_full', 'bath_3qtr', 'bath_half',\n",
      "       'garb_sqft', 'gara_sqft', 'wfnt', 'greenbelt', 'noise_traffic',\n",
      "       'view_olympics', 'view_cascades', 'view_territorial', 'view_sound',\n",
      "       'view_lakewash', 'submarket', 'sale_year', 'sale_month',\n",
      "       'sale_dayofweek', 'months_since_first_sale', 'total_baths',\n",
      "       'beds_times_baths', 'num_views', 'scenic_score', 'env_score',\n",
      "       'area_x_land_val', 'area_x_imp_val', 'area_x_sqft', 'area_x_sqft_fbsmt',\n",
      "       'area_x_garb_sqft', 'area_x_total_baths', 'area_x_env_score',\n",
      "       'land_val_x_imp_val', 'land_val_x_sqft', 'land_val_x_sqft_fbsmt',\n",
      "       'land_val_x_garb_sqft', 'land_val_x_total_baths',\n",
      "       'land_val_x_env_score', 'imp_val_x_sqft', 'imp_val_x_sqft_fbsmt',\n",
      "       'imp_val_x_garb_sqft', 'imp_val_x_total_baths', 'imp_val_x_env_score',\n",
      "       'sqft_x_sqft_fbsmt', 'sqft_x_garb_sqft', 'sqft_x_total_baths',\n",
      "       'sqft_x_env_score', 'sqft_fbsmt_x_garb_sqft',\n",
      "       'sqft_fbsmt_x_total_baths', 'sqft_fbsmt_x_env_score',\n",
      "       'garb_sqft_x_total_baths', 'garb_sqft_x_env_score',\n",
      "       'total_baths_x_env_score'],\n",
      "      dtype='object')\n"
     ]
    }
   ],
   "source": [
    "print(train_df.columns)\n",
    "print(test_df_processed.columns)"
   ]
  },
  {
   "cell_type": "code",
   "execution_count": 15,
   "id": "37981230",
   "metadata": {
    "execution": {
     "iopub.execute_input": "2025-07-18T15:47:38.959162Z",
     "iopub.status.busy": "2025-07-18T15:47:38.958800Z",
     "iopub.status.idle": "2025-07-18T15:47:38.964088Z",
     "shell.execute_reply": "2025-07-18T15:47:38.963582Z"
    },
    "papermill": {
     "duration": 0.011579,
     "end_time": "2025-07-18T15:47:38.965091",
     "exception": false,
     "start_time": "2025-07-18T15:47:38.953512",
     "status": "completed"
    },
    "tags": []
   },
   "outputs": [],
   "source": [
    "def add_group_stats(train_df, test_df, group_cols, target, stats=['mean', 'std', 'min', 'max']):\n",
    "    \"\"\"\n",
    "    对 train_df 和 test_df 的每个分组列进行聚合统计，并将结果合并回 train_df 和 test_df。\n",
    "    \n",
    "    参数：\n",
    "    - train_df: 训练集数据\n",
    "    - test_df: 测试集数据\n",
    "    - group_cols: 要进行分组的列名列表\n",
    "    - target: 目标列名（一般是 sale_price）\n",
    "    - stats: 聚合统计量，默认包括 'mean', 'std', 'min', 'max'\n",
    "    \n",
    "    返回：\n",
    "    - 处理后的 train_df 和 test_df\n",
    "    \"\"\"\n",
    "    # 确保分组列是类别型数据\n",
    "    for col in group_cols:\n",
    "        if train_df[col].dtype != 'category':\n",
    "            train_df[col] = train_df[col].astype('category')\n",
    "        if test_df[col].dtype != 'category':\n",
    "            test_df[col] = test_df[col].astype('category')\n",
    "    \n",
    "    # 对每个分组列分别进行计算和合并\n",
    "    for col in group_cols:\n",
    "        # 计算聚合值\n",
    "        grouped = train_df.groupby(col)[target].agg(stats).reset_index()\n",
    "        \n",
    "        # 重命名列\n",
    "        grouped.columns = [col] + [f\"{col}_{target}_{stat}\" for stat in stats]\n",
    "        \n",
    "        # 将聚合结果合并到 train_df 和 test_df\n",
    "        train_df = train_df.merge(grouped, on=col, how='left')\n",
    "        test_df = test_df.merge(grouped, on=col, how='left')\n",
    "    \n",
    "    # 返回处理后的数据\n",
    "    return train_df, test_df\n",
    "\n"
   ]
  },
  {
   "cell_type": "code",
   "execution_count": 16,
   "id": "9f957b0b",
   "metadata": {
    "execution": {
     "iopub.execute_input": "2025-07-18T15:47:38.975136Z",
     "iopub.status.busy": "2025-07-18T15:47:38.974948Z",
     "iopub.status.idle": "2025-07-18T15:47:40.332905Z",
     "shell.execute_reply": "2025-07-18T15:47:40.332282Z"
    },
    "papermill": {
     "duration": 1.364416,
     "end_time": "2025-07-18T15:47:40.334214",
     "exception": false,
     "start_time": "2025-07-18T15:47:38.969798",
     "status": "completed"
    },
    "tags": []
   },
   "outputs": [],
   "source": [
    "train_df, test_df_processed = add_group_stats(train_df, test_df_processed, group_cols,target)"
   ]
  },
  {
   "cell_type": "code",
   "execution_count": 17,
   "id": "6643b764",
   "metadata": {
    "execution": {
     "iopub.execute_input": "2025-07-18T15:47:40.345237Z",
     "iopub.status.busy": "2025-07-18T15:47:40.345045Z",
     "iopub.status.idle": "2025-07-18T15:47:40.350008Z",
     "shell.execute_reply": "2025-07-18T15:47:40.349452Z"
    },
    "papermill": {
     "duration": 0.011353,
     "end_time": "2025-07-18T15:47:40.351014",
     "exception": false,
     "start_time": "2025-07-18T15:47:40.339661",
     "status": "completed"
    },
    "tags": []
   },
   "outputs": [],
   "source": [
    "max_bin_size = 255\n",
    "def get_bin_size(data):\n",
    "    bin_sizes = {}\n",
    "    for col in data.columns:\n",
    "        # 获取每个特征的唯一值数量\n",
    "        unique_values = data[col].nunique()\n",
    "        bin_sizes[col] = unique_values\n",
    "    return bin_sizes\n",
    "\n",
    "# 2. 改造 bin size 过大的特征\n",
    "def change_large_bin_features(X, max_bin_size=255):\n",
    "    bin_sizes = get_bin_size(X)\n",
    "    categorical_features = X.select_dtypes(include=['object', 'category']).columns\n",
    "\n",
    "    for col in categorical_features:\n",
    "        if bin_sizes[col] > max_bin_size:\n",
    "            X[col] = pd.Categorical(X[col]).codes\n",
    "            print(f\"Encoded column: {col}\")\n",
    "\n",
    "    return X\n"
   ]
  },
  {
   "cell_type": "code",
   "execution_count": 18,
   "id": "abd938ff",
   "metadata": {
    "execution": {
     "iopub.execute_input": "2025-07-18T15:47:40.361599Z",
     "iopub.status.busy": "2025-07-18T15:47:40.361127Z",
     "iopub.status.idle": "2025-07-18T15:47:40.366182Z",
     "shell.execute_reply": "2025-07-18T15:47:40.365299Z"
    },
    "papermill": {
     "duration": 0.011393,
     "end_time": "2025-07-18T15:47:40.367220",
     "exception": false,
     "start_time": "2025-07-18T15:47:40.355827",
     "status": "completed"
    },
    "tags": []
   },
   "outputs": [
    {
     "name": "stdout",
     "output_type": "stream",
     "text": [
      "Index(['id', 'sale_price', 'sale_nbr', 'sale_warning', 'join_status',\n",
      "       'join_year', 'latitude', 'longitude', 'area', 'city', 'zoning',\n",
      "       'subdivision', 'present_use', 'land_val', 'imp_val', 'year_built',\n",
      "       'year_reno', 'sqft_lot', 'sqft', 'sqft_1', 'sqft_fbsmt', 'grade',\n",
      "       'fbsmt_grade', 'condition', 'stories', 'beds', 'bath_full', 'bath_3qtr',\n",
      "       'bath_half', 'garb_sqft', 'gara_sqft', 'wfnt', 'greenbelt',\n",
      "       'noise_traffic', 'view_olympics', 'view_cascades', 'view_territorial',\n",
      "       'view_sound', 'view_lakewash', 'submarket', 'sale_year', 'sale_month',\n",
      "       'sale_dayofweek', 'months_since_first_sale', 'total_baths',\n",
      "       'beds_times_baths', 'num_views', 'scenic_score', 'env_score',\n",
      "       'area_x_land_val', 'area_x_imp_val', 'area_x_sqft', 'area_x_sqft_fbsmt',\n",
      "       'area_x_garb_sqft', 'area_x_total_baths', 'area_x_env_score',\n",
      "       'land_val_x_imp_val', 'land_val_x_sqft', 'land_val_x_sqft_fbsmt',\n",
      "       'land_val_x_garb_sqft', 'land_val_x_total_baths',\n",
      "       'land_val_x_env_score', 'imp_val_x_sqft', 'imp_val_x_sqft_fbsmt',\n",
      "       'imp_val_x_garb_sqft', 'imp_val_x_total_baths', 'imp_val_x_env_score',\n",
      "       'sqft_x_sqft_fbsmt', 'sqft_x_garb_sqft', 'sqft_x_total_baths',\n",
      "       'sqft_x_env_score', 'sqft_fbsmt_x_garb_sqft',\n",
      "       'sqft_fbsmt_x_total_baths', 'sqft_fbsmt_x_env_score',\n",
      "       'garb_sqft_x_total_baths', 'garb_sqft_x_env_score',\n",
      "       'total_baths_x_env_score', 'city_sale_price_mean',\n",
      "       'city_sale_price_std', 'city_sale_price_min', 'city_sale_price_max',\n",
      "       'zoning_sale_price_mean', 'zoning_sale_price_std',\n",
      "       'zoning_sale_price_min', 'zoning_sale_price_max',\n",
      "       'subdivision_sale_price_mean', 'subdivision_sale_price_std',\n",
      "       'subdivision_sale_price_min', 'subdivision_sale_price_max',\n",
      "       'present_use_sale_price_mean', 'present_use_sale_price_std',\n",
      "       'present_use_sale_price_min', 'present_use_sale_price_max',\n",
      "       'year_built_sale_price_mean', 'year_built_sale_price_std',\n",
      "       'year_built_sale_price_min', 'year_built_sale_price_max'],\n",
      "      dtype='object')\n",
      "Index(['id', 'sale_nbr', 'sale_warning', 'join_status', 'join_year',\n",
      "       'latitude', 'longitude', 'area', 'city', 'zoning', 'subdivision',\n",
      "       'present_use', 'land_val', 'imp_val', 'year_built', 'year_reno',\n",
      "       'sqft_lot', 'sqft', 'sqft_1', 'sqft_fbsmt', 'grade', 'fbsmt_grade',\n",
      "       'condition', 'stories', 'beds', 'bath_full', 'bath_3qtr', 'bath_half',\n",
      "       'garb_sqft', 'gara_sqft', 'wfnt', 'greenbelt', 'noise_traffic',\n",
      "       'view_olympics', 'view_cascades', 'view_territorial', 'view_sound',\n",
      "       'view_lakewash', 'submarket', 'sale_year', 'sale_month',\n",
      "       'sale_dayofweek', 'months_since_first_sale', 'total_baths',\n",
      "       'beds_times_baths', 'num_views', 'scenic_score', 'env_score',\n",
      "       'area_x_land_val', 'area_x_imp_val', 'area_x_sqft', 'area_x_sqft_fbsmt',\n",
      "       'area_x_garb_sqft', 'area_x_total_baths', 'area_x_env_score',\n",
      "       'land_val_x_imp_val', 'land_val_x_sqft', 'land_val_x_sqft_fbsmt',\n",
      "       'land_val_x_garb_sqft', 'land_val_x_total_baths',\n",
      "       'land_val_x_env_score', 'imp_val_x_sqft', 'imp_val_x_sqft_fbsmt',\n",
      "       'imp_val_x_garb_sqft', 'imp_val_x_total_baths', 'imp_val_x_env_score',\n",
      "       'sqft_x_sqft_fbsmt', 'sqft_x_garb_sqft', 'sqft_x_total_baths',\n",
      "       'sqft_x_env_score', 'sqft_fbsmt_x_garb_sqft',\n",
      "       'sqft_fbsmt_x_total_baths', 'sqft_fbsmt_x_env_score',\n",
      "       'garb_sqft_x_total_baths', 'garb_sqft_x_env_score',\n",
      "       'total_baths_x_env_score', 'city_sale_price_mean',\n",
      "       'city_sale_price_std', 'city_sale_price_min', 'city_sale_price_max',\n",
      "       'zoning_sale_price_mean', 'zoning_sale_price_std',\n",
      "       'zoning_sale_price_min', 'zoning_sale_price_max',\n",
      "       'subdivision_sale_price_mean', 'subdivision_sale_price_std',\n",
      "       'subdivision_sale_price_min', 'subdivision_sale_price_max',\n",
      "       'present_use_sale_price_mean', 'present_use_sale_price_std',\n",
      "       'present_use_sale_price_min', 'present_use_sale_price_max',\n",
      "       'year_built_sale_price_mean', 'year_built_sale_price_std',\n",
      "       'year_built_sale_price_min', 'year_built_sale_price_max'],\n",
      "      dtype='object')\n"
     ]
    }
   ],
   "source": [
    "print(train_df.columns)\n",
    "print(test_df_processed.columns)"
   ]
  },
  {
   "cell_type": "code",
   "execution_count": 19,
   "id": "884b28c6",
   "metadata": {
    "execution": {
     "iopub.execute_input": "2025-07-18T15:47:40.377714Z",
     "iopub.status.busy": "2025-07-18T15:47:40.377475Z",
     "iopub.status.idle": "2025-07-18T15:47:40.455895Z",
     "shell.execute_reply": "2025-07-18T15:47:40.454933Z"
    },
    "papermill": {
     "duration": 0.085039,
     "end_time": "2025-07-18T15:47:40.457124",
     "exception": false,
     "start_time": "2025-07-18T15:47:40.372085",
     "status": "completed"
    },
    "tags": []
   },
   "outputs": [
    {
     "name": "stdout",
     "output_type": "stream",
     "text": [
      "Training with 95 features. Train shape: (200000, 95), Test shape: (200000, 95)\n"
     ]
    }
   ],
   "source": [
    "features = [col for col in train_df.columns if col not in ['id', 'sale_price']]\n",
    "X = train_df[features]\n",
    "y=train_df['sale_price']\n",
    "X_test = test_df_processed[features]\n",
    "print(f\"Training with {len(features)} features. Train shape: {X.shape}, Test shape: {X_test.shape}\")"
   ]
  },
  {
   "cell_type": "code",
   "execution_count": 20,
   "id": "a8b8d2d7",
   "metadata": {
    "execution": {
     "iopub.execute_input": "2025-07-18T15:47:40.468529Z",
     "iopub.status.busy": "2025-07-18T15:47:40.467905Z",
     "iopub.status.idle": "2025-07-18T15:47:40.854303Z",
     "shell.execute_reply": "2025-07-18T15:47:40.853502Z"
    },
    "papermill": {
     "duration": 0.393347,
     "end_time": "2025-07-18T15:47:40.855688",
     "exception": false,
     "start_time": "2025-07-18T15:47:40.462341",
     "status": "completed"
    },
    "tags": []
   },
   "outputs": [
    {
     "name": "stdout",
     "output_type": "stream",
     "text": [
      "Encoded column: zoning\n",
      "Encoded column: subdivision\n",
      "Encoded column: zoning\n",
      "Encoded column: subdivision\n"
     ]
    }
   ],
   "source": [
    "X = change_large_bin_features(X, max_bin_size)\n",
    "X_test= change_large_bin_features(X_test, max_bin_size)"
   ]
  },
  {
   "cell_type": "code",
   "execution_count": 21,
   "id": "5732e44d",
   "metadata": {
    "execution": {
     "iopub.execute_input": "2025-07-18T15:47:40.867084Z",
     "iopub.status.busy": "2025-07-18T15:47:40.866862Z",
     "iopub.status.idle": "2025-07-18T15:47:40.870678Z",
     "shell.execute_reply": "2025-07-18T15:47:40.870043Z"
    },
    "papermill": {
     "duration": 0.010617,
     "end_time": "2025-07-18T15:47:40.871786",
     "exception": false,
     "start_time": "2025-07-18T15:47:40.861169",
     "status": "completed"
    },
    "tags": []
   },
   "outputs": [
    {
     "name": "stdout",
     "output_type": "stream",
     "text": [
      "['sale_nbr', 'sale_warning', 'join_status', 'join_year', 'latitude', 'longitude', 'area', 'city', 'zoning', 'subdivision', 'present_use', 'land_val', 'imp_val', 'year_built', 'year_reno', 'sqft_lot', 'sqft', 'sqft_1', 'sqft_fbsmt', 'grade', 'fbsmt_grade', 'condition', 'stories', 'beds', 'bath_full', 'bath_3qtr', 'bath_half', 'garb_sqft', 'gara_sqft', 'wfnt', 'greenbelt', 'noise_traffic', 'view_olympics', 'view_cascades', 'view_territorial', 'view_sound', 'view_lakewash', 'submarket', 'sale_year', 'sale_month', 'sale_dayofweek', 'months_since_first_sale', 'total_baths', 'beds_times_baths', 'num_views', 'scenic_score', 'env_score', 'area_x_land_val', 'area_x_imp_val', 'area_x_sqft', 'area_x_sqft_fbsmt', 'area_x_garb_sqft', 'area_x_total_baths', 'area_x_env_score', 'land_val_x_imp_val', 'land_val_x_sqft', 'land_val_x_sqft_fbsmt', 'land_val_x_garb_sqft', 'land_val_x_total_baths', 'land_val_x_env_score', 'imp_val_x_sqft', 'imp_val_x_sqft_fbsmt', 'imp_val_x_garb_sqft', 'imp_val_x_total_baths', 'imp_val_x_env_score', 'sqft_x_sqft_fbsmt', 'sqft_x_garb_sqft', 'sqft_x_total_baths', 'sqft_x_env_score', 'sqft_fbsmt_x_garb_sqft', 'sqft_fbsmt_x_total_baths', 'sqft_fbsmt_x_env_score', 'garb_sqft_x_total_baths', 'garb_sqft_x_env_score', 'total_baths_x_env_score', 'city_sale_price_mean', 'city_sale_price_std', 'city_sale_price_min', 'city_sale_price_max', 'zoning_sale_price_mean', 'zoning_sale_price_std', 'zoning_sale_price_min', 'zoning_sale_price_max', 'subdivision_sale_price_mean', 'subdivision_sale_price_std', 'subdivision_sale_price_min', 'subdivision_sale_price_max', 'present_use_sale_price_mean', 'present_use_sale_price_std', 'present_use_sale_price_min', 'present_use_sale_price_max', 'year_built_sale_price_mean', 'year_built_sale_price_std', 'year_built_sale_price_min', 'year_built_sale_price_max']\n"
     ]
    }
   ],
   "source": [
    "print(X.columns.tolist())"
   ]
  },
  {
   "cell_type": "code",
   "execution_count": 22,
   "id": "d492cb69",
   "metadata": {
    "execution": {
     "iopub.execute_input": "2025-07-18T15:47:40.882684Z",
     "iopub.status.busy": "2025-07-18T15:47:40.882416Z",
     "iopub.status.idle": "2025-07-18T15:47:40.891991Z",
     "shell.execute_reply": "2025-07-18T15:47:40.891480Z"
    },
    "papermill": {
     "duration": 0.016083,
     "end_time": "2025-07-18T15:47:40.892942",
     "exception": false,
     "start_time": "2025-07-18T15:47:40.876859",
     "status": "completed"
    },
    "tags": []
   },
   "outputs": [],
   "source": [
    "def tune_winkler_scaling(mean, std, true, alpha=0.1, a_range=(190, 230, 2), b_range=(190, 230, 2), plot=True):\n",
    "    \"\"\"\n",
    "    自动调参 a, b，使得 mean ± std * a/b 得到最优 Winkler Score 区间，并可视化调参过程。\n",
    "\n",
    "    参数:\n",
    "        mean, std, true: np.ndarray or pd.Series\n",
    "            模型预测均值、残差、真实值\n",
    "        alpha: float\n",
    "            区间置信度，默认 0.1（即 90% 区间）\n",
    "        a_range, b_range: tuple\n",
    "            (start, end, step)，调参范围\n",
    "        plot: bool\n",
    "            是否绘制 Winkler Score 热力图\n",
    "\n",
    "    返回:\n",
    "        best_a, best_b, best_score, best_coverage, df_score\n",
    "    \"\"\"\n",
    "    def winkler_score(y_true, lower, upper, alpha=0.1):\n",
    "        width = upper - lower\n",
    "        penalty_lower = 2 / alpha * (lower - y_true)\n",
    "        penalty_upper = 2 / alpha * (y_true - upper)\n",
    "        score = width.copy()\n",
    "        score += np.where(y_true < lower, penalty_lower, 0)\n",
    "        score += np.where(y_true > upper, penalty_upper, 0)\n",
    "        inside = (y_true >= lower) & (y_true <= upper)\n",
    "        coverage = np.mean(inside)\n",
    "        return np.mean(score), coverage\n",
    "\n",
    "    mean = np.asarray(mean)\n",
    "    std = np.asarray(std)\n",
    "    true = np.asarray(true)\n",
    "\n",
    "    std = np.clip(std, np.min(np.abs(true - mean)), np.max(np.abs(true - mean)))\n",
    "\n",
    "    best_a, best_b = None, None\n",
    "    best_score = float('inf')\n",
    "    best_coverage = 0.0\n",
    "\n",
    "    a_start, a_end, a_step = a_range\n",
    "    b_start, b_end, b_step = b_range\n",
    "\n",
    "    records = []\n",
    "\n",
    "    print(\"Tuning Winkler scaling factors...\")\n",
    "\n",
    "    for a in range(a_start, a_end, a_step):\n",
    "        for b in range(b_start, b_end, b_step):\n",
    "            lower = mean - std * (a / 100)\n",
    "            upper = mean + std * (b / 100)\n",
    "            lower = np.clip(lower, true.min(), true.max())\n",
    "            upper = np.clip(upper, true.min(), true.max())\n",
    "\n",
    "            score, coverage = winkler_score(true, lower, upper, alpha=alpha)\n",
    "\n",
    "            records.append({'a': a, 'b': b, 'winkler_score': score, 'coverage': coverage})\n",
    "\n",
    "            if score < best_score:\n",
    "                best_score = score\n",
    "                best_a = a\n",
    "                best_b = b\n",
    "                best_coverage = coverage\n",
    "                print(f\"  ✅ New best: a={a}, b={b}, Winkler={score:.2f}, Coverage={coverage:.3f}\")\n",
    "\n",
    "    print(f\"\\n🎯 Best parameters: a={best_a}, b={best_b}, Winkler Score={best_score:.2f}, Coverage={best_coverage:.3f}\")\n",
    "\n",
    "    # 可视化\n",
    "    df_score = pd.DataFrame(records)\n",
    "    if plot:\n",
    "        pivot = df_score.pivot(index='a', columns='b', values='winkler_score')\n",
    "        plt.figure(figsize=(10, 8))\n",
    "        sns.heatmap(pivot, annot=False, fmt=\".1f\", cmap='coolwarm_r', cbar_kws={'label': 'Winkler Score'})\n",
    "        plt.title(\"Winkler Score vs. (a, b)\")\n",
    "        plt.xlabel(\"b (upper bound multiplier)\")\n",
    "        plt.ylabel(\"a (lower bound multiplier)\")\n",
    "        plt.tight_layout()\n",
    "        plt.show()\n",
    "\n",
    "    return best_a, best_b, best_score, best_coverage, df_score\n"
   ]
  },
  {
   "cell_type": "code",
   "execution_count": 23,
   "id": "b936b031",
   "metadata": {
    "execution": {
     "iopub.execute_input": "2025-07-18T15:47:40.903954Z",
     "iopub.status.busy": "2025-07-18T15:47:40.903755Z",
     "iopub.status.idle": "2025-07-18T15:47:40.908300Z",
     "shell.execute_reply": "2025-07-18T15:47:40.907715Z"
    },
    "papermill": {
     "duration": 0.011291,
     "end_time": "2025-07-18T15:47:40.909387",
     "exception": false,
     "start_time": "2025-07-18T15:47:40.898096",
     "status": "completed"
    },
    "tags": []
   },
   "outputs": [
    {
     "name": "stdout",
     "output_type": "stream",
     "text": [
      "\n",
      "--- Phase 2: Training with 5-Fold CV and prefit CQR ---\n"
     ]
    }
   ],
   "source": [
    "# --- 3. Cross-Validation Training with prefit=True ---\n",
    "print(f\"\\n--- Phase 2: Training with {CFG.N_SPLITS}-Fold CV and prefit CQR ---\")\n",
    "kf = KFold(n_splits=CFG.N_SPLITS, shuffle=True, random_state=CFG.SEED)\n",
    "\n",
    "oof_preds_lower = np.zeros(len(train_df))\n",
    "oof_preds_upper = np.zeros(len(train_df))\n",
    "test_preds_lower_sum = np.zeros(len(test_df_raw))\n",
    "test_preds_upper_sum = np.zeros(len(test_df_raw))\n",
    "fold_scores = []\n"
   ]
  },
  {
   "cell_type": "code",
   "execution_count": 24,
   "id": "2c3522c9",
   "metadata": {
    "execution": {
     "iopub.execute_input": "2025-07-18T15:47:40.920376Z",
     "iopub.status.busy": "2025-07-18T15:47:40.920175Z",
     "iopub.status.idle": "2025-07-18T15:47:40.923438Z",
     "shell.execute_reply": "2025-07-18T15:47:40.922930Z"
    },
    "papermill": {
     "duration": 0.009899,
     "end_time": "2025-07-18T15:47:40.924461",
     "exception": false,
     "start_time": "2025-07-18T15:47:40.914562",
     "status": "completed"
    },
    "tags": []
   },
   "outputs": [],
   "source": [
    "# Define parameters for the three quantile models\n",
    "params_lower = {**CFG.LGBM_PARAMS, 'alpha': CFG.ALPHA / 2}\n",
    "params_median = {**CFG.LGBM_PARAMS, 'alpha': 0.5}\n",
    "params_upper = {**CFG.LGBM_PARAMS, 'alpha': 1 - (CFG.ALPHA / 2)}\n"
   ]
  },
  {
   "cell_type": "code",
   "execution_count": 25,
   "id": "3520303b",
   "metadata": {
    "_cell_guid": "b1076dfc-b9ad-4769-8c92-a6c4dae69d19",
    "_uuid": "8f2839f25d086af736a60e9eeb907d3b93b6e0e5",
    "execution": {
     "iopub.execute_input": "2025-07-18T15:47:40.935491Z",
     "iopub.status.busy": "2025-07-18T15:47:40.935301Z",
     "iopub.status.idle": "2025-07-18T15:55:05.839468Z",
     "shell.execute_reply": "2025-07-18T15:55:05.838833Z"
    },
    "papermill": {
     "duration": 444.911424,
     "end_time": "2025-07-18T15:55:05.840955",
     "exception": false,
     "start_time": "2025-07-18T15:47:40.929531",
     "status": "completed"
    },
    "tags": []
   },
   "outputs": [
    {
     "name": "stdout",
     "output_type": "stream",
     "text": [
      "\n",
      "--- Fold 1/5 ---\n",
      "Fitting lower, median, and upper models...\n"
     ]
    },
    {
     "name": "stderr",
     "output_type": "stream",
     "text": [
      "1 warning generated.\n",
      "1 warning generated.\n",
      "1 warning generated.\n",
      "1 warning generated.\n",
      "1 warning generated.\n",
      "1 warning generated.\n",
      "1 warning generated.\n",
      "1 warning generated.\n",
      "1 warning generated.\n",
      "1 warning generated.\n",
      "1 warning generated.\n",
      "1 warning generated.\n",
      "1 warning generated.\n",
      "1 warning generated.\n",
      "1 warning generated.\n",
      "1 warning generated.\n",
      "1 warning generated.\n",
      "1 warning generated.\n",
      "1 warning generated.\n",
      "1 warning generated.\n",
      "1 warning generated.\n",
      "1 warning generated.\n",
      "1 warning generated.\n",
      "1 warning generated.\n",
      "1 warning generated.\n",
      "1 warning generated.\n",
      "1 warning generated.\n",
      "1 warning generated.\n",
      "1 warning generated.\n",
      "1 warning generated.\n",
      "1 warning generated.\n",
      "1 warning generated.\n",
      "1 warning generated.\n"
     ]
    },
    {
     "name": "stdout",
     "output_type": "stream",
     "text": [
      "Conformalizing models...\n",
      "Fold 1 Winkler Score: 337,073.39\n",
      "Predicting on test data...\n",
      "\n",
      "--- Fold 2/5 ---\n",
      "Fitting lower, median, and upper models...\n",
      "Conformalizing models...\n",
      "Fold 2 Winkler Score: 330,859.65\n",
      "Predicting on test data...\n",
      "\n",
      "--- Fold 3/5 ---\n",
      "Fitting lower, median, and upper models...\n",
      "Conformalizing models...\n",
      "Fold 3 Winkler Score: 336,869.21\n",
      "Predicting on test data...\n",
      "\n",
      "--- Fold 4/5 ---\n",
      "Fitting lower, median, and upper models...\n",
      "Conformalizing models...\n",
      "Fold 4 Winkler Score: 331,150.77\n",
      "Predicting on test data...\n",
      "\n",
      "--- Fold 5/5 ---\n",
      "Fitting lower, median, and upper models...\n",
      "Conformalizing models...\n",
      "Fold 5 Winkler Score: 333,773.44\n",
      "Predicting on test data...\n"
     ]
    }
   ],
   "source": [
    "for fold, (fit_idx, calib_idx) in enumerate(kf.split(X, y)):\n",
    "    print(f\"\\n--- Fold {fold+1}/{CFG.N_SPLITS} ---\")\n",
    "    X_fit, X_calib = X.iloc[fit_idx], X.iloc[calib_idx]\n",
    "    y_fit, y_calib = y.iloc[fit_idx], y.iloc[calib_idx]\n",
    "\n",
    "    # Step 1: Fit the three quantile models on the fitting dataset\n",
    "    print(\"Fitting lower, median, and upper models...\")\n",
    "    model_lower = lgb.LGBMRegressor(**params_lower)\n",
    "    model_median = lgb.LGBMRegressor(**params_median)\n",
    "    model_upper = lgb.LGBMRegressor(**params_upper)\n",
    "\n",
    "    callbacks = [lgb.early_stopping(100, verbose=False)]\n",
    "    model_lower.fit(X_fit, y_fit, eval_set=[(X_calib, y_calib)], callbacks=callbacks)\n",
    "    model_median.fit(X_fit, y_fit, eval_set=[(X_calib, y_calib)], callbacks=callbacks)\n",
    "    model_upper.fit(X_fit, y_fit, eval_set=[(X_calib, y_calib)], callbacks=callbacks)\n",
    "\n",
    "    # Step 2: Conformalize using the pre-fitted models and the calibration dataset\n",
    "    print(\"Conformalizing models...\")\n",
    "    mapie_cqr = ConformalizedQuantileRegressor(\n",
    "        estimator=[model_lower, model_upper, model_median], # [lower, upper, median] order\n",
    "        confidence_level=CFG.CONFIDENCE_LEVEL,\n",
    "        prefit=True\n",
    "    ).conformalize(X_calib, y_calib)\n",
    "\n",
    "    # Step 3: Generate OOF predictions for the calibration set\n",
    "    _, oof_pis = mapie_cqr.predict_interval(X_calib)\n",
    "    oof_preds_lower[calib_idx] = oof_pis[:, 0, 0]\n",
    "    oof_preds_upper[calib_idx] = oof_pis[:, 1, 0]\n",
    "\n",
    "    fold_score = winkler_score_func(y_calib, oof_pis[:, 0, 0], oof_pis[:, 1, 0])\n",
    "    fold_scores.append(fold_score)\n",
    "    print(f\"Fold {fold+1} Winkler Score: {fold_score:,.2f}\")\n",
    "\n",
    "    # Step 4: Generate predictions for the test set and accumulate them\n",
    "    print(\"Predicting on test data...\")\n",
    "    _, test_pis = mapie_cqr.predict_interval(X_test)\n",
    "    test_preds_lower_sum += test_pis[:, 0, 0]\n",
    "    test_preds_upper_sum += test_pis[:, 1, 0]\n"
   ]
  },
  {
   "cell_type": "code",
   "execution_count": 26,
   "id": "b5dbfa94",
   "metadata": {
    "execution": {
     "iopub.execute_input": "2025-07-18T15:55:05.855496Z",
     "iopub.status.busy": "2025-07-18T15:55:05.855258Z",
     "iopub.status.idle": "2025-07-18T15:55:16.708956Z",
     "shell.execute_reply": "2025-07-18T15:55:16.708387Z"
    },
    "papermill": {
     "duration": 10.86263,
     "end_time": "2025-07-18T15:55:16.710698",
     "exception": false,
     "start_time": "2025-07-18T15:55:05.848068",
     "status": "completed"
    },
    "tags": []
   },
   "outputs": [
    {
     "name": "stdout",
     "output_type": "stream",
     "text": [
      "Tuning Winkler scaling factors...\n",
      "  ✅ New best: a=85, b=90, Winkler=345690.22, Coverage=0.850\n",
      "  ✅ New best: a=85, b=91, Winkler=344918.25, Coverage=0.851\n",
      "  ✅ New best: a=85, b=92, Winkler=344199.69, Coverage=0.853\n",
      "  ✅ New best: a=85, b=93, Winkler=343532.76, Coverage=0.855\n",
      "  ✅ New best: a=85, b=94, Winkler=342916.69, Coverage=0.856\n",
      "  ✅ New best: a=85, b=95, Winkler=342345.79, Coverage=0.858\n",
      "  ✅ New best: a=85, b=96, Winkler=341815.34, Coverage=0.859\n",
      "  ✅ New best: a=85, b=97, Winkler=341329.12, Coverage=0.861\n",
      "  ✅ New best: a=85, b=98, Winkler=340892.34, Coverage=0.862\n",
      "  ✅ New best: a=85, b=99, Winkler=340504.22, Coverage=0.864\n",
      "  ✅ New best: a=85, b=100, Winkler=340158.62, Coverage=0.865\n",
      "  ✅ New best: a=85, b=101, Winkler=339851.56, Coverage=0.866\n",
      "  ✅ New best: a=85, b=102, Winkler=339590.85, Coverage=0.868\n",
      "  ✅ New best: a=85, b=103, Winkler=339378.62, Coverage=0.869\n",
      "  ✅ New best: a=85, b=104, Winkler=339204.12, Coverage=0.870\n",
      "  ✅ New best: a=85, b=105, Winkler=339066.49, Coverage=0.872\n",
      "  ✅ New best: a=85, b=106, Winkler=338964.45, Coverage=0.873\n",
      "  ✅ New best: a=85, b=107, Winkler=338897.97, Coverage=0.874\n",
      "  ✅ New best: a=85, b=108, Winkler=338870.54, Coverage=0.875\n",
      "  ✅ New best: a=86, b=102, Winkler=338727.80, Coverage=0.871\n",
      "  ✅ New best: a=86, b=103, Winkler=338515.57, Coverage=0.872\n",
      "  ✅ New best: a=86, b=104, Winkler=338341.06, Coverage=0.873\n",
      "  ✅ New best: a=86, b=105, Winkler=338203.44, Coverage=0.874\n",
      "  ✅ New best: a=86, b=106, Winkler=338101.39, Coverage=0.875\n",
      "  ✅ New best: a=86, b=107, Winkler=338034.92, Coverage=0.877\n",
      "  ✅ New best: a=86, b=108, Winkler=338007.48, Coverage=0.878\n",
      "  ✅ New best: a=87, b=102, Winkler=337935.97, Coverage=0.873\n",
      "  ✅ New best: a=87, b=103, Winkler=337723.74, Coverage=0.875\n",
      "  ✅ New best: a=87, b=104, Winkler=337549.23, Coverage=0.876\n",
      "  ✅ New best: a=87, b=105, Winkler=337411.61, Coverage=0.877\n",
      "  ✅ New best: a=87, b=106, Winkler=337309.56, Coverage=0.878\n",
      "  ✅ New best: a=87, b=107, Winkler=337243.09, Coverage=0.879\n",
      "  ✅ New best: a=87, b=108, Winkler=337215.65, Coverage=0.881\n",
      "  ✅ New best: a=88, b=102, Winkler=337213.93, Coverage=0.876\n",
      "  ✅ New best: a=88, b=103, Winkler=337001.70, Coverage=0.877\n",
      "  ✅ New best: a=88, b=104, Winkler=336827.19, Coverage=0.879\n",
      "  ✅ New best: a=88, b=105, Winkler=336689.57, Coverage=0.880\n",
      "  ✅ New best: a=88, b=106, Winkler=336587.53, Coverage=0.881\n",
      "  ✅ New best: a=88, b=107, Winkler=336521.05, Coverage=0.882\n",
      "  ✅ New best: a=88, b=108, Winkler=336493.62, Coverage=0.883\n",
      "  ✅ New best: a=89, b=103, Winkler=336349.08, Coverage=0.880\n",
      "  ✅ New best: a=89, b=104, Winkler=336174.58, Coverage=0.881\n",
      "  ✅ New best: a=89, b=105, Winkler=336036.95, Coverage=0.882\n",
      "  ✅ New best: a=89, b=106, Winkler=335934.91, Coverage=0.884\n",
      "  ✅ New best: a=89, b=107, Winkler=335868.43, Coverage=0.885\n",
      "  ✅ New best: a=89, b=108, Winkler=335841.00, Coverage=0.886\n",
      "  ✅ New best: a=90, b=103, Winkler=335761.43, Coverage=0.883\n",
      "  ✅ New best: a=90, b=104, Winkler=335586.92, Coverage=0.884\n",
      "  ✅ New best: a=90, b=105, Winkler=335449.30, Coverage=0.885\n",
      "  ✅ New best: a=90, b=106, Winkler=335347.25, Coverage=0.886\n",
      "  ✅ New best: a=90, b=107, Winkler=335280.78, Coverage=0.887\n",
      "  ✅ New best: a=90, b=108, Winkler=335253.34, Coverage=0.888\n",
      "  ✅ New best: a=91, b=103, Winkler=335239.40, Coverage=0.885\n",
      "  ✅ New best: a=91, b=104, Winkler=335064.89, Coverage=0.886\n",
      "  ✅ New best: a=91, b=105, Winkler=334927.27, Coverage=0.888\n",
      "  ✅ New best: a=91, b=106, Winkler=334825.22, Coverage=0.889\n",
      "  ✅ New best: a=91, b=107, Winkler=334758.75, Coverage=0.890\n",
      "  ✅ New best: a=91, b=108, Winkler=334731.31, Coverage=0.891\n",
      "  ✅ New best: a=92, b=104, Winkler=334599.65, Coverage=0.889\n",
      "  ✅ New best: a=92, b=105, Winkler=334462.03, Coverage=0.890\n",
      "  ✅ New best: a=92, b=106, Winkler=334359.98, Coverage=0.891\n",
      "  ✅ New best: a=92, b=107, Winkler=334293.51, Coverage=0.892\n",
      "  ✅ New best: a=92, b=108, Winkler=334266.07, Coverage=0.893\n",
      "  ✅ New best: a=93, b=104, Winkler=334193.76, Coverage=0.891\n",
      "  ✅ New best: a=93, b=105, Winkler=334056.14, Coverage=0.892\n",
      "  ✅ New best: a=93, b=106, Winkler=333954.09, Coverage=0.893\n",
      "  ✅ New best: a=93, b=107, Winkler=333887.62, Coverage=0.894\n",
      "  ✅ New best: a=93, b=108, Winkler=333860.18, Coverage=0.896\n",
      "  ✅ New best: a=94, b=104, Winkler=333849.71, Coverage=0.893\n",
      "  ✅ New best: a=94, b=105, Winkler=333712.09, Coverage=0.894\n",
      "  ✅ New best: a=94, b=106, Winkler=333610.04, Coverage=0.896\n",
      "  ✅ New best: a=94, b=107, Winkler=333543.57, Coverage=0.897\n",
      "  ✅ New best: a=94, b=108, Winkler=333516.13, Coverage=0.898\n",
      "  ✅ New best: a=95, b=105, Winkler=333427.07, Coverage=0.897\n",
      "  ✅ New best: a=95, b=106, Winkler=333325.03, Coverage=0.898\n",
      "  ✅ New best: a=95, b=107, Winkler=333258.55, Coverage=0.899\n",
      "  ✅ New best: a=95, b=108, Winkler=333231.12, Coverage=0.900\n",
      "  ✅ New best: a=96, b=105, Winkler=333195.13, Coverage=0.899\n",
      "  ✅ New best: a=96, b=106, Winkler=333093.08, Coverage=0.900\n",
      "  ✅ New best: a=96, b=107, Winkler=333026.61, Coverage=0.901\n",
      "  ✅ New best: a=96, b=108, Winkler=332999.17, Coverage=0.902\n",
      "  ✅ New best: a=97, b=106, Winkler=332913.49, Coverage=0.902\n",
      "  ✅ New best: a=97, b=107, Winkler=332847.01, Coverage=0.903\n",
      "  ✅ New best: a=97, b=108, Winkler=332819.58, Coverage=0.904\n",
      "  ✅ New best: a=98, b=106, Winkler=332784.94, Coverage=0.904\n",
      "  ✅ New best: a=98, b=107, Winkler=332718.47, Coverage=0.905\n",
      "  ✅ New best: a=98, b=108, Winkler=332691.03, Coverage=0.906\n",
      "  ✅ New best: a=99, b=107, Winkler=332639.99, Coverage=0.907\n",
      "  ✅ New best: a=99, b=108, Winkler=332612.55, Coverage=0.908\n",
      "  ✅ New best: a=100, b=107, Winkler=332609.28, Coverage=0.909\n",
      "  ✅ New best: a=100, b=108, Winkler=332581.85, Coverage=0.910\n",
      "\n",
      "🎯 Best parameters: a=100, b=108, Winkler Score=332581.85, Coverage=0.910\n"
     ]
    },
    {
     "data": {
      "image/png": "[encoded data removed]",
      "text/plain": [
       "<Figure size 1000x800 with 2 Axes>"
      ]
     },
     "metadata": {},
     "output_type": "display_data"
    }
   ],
   "source": [
    "best_a, best_b, best_score, best_coverage, _ = tune_winkler_scaling(\n",
    "    mean=(oof_preds_lower + oof_preds_upper) / 2,\n",
    "    std=(oof_preds_upper - oof_preds_lower) / 2,\n",
    "    true=y,\n",
    "    alpha=CFG.ALPHA,  # 通常是0.1\n",
    "    a_range=(85, 130, 1),\n",
    "    b_range=(90, 130, 1),\n",
    "    plot=True\n",
    ")"
   ]
  },
  {
   "cell_type": "code",
   "execution_count": 27,
   "id": "ad371e17",
   "metadata": {
    "execution": {
     "iopub.execute_input": "2025-07-18T15:55:16.729265Z",
     "iopub.status.busy": "2025-07-18T15:55:16.729040Z",
     "iopub.status.idle": "2025-07-18T15:55:16.741692Z",
     "shell.execute_reply": "2025-07-18T15:55:16.740946Z"
    },
    "papermill": {
     "duration": 0.022936,
     "end_time": "2025-07-18T15:55:16.742860",
     "exception": false,
     "start_time": "2025-07-18T15:55:16.719924",
     "status": "completed"
    },
    "tags": []
   },
   "outputs": [
    {
     "name": "stdout",
     "output_type": "stream",
     "text": [
      "\n",
      "--- Phase 3: Final Evaluation and Submission ---\n",
      "Scaled OOF Winkler: 332722.76357809926\n"
     ]
    }
   ],
   "source": [
    "# --- 4. Final Evaluation and Submission ---\n",
    "print(\"\\n--- Phase 3: Final Evaluation and Submission ---\")\n",
    "\n",
    "# 对 OOF 做缩放后的分数（可选验证）\n",
    "scaled_oof_lower = (oof_preds_lower + oof_preds_upper) / 2 - best_a / 100 * (oof_preds_upper - oof_preds_lower) / 2\n",
    "scaled_oof_upper = (oof_preds_lower + oof_preds_upper) / 2 + best_b / 100 * (oof_preds_upper - oof_preds_lower) / 2\n",
    "print(\"Scaled OOF Winkler:\", winkler_score_func(y, scaled_oof_lower, scaled_oof_upper))\n"
   ]
  },
  {
   "cell_type": "code",
   "execution_count": 28,
   "id": "f6d68047",
   "metadata": {
    "execution": {
     "iopub.execute_input": "2025-07-18T15:55:16.760844Z",
     "iopub.status.busy": "2025-07-18T15:55:16.760623Z",
     "iopub.status.idle": "2025-07-18T15:55:16.764341Z",
     "shell.execute_reply": "2025-07-18T15:55:16.763681Z"
    },
    "papermill": {
     "duration": 0.014068,
     "end_time": "2025-07-18T15:55:16.765503",
     "exception": false,
     "start_time": "2025-07-18T15:55:16.751435",
     "status": "completed"
    },
    "tags": []
   },
   "outputs": [],
   "source": [
    "test_preds_lower = test_preds_lower_sum / CFG.N_SPLITS\n",
    "test_preds_upper = test_preds_upper_sum / CFG.N_SPLITS"
   ]
  },
  {
   "cell_type": "code",
   "execution_count": 29,
   "id": "48c11148",
   "metadata": {
    "execution": {
     "iopub.execute_input": "2025-07-18T15:55:16.783576Z",
     "iopub.status.busy": "2025-07-18T15:55:16.783167Z",
     "iopub.status.idle": "2025-07-18T15:55:16.788879Z",
     "shell.execute_reply": "2025-07-18T15:55:16.788167Z"
    },
    "papermill": {
     "duration": 0.015726,
     "end_time": "2025-07-18T15:55:16.789980",
     "exception": false,
     "start_time": "2025-07-18T15:55:16.774254",
     "status": "completed"
    },
    "tags": []
   },
   "outputs": [],
   "source": [
    "test_mean = (test_preds_lower + test_preds_upper) / 2\n",
    "test_std = (test_preds_upper - test_preds_lower) / 2\n",
    "test_pi_lower = test_mean - best_a / 100 * test_std\n",
    "test_pi_upper = test_mean + best_b / 100 * test_std"
   ]
  },
  {
   "cell_type": "code",
   "execution_count": 30,
   "id": "4674164e",
   "metadata": {
    "execution": {
     "iopub.execute_input": "2025-07-18T15:55:16.808365Z",
     "iopub.status.busy": "2025-07-18T15:55:16.808160Z",
     "iopub.status.idle": "2025-07-18T15:55:17.535848Z",
     "shell.execute_reply": "2025-07-18T15:55:17.535247Z"
    },
    "papermill": {
     "duration": 0.738138,
     "end_time": "2025-07-18T15:55:17.537142",
     "exception": false,
     "start_time": "2025-07-18T15:55:16.799004",
     "status": "completed"
    },
    "tags": []
   },
   "outputs": [],
   "source": [
    "sub = pd.read_csv(\"/kaggle/input/prediction-interval-competition-ii-house-price/sample_submission.csv\")\n",
    "sub['pi_lower'] = test_pi_lower\n",
    "sub['pi_upper'] = test_pi_upper\n",
    "sub.to_csv(\"submission_scaled.csv\", index=False)"
   ]
  },
  {
   "cell_type": "code",
   "execution_count": 31,
   "id": "1440a259",
   "metadata": {
    "execution": {
     "iopub.execute_input": "2025-07-18T15:55:17.602102Z",
     "iopub.status.busy": "2025-07-18T15:55:17.601837Z",
     "iopub.status.idle": "2025-07-18T15:55:17.690075Z",
     "shell.execute_reply": "2025-07-18T15:55:17.689198Z"
    },
    "papermill": {
     "duration": 0.099074,
     "end_time": "2025-07-18T15:55:17.691353",
     "exception": false,
     "start_time": "2025-07-18T15:55:17.592279",
     "status": "completed"
    },
    "tags": []
   },
   "outputs": [
    {
     "name": "stdout",
     "output_type": "stream",
     "text": [
      "\n",
      "Submission file 'submission_scaled.csv' has been created.\n",
      "       id       pi_lower       pi_upper\n",
      "0  200000  827739.130457  974952.699520\n",
      "1  200001  440866.552859  779733.018616\n",
      "2  200002  444472.543851  647049.038330\n",
      "3  200003  300477.747339  442516.579416\n",
      "4  200004  284871.937566  958493.098388\n"
     ]
    }
   ],
   "source": [
    "df = pd.read_csv(\"submission_scaled.csv\")\n",
    "print(\"\\nSubmission file 'submission_scaled.csv' has been created.\")\n",
    "print(df.head())"
   ]
  }
 ],
 "metadata": {
  "kaggle": {
   "accelerator": "gpu",
   "dataSources": [
    {
     "databundleVersionId": 11917221,
     "sourceId": 99650,
     "sourceType": "competition"
    }
   ],
   "dockerImageVersionId": 31040,
   "isGpuEnabled": true,
   "isInternetEnabled": true,
   "language": "python",
   "sourceType": "notebook"
  },
  "kernelspec": {
   "display_name": "Python 3",
   "language": "python",
   "name": "python3"
  },
  "language_info": {
   "codemirror_mode": {
    "name": "ipython",
    "version": 3
   },
   "file_extension": ".py",
   "mimetype": "text/x-python",
   "name": "python",
   "nbconvert_exporter": "python",
   "pygments_lexer": "ipython3",
   "version": "3.11.11"
  },
  "papermill": {
   "default_parameters": {},
   "duration": 482.741143,
   "end_time": "2025-07-18T15:55:18.419145",
   "environment_variables": {},
   "exception": null,
   "input_path": "__notebook__.ipynb",
   "output_path": "__notebook__.ipynb",
   "parameters": {},
   "start_time": "2025-07-18T15:47:15.678002",
   "version": "2.6.0"
  }
 },
 "nbformat": 4,
 "nbformat_minor": 5
}
