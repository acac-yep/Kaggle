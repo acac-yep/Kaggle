{
 "cells": [
  {
   "cell_type": "markdown",
   "id": "d95f7ab9",
   "metadata": {
    "papermill": {
     "duration": 0.004636,
     "end_time": "2025-07-08T11:46:41.324920",
     "exception": false,
     "start_time": "2025-07-08T11:46:41.320284",
     "status": "completed"
    },
    "tags": []
   },
   "source": [
    "# PI-II: Demo QRF\n",
    "\n",
    "A simple example of fitting a quantile regression forest (QRF) using the [quantile-forest](https://zillow.github.io/quantile-forest/) package to estimate prediction intervals.\n",
    "\n",
    "Starter script for the [Prediction interval competition II: House price](https://www.kaggle.com/competitions/prediction-interval-competition-ii-house-price/overview) competition."
   ]
  },
  {
   "cell_type": "code",
   "execution_count": 1,
   "id": "e7865024",
   "metadata": {
    "execution": {
     "iopub.execute_input": "2025-07-08T11:46:41.334174Z",
     "iopub.status.busy": "2025-07-08T11:46:41.333865Z",
     "iopub.status.idle": "2025-07-08T11:46:50.526748Z",
     "shell.execute_reply": "2025-07-08T11:46:50.525668Z"
    },
    "papermill": {
     "duration": 9.199376,
     "end_time": "2025-07-08T11:46:50.528431",
     "exception": false,
     "start_time": "2025-07-08T11:46:41.329055",
     "status": "completed"
    },
    "tags": []
   },
   "outputs": [
    {
     "name": "stdout",
     "output_type": "stream",
     "text": [
      "\u001b[2K   \u001b[90m━━━━━━━━━━━━━━━━━━━━━━━━━━━━━━━━━━━━━━━━\u001b[0m \u001b[32m1.9/1.9 MB\u001b[0m \u001b[31m39.7 MB/s\u001b[0m eta \u001b[36m0:00:00\u001b[0m\r\n",
      "\u001b[2K   \u001b[90m━━━━━━━━━━━━━━━━━━━━━━━━━━━━━━━━━━━━━━━━\u001b[0m \u001b[32m12.9/12.9 MB\u001b[0m \u001b[31m96.7 MB/s\u001b[0m eta \u001b[36m0:00:00\u001b[0m\r\n",
      "\u001b[?25h"
     ]
    }
   ],
   "source": [
    "!pip install -q quantile-forest 2>/dev/null  # package for quantile regression forests"
   ]
  },
  {
   "cell_type": "code",
   "execution_count": 2,
   "id": "6538f5a7",
   "metadata": {
    "execution": {
     "iopub.execute_input": "2025-07-08T11:46:50.537953Z",
     "iopub.status.busy": "2025-07-08T11:46:50.537602Z",
     "iopub.status.idle": "2025-07-08T11:47:03.003122Z",
     "shell.execute_reply": "2025-07-08T11:47:03.002363Z"
    },
    "papermill": {
     "duration": 12.471939,
     "end_time": "2025-07-08T11:47:03.004672",
     "exception": false,
     "start_time": "2025-07-08T11:46:50.532733",
     "status": "completed"
    },
    "tags": []
   },
   "outputs": [],
   "source": [
    "import numpy as np\n",
    "import pandas as pd\n",
    "from quantile_forest import RandomForestQuantileRegressor\n",
    "from sklearn.base import BaseEstimator, TransformerMixin, RegressorMixin\n",
    "from sklearn.impute import SimpleImputer\n",
    "from sklearn.model_selection import train_test_split\n",
    "from sklearn.preprocessing import OrdinalEncoder\n",
    "from sklearn.ensemble import GradientBoostingRegressor\n",
    "import lightgbm as lgb\n",
    "from typing import Tuple\n",
    "import torch\n",
    "from sklearn.metrics import mean_squared_error"
   ]
  },
  {
   "cell_type": "code",
   "execution_count": 3,
   "id": "bffca84d",
   "metadata": {
    "execution": {
     "iopub.execute_input": "2025-07-08T11:47:03.014393Z",
     "iopub.status.busy": "2025-07-08T11:47:03.013740Z",
     "iopub.status.idle": "2025-07-08T11:47:03.018283Z",
     "shell.execute_reply": "2025-07-08T11:47:03.017606Z"
    },
    "papermill": {
     "duration": 0.010807,
     "end_time": "2025-07-08T11:47:03.019654",
     "exception": false,
     "start_time": "2025-07-08T11:47:03.008847",
     "status": "completed"
    },
    "tags": []
   },
   "outputs": [],
   "source": [
    "random_state = 0\n",
    "np.random.seed(random_state)\n",
    "\n",
    "# Competition variables.\n",
    "base_path = \"/kaggle/input/prediction-interval-competition-ii-house-price/\"\n",
    "alpha = 0.1  # the specified competition alpha (i.e., 90% coverage)"
   ]
  },
  {
   "cell_type": "code",
   "execution_count": 4,
   "id": "43470834",
   "metadata": {
    "execution": {
     "iopub.execute_input": "2025-07-08T11:47:03.028950Z",
     "iopub.status.busy": "2025-07-08T11:47:03.028317Z",
     "iopub.status.idle": "2025-07-08T11:47:03.034804Z",
     "shell.execute_reply": "2025-07-08T11:47:03.033870Z"
    },
    "papermill": {
     "duration": 0.012788,
     "end_time": "2025-07-08T11:47:03.036393",
     "exception": false,
     "start_time": "2025-07-08T11:47:03.023605",
     "status": "completed"
    },
    "tags": []
   },
   "outputs": [],
   "source": [
    "#定义损失函数\n",
    "def winkler_score(y_true, lower, upper, alpha=0.1, return_coverage=False):\n",
    "    \"\"\"Compute the Winkler Interval Score for prediction intervals.\n",
    "\n",
    "    Args:\n",
    "        y_true (array-like): True observed values.\n",
    "        lower (array-like): Lower bounds of prediction intervals.\n",
    "        upper (array-like): Upper bounds of prediction intervals.\n",
    "        alpha (float): Significance level (e.g., 0.1 for 90% intervals).\n",
    "        return_coverage (bool): If True, also return empirical coverage.\n",
    "\n",
    "    Returns:\n",
    "        score (float): Mean Winkler Score.\n",
    "        coverage (float, optional): Proportion of true values within intervals.\n",
    "    \"\"\"\n",
    "    y_true = np.asarray(y_true)\n",
    "    lower = np.asarray(lower)\n",
    "    upper = np.asarray(upper)\n",
    "\n",
    "    width = upper - lower\n",
    "    penalty_lower = 2 / alpha * (lower - y_true)\n",
    "    penalty_upper = 2 / alpha * (y_true - upper)\n",
    "\n",
    "    score = width.copy()\n",
    "    score += np.where(y_true < lower, penalty_lower, 0)\n",
    "    score += np.where(y_true > upper, penalty_upper, 0)\n",
    "\n",
    "    if return_coverage:\n",
    "        inside = (y_true >= lower) & (y_true <= upper)\n",
    "        coverage = np.mean(inside)\n",
    "        return np.mean(score), coverage\n",
    "\n",
    "    return np.mean(score)"
   ]
  },
  {
   "cell_type": "code",
   "execution_count": 5,
   "id": "9a28b51b",
   "metadata": {
    "execution": {
     "iopub.execute_input": "2025-07-08T11:47:03.045296Z",
     "iopub.status.busy": "2025-07-08T11:47:03.044996Z",
     "iopub.status.idle": "2025-07-08T11:47:05.657246Z",
     "shell.execute_reply": "2025-07-08T11:47:05.656254Z"
    },
    "papermill": {
     "duration": 2.618602,
     "end_time": "2025-07-08T11:47:05.658998",
     "exception": false,
     "start_time": "2025-07-08T11:47:03.040396",
     "status": "completed"
    },
    "tags": []
   },
   "outputs": [],
   "source": [
    "df = pd.read_csv(base_path + \"dataset.csv\", index_col=\"id\", parse_dates=[\"sale_date\"])\n",
    "df_test = pd.read_csv(base_path + \"test.csv\", index_col=\"id\", parse_dates=[\"sale_date\"])"
   ]
  },
  {
   "cell_type": "markdown",
   "id": "779511de",
   "metadata": {
    "papermill": {
     "duration": 0.003578,
     "end_time": "2025-07-08T11:47:05.666646",
     "exception": false,
     "start_time": "2025-07-08T11:47:05.663068",
     "status": "completed"
    },
    "tags": []
   },
   "source": [
    "## Data Preparation\n",
    "\n",
    "Prepare the data, including separating features and target, encoding categoricals, imputation, and simple feature engineering."
   ]
  },
  {
   "cell_type": "code",
   "execution_count": 6,
   "id": "73d3040a",
   "metadata": {
    "execution": {
     "iopub.execute_input": "2025-07-08T11:47:05.676119Z",
     "iopub.status.busy": "2025-07-08T11:47:05.675204Z",
     "iopub.status.idle": "2025-07-08T11:47:05.822997Z",
     "shell.execute_reply": "2025-07-08T11:47:05.822064Z"
    },
    "papermill": {
     "duration": 0.154159,
     "end_time": "2025-07-08T11:47:05.824624",
     "exception": false,
     "start_time": "2025-07-08T11:47:05.670465",
     "status": "completed"
    },
    "tags": []
   },
   "outputs": [],
   "source": [
    "# Split features and target.\n",
    "X = df.drop(\"sale_price\", axis=1)\n",
    "y = df[\"sale_price\"]\n",
    "\n",
    "# Split train/val and test.\n",
    "X_train, X_val, y_train, y_val = train_test_split(\n",
    "    X, y, test_size=0.2, random_state=random_state\n",
    ")\n",
    "X_test = df_test.copy()"
   ]
  },
  {
   "cell_type": "code",
   "execution_count": 7,
   "id": "0830b430",
   "metadata": {
    "execution": {
     "iopub.execute_input": "2025-07-08T11:47:05.833297Z",
     "iopub.status.busy": "2025-07-08T11:47:05.833008Z",
     "iopub.status.idle": "2025-07-08T11:47:06.729154Z",
     "shell.execute_reply": "2025-07-08T11:47:06.728166Z"
    },
    "papermill": {
     "duration": 0.902335,
     "end_time": "2025-07-08T11:47:06.730899",
     "exception": false,
     "start_time": "2025-07-08T11:47:05.828564",
     "status": "completed"
    },
    "tags": []
   },
   "outputs": [],
   "source": [
    "#对类别特征的编码\n",
    "cat_cols = X_train.select_dtypes(include=[\"object\"]).columns.tolist()\n",
    "encoder = OrdinalEncoder(handle_unknown=\"use_encoded_value\", unknown_value=-1)\n",
    "X_train[cat_cols] = encoder.fit_transform(X_train[cat_cols])\n",
    "X_val[cat_cols] = encoder.transform(X_val[cat_cols])\n",
    "X_test[cat_cols] = encoder.transform(X_test[cat_cols])"
   ]
  },
  {
   "cell_type": "code",
   "execution_count": 8,
   "id": "ce50d780",
   "metadata": {
    "execution": {
     "iopub.execute_input": "2025-07-08T11:47:06.741853Z",
     "iopub.status.busy": "2025-07-08T11:47:06.741494Z",
     "iopub.status.idle": "2025-07-08T11:47:08.223436Z",
     "shell.execute_reply": "2025-07-08T11:47:08.222354Z"
    },
    "papermill": {
     "duration": 1.489455,
     "end_time": "2025-07-08T11:47:08.225120",
     "exception": false,
     "start_time": "2025-07-08T11:47:06.735665",
     "status": "completed"
    },
    "tags": []
   },
   "outputs": [],
   "source": [
    "# 对缺失值的插补填充\n",
    "num_cols = X_train.select_dtypes(include=\"number\").columns.tolist()\n",
    "\n",
    "num_imputer = SimpleImputer(strategy=\"median\")\n",
    "cat_imputer = SimpleImputer(strategy=\"most_frequent\")\n",
    "\n",
    "\n",
    "def impute(df, cols, imputer, fit=False):\n",
    "    \"\"\"Helper function for imputation.\"\"\"\n",
    "    if fit:\n",
    "        return pd.DataFrame(imputer.fit_transform(df[cols]), columns=cols, index=df.index)\n",
    "    else:\n",
    "        return pd.DataFrame(imputer.transform(df[cols]), columns=cols, index=df.index)\n",
    "\n",
    "\n",
    "X_train[num_cols] = impute(X_train, num_cols, num_imputer, fit=True)\n",
    "X_val[num_cols] = impute(X_val, num_cols, num_imputer)\n",
    "X_test[num_cols] = impute(X_test, num_cols, num_imputer)\n",
    "\n",
    "X_train[cat_cols] = impute(X_train, cat_cols, cat_imputer, fit=True)\n",
    "X_val[cat_cols] = impute(X_val, cat_cols, cat_imputer)\n",
    "X_test[cat_cols] = impute(X_test, cat_cols, cat_imputer)"
   ]
  },
  {
   "cell_type": "code",
   "execution_count": 9,
   "id": "4f41e941",
   "metadata": {
    "execution": {
     "iopub.execute_input": "2025-07-08T11:47:08.234611Z",
     "iopub.status.busy": "2025-07-08T11:47:08.233865Z",
     "iopub.status.idle": "2025-07-08T11:47:08.457800Z",
     "shell.execute_reply": "2025-07-08T11:47:08.456843Z"
    },
    "papermill": {
     "duration": 0.230135,
     "end_time": "2025-07-08T11:47:08.459354",
     "exception": false,
     "start_time": "2025-07-08T11:47:08.229219",
     "status": "completed"
    },
    "tags": []
   },
   "outputs": [],
   "source": [
    "#一个编码器将销售日期转换为每年中的周数，并应用于训练集、验证集和测试集\n",
    "class SaleDateEncoder(BaseEstimator, TransformerMixin):\n",
    "    \"\"\"Encode sale date as a week of the year feature.\"\"\"\n",
    "\n",
    "    def __init__(self, date_column=\"sale_date\"):\n",
    "        self.date_column = date_column\n",
    "\n",
    "    def fit(self, X, y=None):\n",
    "        return self\n",
    "\n",
    "    def transform(self, X):\n",
    "        X = X.assign(\n",
    "            **{\n",
    "                \"sale_week\": lambda x: x[\"sale_date\"].dt.isocalendar().week,\n",
    "            }\n",
    "        ).drop(columns=[\"sale_date\"])\n",
    "        return X\n",
    "\n",
    "    def fit_transform(self, X):\n",
    "        return self.fit(self, X).transform(X)\n",
    "\n",
    "\n",
    "# Sale date encoding.\n",
    "saledate_encoder = SaleDateEncoder(date_column=\"sale_date\")\n",
    "X_train = saledate_encoder.fit_transform(X_train)\n",
    "X_val = saledate_encoder.transform(X_val)\n",
    "X_test = saledate_encoder.transform(X_test)"
   ]
  },
  {
   "cell_type": "markdown",
   "id": "73da8b8c",
   "metadata": {
    "papermill": {
     "duration": 0.003645,
     "end_time": "2025-07-08T11:47:08.467076",
     "exception": false,
     "start_time": "2025-07-08T11:47:08.463431",
     "status": "completed"
    },
    "tags": []
   },
   "source": [
    "## Model Fitting\n",
    "\n",
    "Fit a QRF model and use it to estimate a nominal marginal coverage of 90% (quantiles 0.05 and 0.95)."
   ]
  },
  {
   "cell_type": "code",
   "execution_count": 10,
   "id": "c383d7a3",
   "metadata": {
    "execution": {
     "iopub.execute_input": "2025-07-08T11:47:08.475664Z",
     "iopub.status.busy": "2025-07-08T11:47:08.475388Z",
     "iopub.status.idle": "2025-07-08T11:47:08.485456Z",
     "shell.execute_reply": "2025-07-08T11:47:08.484762Z"
    },
    "papermill": {
     "duration": 0.016122,
     "end_time": "2025-07-08T11:47:08.486806",
     "exception": false,
     "start_time": "2025-07-08T11:47:08.470684",
     "status": "completed"
    },
    "tags": []
   },
   "outputs": [],
   "source": [
    "class GBDTIntervalRegressor(BaseEstimator, RegressorMixin):\n",
    "    \"\"\"\n",
    "    基于 LightGBM 的分位数回归器，支持多个分位点训练并输出预测区间。\n",
    "    默认使用 LightGBM，保留 sklearn GBDT 兼容接口。\n",
    "    \"\"\"\n",
    "\n",
    "    def __init__(\n",
    "        self,\n",
    "        backend: str = \"lightgbm\",   # 默认改为 lightgbm\n",
    "        n_estimators: int = 200,\n",
    "        learning_rate: float = 0.1,\n",
    "        max_depth: int = 5,          # LightGBM 用 -1 表示无深度限制\n",
    "        quantiles: Tuple[float, float, float] = (0.05, 0.5, 0.95),\n",
    "        **kwargs\n",
    "    ):\n",
    "        self.backend = backend\n",
    "        self.n_estimators = n_estimators\n",
    "        self.learning_rate = learning_rate\n",
    "        self.max_depth = max_depth\n",
    "        self.quantiles = quantiles\n",
    "        self.kwargs = kwargs\n",
    "        self.models_ = {}\n",
    "\n",
    "    def fit(self, X, y):\n",
    "        for q in self.quantiles:\n",
    "            if self.backend == \"sklearn\":\n",
    "                # sklearn GBDT\n",
    "                from sklearn.ensemble import GradientBoostingRegressor\n",
    "                model = GradientBoostingRegressor(\n",
    "                    loss=\"quantile\",\n",
    "                    alpha=q,\n",
    "                    n_estimators=self.n_estimators,\n",
    "                    learning_rate=self.learning_rate,\n",
    "                    max_depth=self.max_depth,\n",
    "                    **self.kwargs\n",
    "                )\n",
    "            else:\n",
    "                # LightGBM 量化回归\n",
    "                params = dict(\n",
    "                    objective=\"quantile\",\n",
    "                    alpha=q,\n",
    "                    n_estimators=self.n_estimators,\n",
    "                    learning_rate=self.learning_rate,\n",
    "                    max_depth=self.max_depth,\n",
    "                    verbose=-1,\n",
    "                    **self.kwargs\n",
    "                )\n",
    "                model = lgb.LGBMRegressor(**params)\n",
    "            model.fit(X, y)\n",
    "            self.models_[q] = model\n",
    "        return self\n",
    "\n",
    "    def predict(self, X) -> np.ndarray:\n",
    "        lower = self.models_[self.quantiles[0]].predict(X)\n",
    "        upper = self.models_[self.quantiles[2]].predict(X)\n",
    "        # 返回一个 (n_samples, 2) 的数组，分别是下界和上界\n",
    "        return np.stack((lower, upper), axis=1)\n",
    "\n",
    "    @property\n",
    "    def feature_importances_(self):\n",
    "        # 返回所有分位数模型的重要性字典\n",
    "        return {q: m.feature_importances_ for q, m in self.models_.items()}\n",
    "\n",
    "    def get_params(self, deep=True):\n",
    "        return {\n",
    "            \"backend\": self.backend,\n",
    "            \"n_estimators\": self.n_estimators,\n",
    "            \"learning_rate\": self.learning_rate,\n",
    "            \"max_depth\": self.max_depth,\n",
    "            \"quantiles\": self.quantiles,\n",
    "            **self.kwargs,\n",
    "        }\n",
    "\n",
    "    def set_params(self, **params):\n",
    "        for k, v in params.items():\n",
    "            setattr(self, k, v)\n",
    "        return self\n"
   ]
  },
  {
   "cell_type": "code",
   "execution_count": 11,
   "id": "3f371a8e",
   "metadata": {
    "execution": {
     "iopub.execute_input": "2025-07-08T11:47:08.495824Z",
     "iopub.status.busy": "2025-07-08T11:47:08.495206Z",
     "iopub.status.idle": "2025-07-08T11:47:18.145907Z",
     "shell.execute_reply": "2025-07-08T11:47:18.145083Z"
    },
    "papermill": {
     "duration": 9.656843,
     "end_time": "2025-07-08T11:47:18.147499",
     "exception": false,
     "start_time": "2025-07-08T11:47:08.490656",
     "status": "completed"
    },
    "tags": []
   },
   "outputs": [],
   "source": [
    "model = GBDTIntervalRegressor().fit(X_train, y_train)"
   ]
  },
  {
   "cell_type": "code",
   "execution_count": 12,
   "id": "edcae51b",
   "metadata": {
    "execution": {
     "iopub.execute_input": "2025-07-08T11:47:18.156956Z",
     "iopub.status.busy": "2025-07-08T11:47:18.156600Z",
     "iopub.status.idle": "2025-07-08T11:47:18.625087Z",
     "shell.execute_reply": "2025-07-08T11:47:18.624138Z"
    },
    "papermill": {
     "duration": 0.474842,
     "end_time": "2025-07-08T11:47:18.626646",
     "exception": false,
     "start_time": "2025-07-08T11:47:18.151804",
     "status": "completed"
    },
    "tags": []
   },
   "outputs": [],
   "source": [
    "y_val_pred = model.predict(X_val)\n",
    "y_val_pred = pd.DataFrame(y_val_pred, columns=[\"pi_lower\", \"pi_upper\"])\n",
    "#产生每个样本的预测区间并保存"
   ]
  },
  {
   "cell_type": "markdown",
   "id": "c1ea1bd2",
   "metadata": {
    "papermill": {
     "duration": 0.003557,
     "end_time": "2025-07-08T11:47:18.634204",
     "exception": false,
     "start_time": "2025-07-08T11:47:18.630647",
     "status": "completed"
    },
    "tags": []
   },
   "source": [
    "## Evaluation\n",
    "\n",
    "Evaluate the QRF predictions on the validation data."
   ]
  },
  {
   "cell_type": "code",
   "execution_count": 13,
   "id": "289f99b4",
   "metadata": {
    "execution": {
     "iopub.execute_input": "2025-07-08T11:47:18.643027Z",
     "iopub.status.busy": "2025-07-08T11:47:18.642726Z",
     "iopub.status.idle": "2025-07-08T11:47:18.652438Z",
     "shell.execute_reply": "2025-07-08T11:47:18.651410Z"
    },
    "papermill": {
     "duration": 0.015912,
     "end_time": "2025-07-08T11:47:18.653778",
     "exception": false,
     "start_time": "2025-07-08T11:47:18.637866",
     "status": "completed"
    },
    "tags": []
   },
   "outputs": [
    {
     "name": "stdout",
     "output_type": "stream",
     "text": [
      "Mean Winkler Score: 829713.7\n",
      "Coverage: 89.0 %\n"
     ]
    }
   ],
   "source": [
    "mws, coverage = winkler_score(\n",
    "    y_val,\n",
    "    y_val_pred[\"pi_lower\"],\n",
    "    y_val_pred[\"pi_upper\"],\n",
    "    alpha=alpha,\n",
    "    return_coverage=True,\n",
    ")\n",
    "\n",
    "print(\"Mean Winkler Score:\", round(mws, 2))\n",
    "print(\"Coverage:\", round(coverage * 100, 1), \"%\")"
   ]
  },
  {
   "cell_type": "markdown",
   "id": "61d7cf7e",
   "metadata": {
    "papermill": {
     "duration": 0.003518,
     "end_time": "2025-07-08T11:47:18.661331",
     "exception": false,
     "start_time": "2025-07-08T11:47:18.657813",
     "status": "completed"
    },
    "tags": []
   },
   "source": [
    "## Submission"
   ]
  },
  {
   "cell_type": "code",
   "execution_count": 14,
   "id": "2d671438",
   "metadata": {
    "execution": {
     "iopub.execute_input": "2025-07-08T11:47:18.670136Z",
     "iopub.status.busy": "2025-07-08T11:47:18.669406Z",
     "iopub.status.idle": "2025-07-08T11:47:22.252245Z",
     "shell.execute_reply": "2025-07-08T11:47:22.251490Z"
    },
    "papermill": {
     "duration": 3.588837,
     "end_time": "2025-07-08T11:47:22.253781",
     "exception": false,
     "start_time": "2025-07-08T11:47:18.664944",
     "status": "completed"
    },
    "tags": []
   },
   "outputs": [
    {
     "data": {
      "text/html": [
       "<div>\n",
       "<style scoped>\n",
       "    .dataframe tbody tr th:only-of-type {\n",
       "        vertical-align: middle;\n",
       "    }\n",
       "\n",
       "    .dataframe tbody tr th {\n",
       "        vertical-align: top;\n",
       "    }\n",
       "\n",
       "    .dataframe thead th {\n",
       "        text-align: right;\n",
       "    }\n",
       "</style>\n",
       "<table border=\"1\" class=\"dataframe\">\n",
       "  <thead>\n",
       "    <tr style=\"text-align: right;\">\n",
       "      <th></th>\n",
       "      <th>id</th>\n",
       "      <th>pi_lower</th>\n",
       "      <th>pi_upper</th>\n",
       "    </tr>\n",
       "  </thead>\n",
       "  <tbody>\n",
       "    <tr>\n",
       "      <th>0</th>\n",
       "      <td>200000</td>\n",
       "      <td>659573.823459</td>\n",
       "      <td>1.085646e+06</td>\n",
       "    </tr>\n",
       "    <tr>\n",
       "      <th>1</th>\n",
       "      <td>200001</td>\n",
       "      <td>617432.206706</td>\n",
       "      <td>1.625997e+06</td>\n",
       "    </tr>\n",
       "    <tr>\n",
       "      <th>2</th>\n",
       "      <td>200002</td>\n",
       "      <td>352410.443111</td>\n",
       "      <td>9.853416e+05</td>\n",
       "    </tr>\n",
       "    <tr>\n",
       "      <th>3</th>\n",
       "      <td>200003</td>\n",
       "      <td>229109.312492</td>\n",
       "      <td>4.601407e+05</td>\n",
       "    </tr>\n",
       "    <tr>\n",
       "      <th>4</th>\n",
       "      <td>200004</td>\n",
       "      <td>439664.642979</td>\n",
       "      <td>1.443787e+06</td>\n",
       "    </tr>\n",
       "    <tr>\n",
       "      <th>...</th>\n",
       "      <td>...</td>\n",
       "      <td>...</td>\n",
       "      <td>...</td>\n",
       "    </tr>\n",
       "    <tr>\n",
       "      <th>199995</th>\n",
       "      <td>399995</td>\n",
       "      <td>220258.857810</td>\n",
       "      <td>9.263395e+05</td>\n",
       "    </tr>\n",
       "    <tr>\n",
       "      <th>199996</th>\n",
       "      <td>399996</td>\n",
       "      <td>239451.121942</td>\n",
       "      <td>7.246496e+05</td>\n",
       "    </tr>\n",
       "    <tr>\n",
       "      <th>199997</th>\n",
       "      <td>399997</td>\n",
       "      <td>194272.834664</td>\n",
       "      <td>5.143406e+05</td>\n",
       "    </tr>\n",
       "    <tr>\n",
       "      <th>199998</th>\n",
       "      <td>399998</td>\n",
       "      <td>390955.505305</td>\n",
       "      <td>1.177712e+06</td>\n",
       "    </tr>\n",
       "    <tr>\n",
       "      <th>199999</th>\n",
       "      <td>399999</td>\n",
       "      <td>484831.372662</td>\n",
       "      <td>7.488878e+05</td>\n",
       "    </tr>\n",
       "  </tbody>\n",
       "</table>\n",
       "<p>200000 rows × 3 columns</p>\n",
       "</div>"
      ],
      "text/plain": [
       "            id       pi_lower      pi_upper\n",
       "0       200000  659573.823459  1.085646e+06\n",
       "1       200001  617432.206706  1.625997e+06\n",
       "2       200002  352410.443111  9.853416e+05\n",
       "3       200003  229109.312492  4.601407e+05\n",
       "4       200004  439664.642979  1.443787e+06\n",
       "...        ...            ...           ...\n",
       "199995  399995  220258.857810  9.263395e+05\n",
       "199996  399996  239451.121942  7.246496e+05\n",
       "199997  399997  194272.834664  5.143406e+05\n",
       "199998  399998  390955.505305  1.177712e+06\n",
       "199999  399999  484831.372662  7.488878e+05\n",
       "\n",
       "[200000 rows x 3 columns]"
      ]
     },
     "execution_count": 14,
     "metadata": {},
     "output_type": "execute_result"
    }
   ],
   "source": [
    "# Predict intervals on test set.\n",
    "test_preds = model.predict(X_test)\n",
    "\n",
    "sample_submission = pd.read_csv(base_path + \"sample_submission.csv\")\n",
    "sample_submission[\"pi_lower\"] = test_preds[:, 0]\n",
    "sample_submission[\"pi_upper\"] = test_preds[:, 1]\n",
    "sample_submission.to_csv(\"submission.csv\",\n",
    "                         index=False,\n",
    "                         float_format=\"%.6f\")\n",
    "\n",
    "sample_submission"
   ]
  }
 ],
 "metadata": {
  "kaggle": {
   "accelerator": "none",
   "dataSources": [
    {
     "databundleVersionId": 11917221,
     "sourceId": 99650,
     "sourceType": "competition"
    }
   ],
   "dockerImageVersionId": 31012,
   "isGpuEnabled": false,
   "isInternetEnabled": true,
   "language": "python",
   "sourceType": "notebook"
  },
  "kernelspec": {
   "display_name": "Python 3",
   "language": "python",
   "name": "python3"
  },
  "language_info": {
   "codemirror_mode": {
    "name": "ipython",
    "version": 3
   },
   "file_extension": ".py",
   "mimetype": "text/x-python",
   "name": "python",
   "nbconvert_exporter": "python",
   "pygments_lexer": "ipython3",
   "version": "3.11.11"
  },
  "papermill": {
   "default_parameters": {},
   "duration": 48.528816,
   "end_time": "2025-07-08T11:47:24.876652",
   "environment_variables": {},
   "exception": null,
   "input_path": "__notebook__.ipynb",
   "output_path": "__notebook__.ipynb",
   "parameters": {},
   "start_time": "2025-07-08T11:46:36.347836",
   "version": "2.6.0"
  }
 },
 "nbformat": 4,
 "nbformat_minor": 5
}
