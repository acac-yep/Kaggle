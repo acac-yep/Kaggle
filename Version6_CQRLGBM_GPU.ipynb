{
 "cells": [
  {
   "cell_type": "code",
   "execution_count": 1,
   "id": "fc043fd4",
   "metadata": {
    "execution": {
     "iopub.execute_input": "2025-07-15T09:38:00.264957Z",
     "iopub.status.busy": "2025-07-15T09:38:00.264661Z",
     "iopub.status.idle": "2025-07-15T09:38:08.454329Z",
     "shell.execute_reply": "2025-07-15T09:38:08.453533Z"
    },
    "papermill": {
     "duration": 8.196307,
     "end_time": "2025-07-15T09:38:08.455805",
     "exception": false,
     "start_time": "2025-07-15T09:38:00.259498",
     "status": "completed"
    },
    "tags": []
   },
   "outputs": [
    {
     "name": "stdout",
     "output_type": "stream",
     "text": [
      "\u001b[2K   \u001b[90m━━━━━━━━━━━━━━━━━━━━━━━━━━━━━━━━━━━━━━━━\u001b[0m \u001b[32m173.2/173.2 kB\u001b[0m \u001b[31m6.4 MB/s\u001b[0m eta \u001b[36m0:00:00\u001b[0m\r\n",
      "\u001b[2K   \u001b[90m━━━━━━━━━━━━━━━━━━━━━━━━━━━━━━━━━━━━━━━━\u001b[0m \u001b[32m12.9/12.9 MB\u001b[0m \u001b[31m101.4 MB/s\u001b[0m eta \u001b[36m0:00:00\u001b[0m\r\n",
      "\u001b[?25h\u001b[31mERROR: pip's dependency resolver does not currently take into account all the packages that are installed. This behaviour is the source of the following dependency conflicts.\r\n",
      "category-encoders 2.7.0 requires scikit-learn<1.6.0,>=1.0.0, but you have scikit-learn 1.7.0 which is incompatible.\r\n",
      "cesium 0.12.4 requires numpy<3.0,>=2.0, but you have numpy 1.26.4 which is incompatible.\r\n",
      "sklearn-compat 0.1.3 requires scikit-learn<1.7,>=1.2, but you have scikit-learn 1.7.0 which is incompatible.\u001b[0m\u001b[31m\r\n",
      "\u001b[0m"
     ]
    }
   ],
   "source": [
    "!pip install mapie -qq"
   ]
  },
  {
   "cell_type": "code",
   "execution_count": 2,
   "id": "004e47bc",
   "metadata": {
    "execution": {
     "iopub.execute_input": "2025-07-15T09:38:08.463847Z",
     "iopub.status.busy": "2025-07-15T09:38:08.463611Z",
     "iopub.status.idle": "2025-07-15T09:38:08.959647Z",
     "shell.execute_reply": "2025-07-15T09:38:08.958526Z"
    },
    "papermill": {
     "duration": 0.501511,
     "end_time": "2025-07-15T09:38:08.960982",
     "exception": false,
     "start_time": "2025-07-15T09:38:08.459471",
     "status": "completed"
    },
    "tags": []
   },
   "outputs": [
    {
     "name": "stdout",
     "output_type": "stream",
     "text": [
      "\r\n",
      "Usage:   \r\n",
      "  /usr/bin/python3 -m pip install [options] <requirement specifier> [package-index-options] ...\r\n",
      "  /usr/bin/python3 -m pip install [options] -r <requirements file> [package-index-options] ...\r\n",
      "  /usr/bin/python3 -m pip install [options] [-e] <vcs project url> ...\r\n",
      "  /usr/bin/python3 -m pip install [options] [-e] <local project path> ...\r\n",
      "  /usr/bin/python3 -m pip install [options] <archive url/path> ...\r\n",
      "\r\n",
      "no such option: --install-option\r\n",
      "Note: you may need to restart the kernel to use updated packages.\n"
     ]
    }
   ],
   "source": [
    "pip install lightgbm --install-option=--gpu"
   ]
  },
  {
   "cell_type": "code",
   "execution_count": 3,
   "id": "445a1b80",
   "metadata": {
    "execution": {
     "iopub.execute_input": "2025-07-15T09:38:08.968923Z",
     "iopub.status.busy": "2025-07-15T09:38:08.968617Z",
     "iopub.status.idle": "2025-07-15T09:38:16.005519Z",
     "shell.execute_reply": "2025-07-15T09:38:16.004669Z"
    },
    "papermill": {
     "duration": 7.042792,
     "end_time": "2025-07-15T09:38:16.007339",
     "exception": false,
     "start_time": "2025-07-15T09:38:08.964547",
     "status": "completed"
    },
    "tags": []
   },
   "outputs": [],
   "source": [
    "# --- 0. Import Libraries ---\n",
    "import pandas as pd\n",
    "import numpy as np\n",
    "import lightgbm as lgb\n",
    "from sklearn.model_selection import KFold\n",
    "from sklearn.preprocessing import OrdinalEncoder\n",
    "from mapie.regression import ConformalizedQuantileRegressor\n",
    "import warnings\n",
    "import os"
   ]
  },
  {
   "cell_type": "code",
   "execution_count": 4,
   "id": "67098007",
   "metadata": {
    "execution": {
     "iopub.execute_input": "2025-07-15T09:38:16.019882Z",
     "iopub.status.busy": "2025-07-15T09:38:16.019419Z",
     "iopub.status.idle": "2025-07-15T09:38:16.023310Z",
     "shell.execute_reply": "2025-07-15T09:38:16.022562Z"
    },
    "papermill": {
     "duration": 0.011006,
     "end_time": "2025-07-15T09:38:16.024438",
     "exception": false,
     "start_time": "2025-07-15T09:38:16.013432",
     "status": "completed"
    },
    "tags": []
   },
   "outputs": [],
   "source": [
    "warnings.filterwarnings('ignore')"
   ]
  },
  {
   "cell_type": "code",
   "execution_count": 5,
   "id": "c399aa61",
   "metadata": {
    "execution": {
     "iopub.execute_input": "2025-07-15T09:38:16.032040Z",
     "iopub.status.busy": "2025-07-15T09:38:16.031756Z",
     "iopub.status.idle": "2025-07-15T09:38:16.038930Z",
     "shell.execute_reply": "2025-07-15T09:38:16.038301Z"
    },
    "papermill": {
     "duration": 0.012189,
     "end_time": "2025-07-15T09:38:16.039913",
     "exception": false,
     "start_time": "2025-07-15T09:38:16.027724",
     "status": "completed"
    },
    "tags": []
   },
   "outputs": [],
   "source": [
    "class CFG:\n",
    "    # Global settings\n",
    "    SEED = 42\n",
    "    N_SPLITS = 5  # Number of folds for cross-validation\n",
    "    CONFIDENCE_LEVEL = 0.9  # Target confidence level (90%)\n",
    "    ALPHA = 1 - CONFIDENCE_LEVEL\n",
    "\n",
    "    # File paths\n",
    "    try:\n",
    "        # Kaggle environment\n",
    "        DATA_PATH = '/kaggle/input/prediction-interval-competition-ii-house-price/'\n",
    "        if not os.path.exists(os.path.join(DATA_PATH, 'dataset.csv')):\n",
    "            raise FileNotFoundError\n",
    "    except FileNotFoundError:\n",
    "        print(\"Kaggle path not found or files missing, switching to local path './'.\")\n",
    "        DATA_PATH = './'\n",
    "    OUTPUT_PATH = './'\n",
    "\n",
    "    # Base parameters for the quantile models\n",
    "    LGBM_PARAMS = {\n",
    "        'objective': 'quantile',\n",
    "        'metric': 'quantile',\n",
    "        'n_estimators': 2000, # Increased for early stopping\n",
    "        'subsample': 0.8,\n",
    "        'colsample_bytree': 0.5,\n",
    "        'learning_rate': 0.05,\n",
    "        'max_depth': -1,\n",
    "        'min_child_samples': 150,\n",
    "        'n_jobs': -1,\n",
    "        'random_state': SEED,\n",
    "        'verbose': -1,\n",
    "        'device': 'gpu',  # Enable GPU acceleration\n",
    "        'max_bin':255,\n",
    "        'gpu_platform_id': 0,  # Optional: specify which platform to use, usually 0 if only one GPU\n",
    "        'gpu_device_id': 0,  \n",
    "    }"
   ]
  },
  {
   "cell_type": "code",
   "execution_count": 6,
   "id": "350975b0",
   "metadata": {
    "execution": {
     "iopub.execute_input": "2025-07-15T09:38:16.047317Z",
     "iopub.status.busy": "2025-07-15T09:38:16.046809Z",
     "iopub.status.idle": "2025-07-15T09:38:16.051898Z",
     "shell.execute_reply": "2025-07-15T09:38:16.051302Z"
    },
    "papermill": {
     "duration": 0.009874,
     "end_time": "2025-07-15T09:38:16.052998",
     "exception": false,
     "start_time": "2025-07-15T09:38:16.043124",
     "status": "completed"
    },
    "tags": []
   },
   "outputs": [],
   "source": [
    "def winkler_score_func(y_true, lower, upper, alpha=CFG.ALPHA):\n",
    "    \"\"\"Utility function to calculate the Winkler score.\"\"\"\n",
    "    score = np.mean(upper - lower)\n",
    "    score += np.mean(np.where(y_true < lower, (2 / alpha) * (lower - y_true), 0))\n",
    "    score += np.mean(np.where(y_true > upper, (2 / alpha) * (y_true - upper), 0))\n",
    "    return score\n"
   ]
  },
  {
   "cell_type": "code",
   "execution_count": 7,
   "id": "36fc238c",
   "metadata": {
    "execution": {
     "iopub.execute_input": "2025-07-15T09:38:16.060144Z",
     "iopub.status.busy": "2025-07-15T09:38:16.059914Z",
     "iopub.status.idle": "2025-07-15T09:38:18.499274Z",
     "shell.execute_reply": "2025-07-15T09:38:18.498662Z"
    },
    "papermill": {
     "duration": 2.444445,
     "end_time": "2025-07-15T09:38:18.500636",
     "exception": false,
     "start_time": "2025-07-15T09:38:16.056191",
     "status": "completed"
    },
    "tags": []
   },
   "outputs": [
    {
     "name": "stdout",
     "output_type": "stream",
     "text": [
      "\n",
      "--- Phase 1: Loading and Preprocessing Data ---\n"
     ]
    }
   ],
   "source": [
    "# --- 2. Data Loading and Preprocessing ---\n",
    "print(\"\\n--- Phase 1: Loading and Preprocessing Data ---\")\n",
    "try:\n",
    "    train_df_raw = pd.read_csv(os.path.join(CFG.DATA_PATH, 'dataset.csv'))\n",
    "    test_df_raw = pd.read_csv(os.path.join(CFG.DATA_PATH, 'test.csv'))\n",
    "except FileNotFoundError:\n",
    "    print(\"Error: dataset.csv or test.csv not found.\")\n",
    "    print(\"Creating dummy data for demonstration purposes.\")\n",
    "    train_df_raw = pd.DataFrame({\n",
    "        'id': range(1000), 'sale_price': np.random.rand(1000) * 500000 + 100000,\n",
    "        'sale_date': pd.to_datetime(pd.date_range(start='2022-01-01', periods=1000)),\n",
    "        'category_feature': np.random.choice(['A', 'B', 'C'], 1000)\n",
    "    })\n",
    "    test_df_raw = pd.DataFrame({\n",
    "        'id': range(1000, 1200),\n",
    "        'sale_date': pd.to_datetime(pd.date_range(start='2024-09-01', periods=200)),\n",
    "        'category_feature': np.random.choice(['A', 'B', 'C'], 200)\n",
    "    })\n"
   ]
  },
  {
   "cell_type": "code",
   "execution_count": 8,
   "id": "0a7b6afe",
   "metadata": {
    "execution": {
     "iopub.execute_input": "2025-07-15T09:38:18.511769Z",
     "iopub.status.busy": "2025-07-15T09:38:18.511332Z",
     "iopub.status.idle": "2025-07-15T09:38:18.516892Z",
     "shell.execute_reply": "2025-07-15T09:38:18.516151Z"
    },
    "papermill": {
     "duration": 0.011274,
     "end_time": "2025-07-15T09:38:18.517964",
     "exception": false,
     "start_time": "2025-07-15T09:38:18.506690",
     "status": "completed"
    },
    "tags": []
   },
   "outputs": [],
   "source": [
    "def feature_engineer(df):\n",
    "    \"\"\"Simple feature engineering.\"\"\"\n",
    "    data = df.copy()\n",
    "    if 'sale_date' in data.columns:\n",
    "        data['sale_date'] = pd.to_datetime(data['sale_date'])\n",
    "        data['sale_year'] = data['sale_date'].dt.year\n",
    "        data['sale_month'] = data['sale_date'].dt.month\n",
    "        data['sale_dayofweek'] = data['sale_date'].dt.dayofweek\n",
    "        first_sale_month = data['sale_date'].dt.to_period('M').min()\n",
    "        data['months_since_first_sale'] = (data['sale_date'].dt.to_period('M') - first_sale_month).apply(lambda x: x.n)\n",
    "        data = data.drop('sale_date', axis=1)\n",
    "    cat_cols = data.select_dtypes(include=['object']).columns\n",
    "    for col in cat_cols:\n",
    "        data[col] = pd.Categorical(data[col])#给特征编码\n",
    "    return data\n"
   ]
  },
  {
   "cell_type": "code",
   "execution_count": 9,
   "id": "8a9dfd7b",
   "metadata": {
    "execution": {
     "iopub.execute_input": "2025-07-15T09:38:18.525594Z",
     "iopub.status.busy": "2025-07-15T09:38:18.525120Z",
     "iopub.status.idle": "2025-07-15T09:38:20.636356Z",
     "shell.execute_reply": "2025-07-15T09:38:20.635510Z"
    },
    "papermill": {
     "duration": 2.116344,
     "end_time": "2025-07-15T09:38:20.637783",
     "exception": false,
     "start_time": "2025-07-15T09:38:18.521439",
     "status": "completed"
    },
    "tags": []
   },
   "outputs": [],
   "source": [
    "train_df = feature_engineer(train_df_raw)\n",
    "test_df_processed = feature_engineer(test_df_raw)"
   ]
  },
  {
   "cell_type": "code",
   "execution_count": 10,
   "id": "a06fa876",
   "metadata": {
    "execution": {
     "iopub.execute_input": "2025-07-15T09:38:20.646462Z",
     "iopub.status.busy": "2025-07-15T09:38:20.645864Z",
     "iopub.status.idle": "2025-07-15T09:38:20.650726Z",
     "shell.execute_reply": "2025-07-15T09:38:20.649996Z"
    },
    "papermill": {
     "duration": 0.010304,
     "end_time": "2025-07-15T09:38:20.651940",
     "exception": false,
     "start_time": "2025-07-15T09:38:20.641636",
     "status": "completed"
    },
    "tags": []
   },
   "outputs": [],
   "source": [
    "max_bin_size = 255\n",
    "def get_bin_size(data):\n",
    "    bin_sizes = {}\n",
    "    for col in data.columns:\n",
    "        # 获取每个特征的唯一值数量\n",
    "        unique_values = data[col].nunique()\n",
    "        bin_sizes[col] = unique_values\n",
    "    return bin_sizes\n",
    "\n",
    "# 2. 删除 bin size 过大的特征\n",
    "def remove_large_bin_features(X, max_bin_size):\n",
    "    bin_sizes = get_bin_size(X)\n",
    "    features_to_drop = [col for col, size in bin_sizes.items() if size > max_bin_size]\n",
    "    X_dropped = X.drop(columns=features_to_drop)\n",
    "    print(f\"Dropped features due to large bin size: {features_to_drop}\")\n",
    "    return X_dropped"
   ]
  },
  {
   "cell_type": "code",
   "execution_count": 11,
   "id": "ae2c1dad",
   "metadata": {
    "execution": {
     "iopub.execute_input": "2025-07-15T09:38:20.659253Z",
     "iopub.status.busy": "2025-07-15T09:38:20.658889Z",
     "iopub.status.idle": "2025-07-15T09:38:20.701488Z",
     "shell.execute_reply": "2025-07-15T09:38:20.700454Z"
    },
    "papermill": {
     "duration": 0.047537,
     "end_time": "2025-07-15T09:38:20.702714",
     "exception": false,
     "start_time": "2025-07-15T09:38:20.655177",
     "status": "completed"
    },
    "tags": []
   },
   "outputs": [
    {
     "name": "stdout",
     "output_type": "stream",
     "text": [
      "Training with 48 features. Train shape: (200000, 48), Test shape: (200000, 48)\n"
     ]
    }
   ],
   "source": [
    "features = [col for col in train_df.columns if col not in ['id', 'sale_price']]\n",
    "y= train_df['sale_price']\n",
    "X = train_df[features]\n",
    "X_test = test_df_processed[features]\n",
    "print(f\"Training with {len(features)} features. Train shape: {X.shape}, Test shape: {X_test.shape}\")"
   ]
  },
  {
   "cell_type": "code",
   "execution_count": 12,
   "id": "fe3a2006",
   "metadata": {
    "execution": {
     "iopub.execute_input": "2025-07-15T09:38:20.710814Z",
     "iopub.status.busy": "2025-07-15T09:38:20.710160Z",
     "iopub.status.idle": "2025-07-15T09:38:20.874006Z",
     "shell.execute_reply": "2025-07-15T09:38:20.873261Z"
    },
    "papermill": {
     "duration": 0.169061,
     "end_time": "2025-07-15T09:38:20.875284",
     "exception": false,
     "start_time": "2025-07-15T09:38:20.706223",
     "status": "completed"
    },
    "tags": []
   },
   "outputs": [
    {
     "name": "stdout",
     "output_type": "stream",
     "text": [
      "Dropped features due to large bin size: ['latitude', 'longitude', 'zoning', 'subdivision', 'land_val', 'imp_val', 'sqft_lot', 'sqft', 'sqft_1', 'sqft_fbsmt', 'garb_sqft', 'gara_sqft', 'months_since_first_sale']\n",
      "Dropped features due to large bin size: ['latitude', 'longitude', 'zoning', 'subdivision', 'land_val', 'imp_val', 'sqft_lot', 'sqft', 'sqft_1', 'sqft_fbsmt', 'garb_sqft', 'gara_sqft', 'months_since_first_sale']\n"
     ]
    }
   ],
   "source": [
    "X= remove_large_bin_features(X, max_bin_size)\n",
    "X_test= remove_large_bin_features(X_test, max_bin_size)"
   ]
  },
  {
   "cell_type": "code",
   "execution_count": 13,
   "id": "160e9b38",
   "metadata": {
    "execution": {
     "iopub.execute_input": "2025-07-15T09:38:20.883417Z",
     "iopub.status.busy": "2025-07-15T09:38:20.882975Z",
     "iopub.status.idle": "2025-07-15T09:38:20.888441Z",
     "shell.execute_reply": "2025-07-15T09:38:20.887888Z"
    },
    "papermill": {
     "duration": 0.010689,
     "end_time": "2025-07-15T09:38:20.889570",
     "exception": false,
     "start_time": "2025-07-15T09:38:20.878881",
     "status": "completed"
    },
    "tags": []
   },
   "outputs": [
    {
     "name": "stdout",
     "output_type": "stream",
     "text": [
      "\n",
      "--- Phase 2: Training with 5-Fold CV and prefit CQR ---\n"
     ]
    }
   ],
   "source": [
    "# --- 3. Cross-Validation Training with prefit=True ---\n",
    "print(f\"\\n--- Phase 2: Training with {CFG.N_SPLITS}-Fold CV and prefit CQR ---\")\n",
    "kf = KFold(n_splits=CFG.N_SPLITS, shuffle=True, random_state=CFG.SEED)\n",
    "\n",
    "oof_preds_lower = np.zeros(len(train_df))\n",
    "oof_preds_upper = np.zeros(len(train_df))\n",
    "test_preds_lower_sum = np.zeros(len(test_df_raw))\n",
    "test_preds_upper_sum = np.zeros(len(test_df_raw))\n",
    "fold_scores = []\n"
   ]
  },
  {
   "cell_type": "code",
   "execution_count": 14,
   "id": "06109048",
   "metadata": {
    "execution": {
     "iopub.execute_input": "2025-07-15T09:38:20.897410Z",
     "iopub.status.busy": "2025-07-15T09:38:20.897220Z",
     "iopub.status.idle": "2025-07-15T09:38:20.900525Z",
     "shell.execute_reply": "2025-07-15T09:38:20.900037Z"
    },
    "papermill": {
     "duration": 0.008499,
     "end_time": "2025-07-15T09:38:20.901486",
     "exception": false,
     "start_time": "2025-07-15T09:38:20.892987",
     "status": "completed"
    },
    "tags": []
   },
   "outputs": [],
   "source": [
    "# Define parameters for the three quantile models\n",
    "params_lower = {**CFG.LGBM_PARAMS, 'alpha': CFG.ALPHA / 2}\n",
    "params_median = {**CFG.LGBM_PARAMS, 'alpha': 0.5}\n",
    "params_upper = {**CFG.LGBM_PARAMS, 'alpha': 1 - (CFG.ALPHA / 2)}\n"
   ]
  },
  {
   "cell_type": "code",
   "execution_count": 15,
   "id": "3f6d2e55",
   "metadata": {
    "_cell_guid": "b1076dfc-b9ad-4769-8c92-a6c4dae69d19",
    "_uuid": "8f2839f25d086af736a60e9eeb907d3b93b6e0e5",
    "execution": {
     "iopub.execute_input": "2025-07-15T09:38:20.908816Z",
     "iopub.status.busy": "2025-07-15T09:38:20.908614Z",
     "iopub.status.idle": "2025-07-15T09:48:54.362473Z",
     "shell.execute_reply": "2025-07-15T09:48:54.361596Z"
    },
    "papermill": {
     "duration": 633.459355,
     "end_time": "2025-07-15T09:48:54.364153",
     "exception": false,
     "start_time": "2025-07-15T09:38:20.904798",
     "status": "completed"
    },
    "tags": []
   },
   "outputs": [
    {
     "name": "stdout",
     "output_type": "stream",
     "text": [
      "\n",
      "--- Fold 1/5 ---\n",
      "Fitting lower, median, and upper models...\n"
     ]
    },
    {
     "name": "stderr",
     "output_type": "stream",
     "text": [
      "1 warning generated.\n",
      "1 warning generated.\n",
      "1 warning generated.\n",
      "1 warning generated.\n",
      "1 warning generated.\n",
      "1 warning generated.\n",
      "1 warning generated.\n",
      "1 warning generated.\n",
      "1 warning generated.\n",
      "1 warning generated.\n",
      "1 warning generated.\n",
      "1 warning generated.\n",
      "1 warning generated.\n",
      "1 warning generated.\n",
      "1 warning generated.\n",
      "1 warning generated.\n",
      "1 warning generated.\n",
      "1 warning generated.\n",
      "1 warning generated.\n",
      "1 warning generated.\n",
      "1 warning generated.\n",
      "1 warning generated.\n",
      "1 warning generated.\n",
      "1 warning generated.\n",
      "1 warning generated.\n",
      "1 warning generated.\n",
      "1 warning generated.\n",
      "1 warning generated.\n",
      "1 warning generated.\n",
      "1 warning generated.\n",
      "1 warning generated.\n",
      "1 warning generated.\n",
      "1 warning generated.\n"
     ]
    },
    {
     "name": "stdout",
     "output_type": "stream",
     "text": [
      "Conformalizing models...\n",
      "Fold 1 Winkler Score: 418,185.74\n",
      "Predicting on test data...\n",
      "\n",
      "--- Fold 2/5 ---\n",
      "Fitting lower, median, and upper models...\n",
      "Conformalizing models...\n",
      "Fold 2 Winkler Score: 413,832.06\n",
      "Predicting on test data...\n",
      "\n",
      "--- Fold 3/5 ---\n",
      "Fitting lower, median, and upper models...\n",
      "Conformalizing models...\n",
      "Fold 3 Winkler Score: 422,942.83\n",
      "Predicting on test data...\n",
      "\n",
      "--- Fold 4/5 ---\n",
      "Fitting lower, median, and upper models...\n",
      "Conformalizing models...\n",
      "Fold 4 Winkler Score: 413,907.14\n",
      "Predicting on test data...\n",
      "\n",
      "--- Fold 5/5 ---\n",
      "Fitting lower, median, and upper models...\n",
      "Conformalizing models...\n",
      "Fold 5 Winkler Score: 415,177.91\n",
      "Predicting on test data...\n"
     ]
    }
   ],
   "source": [
    "for fold, (fit_idx, calib_idx) in enumerate(kf.split(X, y)):\n",
    "    print(f\"\\n--- Fold {fold+1}/{CFG.N_SPLITS} ---\")\n",
    "    X_fit, X_calib = X.iloc[fit_idx], X.iloc[calib_idx]\n",
    "    y_fit, y_calib = y.iloc[fit_idx], y.iloc[calib_idx]\n",
    "\n",
    "    # Step 1: Fit the three quantile models on the fitting dataset\n",
    "    print(\"Fitting lower, median, and upper models...\")\n",
    "    model_lower = lgb.LGBMRegressor(**params_lower)\n",
    "    model_median = lgb.LGBMRegressor(**params_median)\n",
    "    model_upper = lgb.LGBMRegressor(**params_upper)\n",
    "\n",
    "    callbacks = [lgb.early_stopping(100, verbose=False)]\n",
    "    model_lower.fit(X_fit, y_fit, eval_set=[(X_calib, y_calib)], callbacks=callbacks)\n",
    "    model_median.fit(X_fit, y_fit, eval_set=[(X_calib, y_calib)], callbacks=callbacks)\n",
    "    model_upper.fit(X_fit, y_fit, eval_set=[(X_calib, y_calib)], callbacks=callbacks)\n",
    "\n",
    "    # Step 2: Conformalize using the pre-fitted models and the calibration dataset\n",
    "    print(\"Conformalizing models...\")\n",
    "    mapie_cqr = ConformalizedQuantileRegressor(\n",
    "        estimator=[model_lower, model_upper, model_median], # [lower, upper, median] order\n",
    "        confidence_level=CFG.CONFIDENCE_LEVEL,\n",
    "        prefit=True\n",
    "    ).conformalize(X_calib, y_calib)\n",
    "\n",
    "    # Step 3: Generate OOF predictions for the calibration set\n",
    "    _, oof_pis = mapie_cqr.predict_interval(X_calib)\n",
    "    oof_preds_lower[calib_idx] = oof_pis[:, 0, 0]\n",
    "    oof_preds_upper[calib_idx] = oof_pis[:, 1, 0]\n",
    "\n",
    "    fold_score = winkler_score_func(y_calib, oof_pis[:, 0, 0], oof_pis[:, 1, 0])\n",
    "    fold_scores.append(fold_score)\n",
    "    print(f\"Fold {fold+1} Winkler Score: {fold_score:,.2f}\")\n",
    "\n",
    "    # Step 4: Generate predictions for the test set and accumulate them\n",
    "    print(\"Predicting on test data...\")\n",
    "    _, test_pis = mapie_cqr.predict_interval(X_test)\n",
    "    test_preds_lower_sum += test_pis[:, 0, 0]\n",
    "    test_preds_upper_sum += test_pis[:, 1, 0]\n"
   ]
  },
  {
   "cell_type": "code",
   "execution_count": 16,
   "id": "e1244228",
   "metadata": {
    "execution": {
     "iopub.execute_input": "2025-07-15T09:48:54.376321Z",
     "iopub.status.busy": "2025-07-15T09:48:54.376070Z",
     "iopub.status.idle": "2025-07-15T09:48:54.391169Z",
     "shell.execute_reply": "2025-07-15T09:48:54.390488Z"
    },
    "papermill": {
     "duration": 0.021719,
     "end_time": "2025-07-15T09:48:54.392218",
     "exception": false,
     "start_time": "2025-07-15T09:48:54.370499",
     "status": "completed"
    },
    "tags": []
   },
   "outputs": [
    {
     "name": "stdout",
     "output_type": "stream",
     "text": [
      "\n",
      "--- Phase 3: Final Evaluation and Submission ---\n",
      "\n",
      "Fold Scores: ['418,185.74', '413,832.06', '422,942.83', '413,907.14', '415,177.91']\n",
      "Overall OOF Winkler Score: 416,809.13\n"
     ]
    }
   ],
   "source": [
    "# --- 4. Final Evaluation and Submission ---\n",
    "print(\"\\n--- Phase 3: Final Evaluation and Submission ---\")\n",
    "\n",
    "overall_oof_score = winkler_score_func(y, oof_preds_lower, oof_preds_upper)\n",
    "print(f\"\\nFold Scores: {[f'{s:,.2f}' for s in fold_scores]}\")\n",
    "print(f\"Overall OOF Winkler Score: {overall_oof_score:,.2f}\")"
   ]
  },
  {
   "cell_type": "code",
   "execution_count": 17,
   "id": "9b4bad84",
   "metadata": {
    "execution": {
     "iopub.execute_input": "2025-07-15T09:48:54.402385Z",
     "iopub.status.busy": "2025-07-15T09:48:54.401915Z",
     "iopub.status.idle": "2025-07-15T09:48:54.405447Z",
     "shell.execute_reply": "2025-07-15T09:48:54.404920Z"
    },
    "papermill": {
     "duration": 0.009605,
     "end_time": "2025-07-15T09:48:54.406417",
     "exception": false,
     "start_time": "2025-07-15T09:48:54.396812",
     "status": "completed"
    },
    "tags": []
   },
   "outputs": [],
   "source": [
    "test_preds_lower = test_preds_lower_sum / CFG.N_SPLITS\n",
    "test_preds_upper = test_preds_upper_sum / CFG.N_SPLITS"
   ]
  },
  {
   "cell_type": "code",
   "execution_count": 18,
   "id": "2505addc",
   "metadata": {
    "execution": {
     "iopub.execute_input": "2025-07-15T09:48:54.416809Z",
     "iopub.status.busy": "2025-07-15T09:48:54.416308Z",
     "iopub.status.idle": "2025-07-15T09:48:55.115468Z",
     "shell.execute_reply": "2025-07-15T09:48:55.114775Z"
    },
    "papermill": {
     "duration": 0.705841,
     "end_time": "2025-07-15T09:48:55.116943",
     "exception": false,
     "start_time": "2025-07-15T09:48:54.411102",
     "status": "completed"
    },
    "tags": []
   },
   "outputs": [],
   "source": [
    "submission_df = pd.DataFrame({\n",
    "    'id': test_df_raw['id'],\n",
    "    'pi_lower': test_preds_lower,\n",
    "    'pi_upper': test_preds_upper\n",
    "})\n",
    "submission_df['pi_lower'] = np.minimum(submission_df['pi_lower'], submission_df['pi_upper'])\n",
    "submission_df.to_csv(os.path.join(CFG.OUTPUT_PATH, 'submission_baseline_cqr_prefit.csv'), index=False)"
   ]
  },
  {
   "cell_type": "code",
   "execution_count": 19,
   "id": "8cf43823",
   "metadata": {
    "execution": {
     "iopub.execute_input": "2025-07-15T09:48:55.128838Z",
     "iopub.status.busy": "2025-07-15T09:48:55.128565Z",
     "iopub.status.idle": "2025-07-15T09:48:55.140543Z",
     "shell.execute_reply": "2025-07-15T09:48:55.139835Z"
    },
    "papermill": {
     "duration": 0.019213,
     "end_time": "2025-07-15T09:48:55.141728",
     "exception": false,
     "start_time": "2025-07-15T09:48:55.122515",
     "status": "completed"
    },
    "tags": []
   },
   "outputs": [
    {
     "name": "stdout",
     "output_type": "stream",
     "text": [
      "\n",
      "Submission file 'submission_baseline_cqr_prefit.csv' has been created.\n",
      "       id       pi_lower      pi_upper\n",
      "0  200000  734145.268734  1.011723e+06\n",
      "1  200001  594100.945575  1.057966e+06\n",
      "2  200002  446530.538844  7.388241e+05\n",
      "3  200003  265542.412239  4.288918e+05\n",
      "4  200004  378696.421394  8.177293e+05\n"
     ]
    }
   ],
   "source": [
    "print(\"\\nSubmission file 'submission_baseline_cqr_prefit.csv' has been created.\")\n",
    "print(submission_df.head())"
   ]
  }
 ],
 "metadata": {
  "kaggle": {
   "accelerator": "gpu",
   "dataSources": [
    {
     "databundleVersionId": 11917221,
     "sourceId": 99650,
     "sourceType": "competition"
    }
   ],
   "dockerImageVersionId": 31040,
   "isGpuEnabled": true,
   "isInternetEnabled": true,
   "language": "python",
   "sourceType": "notebook"
  },
  "kernelspec": {
   "display_name": "Python 3",
   "language": "python",
   "name": "python3"
  },
  "language_info": {
   "codemirror_mode": {
    "name": "ipython",
    "version": 3
   },
   "file_extension": ".py",
   "mimetype": "text/x-python",
   "name": "python",
   "nbconvert_exporter": "python",
   "pygments_lexer": "ipython3",
   "version": "3.11.11"
  },
  "papermill": {
   "default_parameters": {},
   "duration": 660.23289,
   "end_time": "2025-07-15T09:48:55.965494",
   "environment_variables": {},
   "exception": null,
   "input_path": "__notebook__.ipynb",
   "output_path": "__notebook__.ipynb",
   "parameters": {},
   "start_time": "2025-07-15T09:37:55.732604",
   "version": "2.6.0"
  }
 },
 "nbformat": 4,
 "nbformat_minor": 5
}
